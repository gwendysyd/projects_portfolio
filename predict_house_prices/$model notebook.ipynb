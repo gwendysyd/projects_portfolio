{
 "cells": [
  {
   "cell_type": "markdown",
   "metadata": {},
   "source": [
    "# 1. Data Cleaning"
   ]
  },
  {
   "cell_type": "code",
   "execution_count": 79,
   "metadata": {},
   "outputs": [],
   "source": [
    "import pandas as pd\n",
    "import numpy as np\n",
    "import matplotlib.pyplot as plt\n",
    "\n",
    "train = pd.read_csv('train.csv')\n",
    "test = pd.read_csv('test.csv')\n",
    "\n",
    "#drop cols that contain irrelevant information or leak future information\n",
    "cols_to_drop = [\"Id\", \"MoSold\", \"SaleCondition\", \"SaleType\", \"YrSold\", 'GarageYrBlt','YearBuilt','YearRemodAdd']\n",
    "\n",
    "\n",
    "train['yr_built_to_sold'] = train['YrSold'] - train['YearBuilt']\n",
    "train['yr_rem_to_sold'] = train['YrSold'] - train['YearRemodAdd']\n",
    "test['yr_built_to_sold'] = test['YrSold'] - test['YearBuilt']\n",
    "test['yr_rem_to_sold'] = test['YrSold'] - test['YearRemodAdd']\n",
    "\n",
    "train = train.drop(cols_to_drop, axis=1)\n",
    "test = test.drop(cols_to_drop, axis=1)\n",
    "\n",
    "nul_cols = (train.isnull().sum())\n",
    "\n",
    "#drop columns that contain null values in their majority\n",
    "train = train.drop(['Alley','PoolQC','Fence','MiscFeature'], axis=1)\n",
    "test = test.drop(['Alley','PoolQC','Fence','MiscFeature'], axis=1)\n",
    "\n",
    "#handling null values\n",
    "nul_cols = (train.isnull().sum())\n",
    "\n",
    "cols_to_fix = nul_cols[nul_cols > 0]\n",
    "\n",
    "object_cols = train[cols_to_fix.index].select_dtypes(include=['object']).columns\n",
    "\n",
    "object_cols = object_cols.drop('FireplaceQu')\n",
    "for col in object_cols:\n",
    "    mode = train[col].mode()\n",
    "    train[col] = train[col].fillna(mode.iloc[0])\n",
    "    \n",
    "train['FireplaceQu'] = train['FireplaceQu'].fillna('NA')\n",
    "num_cols = train[cols_to_fix.index].select_dtypes(include=['float64']).columns\n",
    "\n",
    "#train['LotFrontage'] = train['LotFrontage'].fillna(train['LotFrontage'].mean())\n",
    "#train['MasVnrArea'] = train['MasVnrArea'].fillna(train['MasVnrArea'].median())\n",
    "#train['GarageYrBlt'] = train['GarageYrBlt'].fillna(train['GarageYrBlt'].mode().iloc[0])\n",
    "\n",
    "\n",
    "train['LotFrontage'] = train['LotFrontage'].fillna(train['LotFrontage'].mode().iloc[0])\n",
    "train['MasVnrArea'] = train['MasVnrArea'].fillna(train['MasVnrArea'].mode().iloc[0])\n",
    "\n",
    "train['MSSubClass'] = train['MSSubClass'].astype('category')"
   ]
  },
  {
   "cell_type": "markdown",
   "metadata": {},
   "source": [
    "# 2. Feature Engineering"
   ]
  },
  {
   "cell_type": "code",
   "execution_count": 80,
   "metadata": {},
   "outputs": [],
   "source": [
    "num_cols = train.select_dtypes(include=['float64','int64']).columns\n",
    "obj_cols = train.select_dtypes(include=['object']).columns"
   ]
  },
  {
   "cell_type": "code",
   "execution_count": 81,
   "metadata": {},
   "outputs": [],
   "source": [
    "#train[num_cols].info()"
   ]
  },
  {
   "cell_type": "markdown",
   "metadata": {},
   "source": [
    "#### rmse with all numeric values without transformation: 37,531"
   ]
  },
  {
   "cell_type": "code",
   "execution_count": 82,
   "metadata": {},
   "outputs": [
    {
     "data": {
      "text/plain": [
       "37531.659137504525"
      ]
     },
     "execution_count": 82,
     "metadata": {},
     "output_type": "execute_result"
    }
   ],
   "source": [
    "from sklearn.linear_model import LinearRegression\n",
    "from sklearn.metrics import mean_squared_error\n",
    "from sklearn.model_selection import train_test_split\n",
    "\n",
    "features = num_cols.drop('SalePrice')\n",
    "\n",
    "X, x, Y, y = train_test_split(train[features],train['SalePrice'], test_size = 0.2,random_state=1)\n",
    "\n",
    "\n",
    "lr = LinearRegression()\n",
    "lr.fit(X,Y)\n",
    "predictions = lr.predict(x)\n",
    "\n",
    "mse = mean_squared_error(predictions,y)\n",
    "mse**(1/2)"
   ]
  },
  {
   "cell_type": "markdown",
   "metadata": {},
   "source": [
    "## 2.1 Outliers (numeric cols)"
   ]
  },
  {
   "cell_type": "code",
   "execution_count": 83,
   "metadata": {},
   "outputs": [],
   "source": [
    "import numpy as np\n",
    "import matplotlib.pyplot as plt\n",
    "\n",
    "anomalies = []\n",
    "\n",
    "# Function to Detection Outlier on one-dimentional datasets.\n",
    "def find_anomalies(col):\n",
    "    # Set upper and lower limit to 3 standard deviation\n",
    "    data_std = col.std()\n",
    "    data_mean = col.mean()\n",
    "    anomaly_cut_off = data_std * 3\n",
    "    \n",
    "    lower_limit  = data_mean - anomaly_cut_off \n",
    "    upper_limit = data_mean + anomaly_cut_off\n",
    "    #print(lower_limit)\n",
    "    #print(upper_limit)\n",
    "    # Generate outliers\n",
    "    for outlier in col:\n",
    "        if type(outlier) != str:\n",
    "            if outlier > upper_limit or outlier < lower_limit:\n",
    "                anomalies.append(outlier)\n",
    "    return anomalies\n",
    "\n",
    "d = {}\n",
    "for col in num_cols:\n",
    "    anomalies = []\n",
    "    d[col] = find_anomalies(train[col])"
   ]
  },
  {
   "cell_type": "code",
   "execution_count": 84,
   "metadata": {},
   "outputs": [
    {
     "data": {
      "text/plain": [
       "(1460, 71)"
      ]
     },
     "execution_count": 84,
     "metadata": {},
     "output_type": "execute_result"
    }
   ],
   "source": [
    "train.shape"
   ]
  },
  {
   "cell_type": "code",
   "execution_count": 85,
   "metadata": {},
   "outputs": [
    {
     "data": {
      "text/plain": [
       "(1023, 71)"
      ]
     },
     "execution_count": 85,
     "metadata": {},
     "output_type": "execute_result"
    }
   ],
   "source": [
    "for k,v in d.items():\n",
    "    train = train[~train[k].isin(v)]\n",
    "    \n",
    "train.shape"
   ]
  },
  {
   "cell_type": "markdown",
   "metadata": {},
   "source": [
    "#### rmse after removal of outliers: 19,784"
   ]
  },
  {
   "cell_type": "code",
   "execution_count": 86,
   "metadata": {},
   "outputs": [
    {
     "data": {
      "text/plain": [
       "19784.879046521553"
      ]
     },
     "execution_count": 86,
     "metadata": {},
     "output_type": "execute_result"
    }
   ],
   "source": [
    "from sklearn.linear_model import LinearRegression\n",
    "from sklearn.metrics import mean_squared_error\n",
    "from sklearn.model_selection import train_test_split\n",
    "\n",
    "features = num_cols.drop('SalePrice')\n",
    "\n",
    "X, x, Y, y = train_test_split(train[features],train['SalePrice'], test_size = 0.2,random_state=1)\n",
    "\n",
    "\n",
    "lr = LinearRegression()\n",
    "lr.fit(X,Y)\n",
    "predictions = lr.predict(x)\n",
    "\n",
    "mse = mean_squared_error(predictions,y)\n",
    "mse**(1/2)"
   ]
  },
  {
   "cell_type": "markdown",
   "metadata": {},
   "source": [
    "## 2.2 Working on columns"
   ]
  },
  {
   "cell_type": "markdown",
   "metadata": {},
   "source": [
    "### 2.2.1 1stFlrSF, 2ndFlrSF, GrLivArea"
   ]
  },
  {
   "cell_type": "code",
   "execution_count": 87,
   "metadata": {},
   "outputs": [
    {
     "data": {
      "text/html": [
       "<div>\n",
       "<style scoped>\n",
       "    .dataframe tbody tr th:only-of-type {\n",
       "        vertical-align: middle;\n",
       "    }\n",
       "\n",
       "    .dataframe tbody tr th {\n",
       "        vertical-align: top;\n",
       "    }\n",
       "\n",
       "    .dataframe thead th {\n",
       "        text-align: right;\n",
       "    }\n",
       "</style>\n",
       "<table border=\"1\" class=\"dataframe\">\n",
       "  <thead>\n",
       "    <tr style=\"text-align: right;\">\n",
       "      <th></th>\n",
       "      <th>1stFlrSF</th>\n",
       "      <th>2ndFlrSF</th>\n",
       "      <th>GrLivArea</th>\n",
       "    </tr>\n",
       "  </thead>\n",
       "  <tbody>\n",
       "    <tr>\n",
       "      <th>0</th>\n",
       "      <td>856</td>\n",
       "      <td>854</td>\n",
       "      <td>1710</td>\n",
       "    </tr>\n",
       "    <tr>\n",
       "      <th>2</th>\n",
       "      <td>920</td>\n",
       "      <td>866</td>\n",
       "      <td>1786</td>\n",
       "    </tr>\n",
       "    <tr>\n",
       "      <th>4</th>\n",
       "      <td>1145</td>\n",
       "      <td>1053</td>\n",
       "      <td>2198</td>\n",
       "    </tr>\n",
       "    <tr>\n",
       "      <th>6</th>\n",
       "      <td>1694</td>\n",
       "      <td>0</td>\n",
       "      <td>1694</td>\n",
       "    </tr>\n",
       "    <tr>\n",
       "      <th>10</th>\n",
       "      <td>1040</td>\n",
       "      <td>0</td>\n",
       "      <td>1040</td>\n",
       "    </tr>\n",
       "    <tr>\n",
       "      <th>...</th>\n",
       "      <td>...</td>\n",
       "      <td>...</td>\n",
       "      <td>...</td>\n",
       "    </tr>\n",
       "    <tr>\n",
       "      <th>1452</th>\n",
       "      <td>1072</td>\n",
       "      <td>0</td>\n",
       "      <td>1072</td>\n",
       "    </tr>\n",
       "    <tr>\n",
       "      <th>1453</th>\n",
       "      <td>1140</td>\n",
       "      <td>0</td>\n",
       "      <td>1140</td>\n",
       "    </tr>\n",
       "    <tr>\n",
       "      <th>1454</th>\n",
       "      <td>1221</td>\n",
       "      <td>0</td>\n",
       "      <td>1221</td>\n",
       "    </tr>\n",
       "    <tr>\n",
       "      <th>1455</th>\n",
       "      <td>953</td>\n",
       "      <td>694</td>\n",
       "      <td>1647</td>\n",
       "    </tr>\n",
       "    <tr>\n",
       "      <th>1456</th>\n",
       "      <td>2073</td>\n",
       "      <td>0</td>\n",
       "      <td>2073</td>\n",
       "    </tr>\n",
       "  </tbody>\n",
       "</table>\n",
       "<p>1023 rows × 3 columns</p>\n",
       "</div>"
      ],
      "text/plain": [
       "      1stFlrSF  2ndFlrSF  GrLivArea\n",
       "0          856       854       1710\n",
       "2          920       866       1786\n",
       "4         1145      1053       2198\n",
       "6         1694         0       1694\n",
       "10        1040         0       1040\n",
       "...        ...       ...        ...\n",
       "1452      1072         0       1072\n",
       "1453      1140         0       1140\n",
       "1454      1221         0       1221\n",
       "1455       953       694       1647\n",
       "1456      2073         0       2073\n",
       "\n",
       "[1023 rows x 3 columns]"
      ]
     },
     "execution_count": 87,
     "metadata": {},
     "output_type": "execute_result"
    }
   ],
   "source": [
    "train[['1stFlrSF','2ndFlrSF','GrLivArea']]"
   ]
  },
  {
   "cell_type": "markdown",
   "metadata": {},
   "source": [
    "GrLivArea is the total of 1stFlrSF and 2ndFlrSF. We will remove the floor columns, and add a new column to indicate the number of floors each property has"
   ]
  },
  {
   "cell_type": "code",
   "execution_count": 88,
   "metadata": {},
   "outputs": [],
   "source": [
    "train['n_floors'] = train['2ndFlrSF'].apply(lambda x: 2 if x > 0 else 1)"
   ]
  },
  {
   "cell_type": "code",
   "execution_count": 89,
   "metadata": {},
   "outputs": [],
   "source": [
    "train = train.drop(['1stFlrSF','2ndFlrSF'], axis=1)"
   ]
  },
  {
   "cell_type": "markdown",
   "metadata": {},
   "source": [
    "### 2.2.2 Bathrooms"
   ]
  },
  {
   "cell_type": "code",
   "execution_count": 90,
   "metadata": {},
   "outputs": [],
   "source": [
    "bath_cols = ['BsmtFullBath','FullBath','BsmtHalfBath','HalfBath']\n",
    "train['n_baths'] = train['BsmtFullBath'] + train['FullBath'] + (train['BsmtHalfBath']/2) + (train['HalfBath']/2)\n",
    "#train[['BsmtFullBath','FullBath','BsmtHalfBath','HalfBath','n_baths']]\n",
    "train = train.drop(bath_cols, axis=1)"
   ]
  },
  {
   "cell_type": "markdown",
   "metadata": {},
   "source": [
    "### 2.2.3 Porch"
   ]
  },
  {
   "cell_type": "code",
   "execution_count": 91,
   "metadata": {},
   "outputs": [
    {
     "data": {
      "text/plain": [
       "{'OpenPorchSF': 571, 'EnclosedPorch': 125, '3SsnPorch': 1, 'ScreenPorch': 45}"
      ]
     },
     "execution_count": 91,
     "metadata": {},
     "output_type": "execute_result"
    }
   ],
   "source": [
    "porch_cols = ['OpenPorchSF','EnclosedPorch','3SsnPorch','ScreenPorch']\n",
    "\n",
    "porch_d = {}\n",
    "for col in porch_cols:\n",
    "    porch_d[col] = train[train[col] != 0].shape[0]\n",
    "\n",
    "porch_d"
   ]
  },
  {
   "cell_type": "markdown",
   "metadata": {},
   "source": [
    "Let's just add a column with total sum and remove these columns"
   ]
  },
  {
   "cell_type": "code",
   "execution_count": 92,
   "metadata": {},
   "outputs": [],
   "source": [
    "train['porch_area'] = train[porch_cols].sum(axis=1)\n",
    "train = train.drop(porch_cols, axis=1)"
   ]
  },
  {
   "cell_type": "markdown",
   "metadata": {},
   "source": [
    "### 2.2.4 MiscVal, MiscFeature"
   ]
  },
  {
   "cell_type": "code",
   "execution_count": 93,
   "metadata": {},
   "outputs": [
    {
     "data": {
      "text/plain": [
       "26"
      ]
     },
     "execution_count": 93,
     "metadata": {},
     "output_type": "execute_result"
    }
   ],
   "source": [
    "misc_cols = ['MiscVal'] #miscfeature was already dropped\n",
    "train[train['MiscVal']!=0].shape[0]"
   ]
  },
  {
   "cell_type": "markdown",
   "metadata": {},
   "source": [
    "Only 26 rows contain info, so we will also drop MiscVal"
   ]
  },
  {
   "cell_type": "code",
   "execution_count": 94,
   "metadata": {},
   "outputs": [],
   "source": [
    "train = train.drop(misc_cols,axis=1)"
   ]
  },
  {
   "cell_type": "markdown",
   "metadata": {},
   "source": [
    "### 2.2.5 Exteriors"
   ]
  },
  {
   "cell_type": "code",
   "execution_count": 95,
   "metadata": {},
   "outputs": [
    {
     "data": {
      "text/plain": [
       "104"
      ]
     },
     "execution_count": 95,
     "metadata": {},
     "output_type": "execute_result"
    }
   ],
   "source": [
    "ext_cols = ['Exterior1st','Exterior2nd']\n",
    "train['Exterior2nd'] = train['Exterior2nd'].replace('CmentBd', 'CemntBd')\n",
    "filter = train['Exterior1st'] != train['Exterior2nd']\n",
    "train[filter][['Exterior1st','Exterior2nd']].shape[0]"
   ]
  },
  {
   "cell_type": "markdown",
   "metadata": {},
   "source": [
    "We'll drop Exterior2nd as there are only 104 different values"
   ]
  },
  {
   "cell_type": "code",
   "execution_count": 96,
   "metadata": {},
   "outputs": [],
   "source": [
    "train = train.drop('Exterior2nd', axis = 1)"
   ]
  },
  {
   "cell_type": "markdown",
   "metadata": {},
   "source": [
    "### 2.2.6 Basement"
   ]
  },
  {
   "cell_type": "code",
   "execution_count": 97,
   "metadata": {},
   "outputs": [
    {
     "data": {
      "text/html": [
       "<div>\n",
       "<style scoped>\n",
       "    .dataframe tbody tr th:only-of-type {\n",
       "        vertical-align: middle;\n",
       "    }\n",
       "\n",
       "    .dataframe tbody tr th {\n",
       "        vertical-align: top;\n",
       "    }\n",
       "\n",
       "    .dataframe thead th {\n",
       "        text-align: right;\n",
       "    }\n",
       "</style>\n",
       "<table border=\"1\" class=\"dataframe\">\n",
       "  <thead>\n",
       "    <tr style=\"text-align: right;\">\n",
       "      <th></th>\n",
       "      <th>BsmtFinType1</th>\n",
       "      <th>BsmtFinType2</th>\n",
       "      <th>BsmtFinSF1</th>\n",
       "      <th>BsmtFinSF2</th>\n",
       "      <th>BsmtUnfSF</th>\n",
       "      <th>TotalBsmtSF</th>\n",
       "    </tr>\n",
       "  </thead>\n",
       "  <tbody>\n",
       "    <tr>\n",
       "      <th>0</th>\n",
       "      <td>GLQ</td>\n",
       "      <td>Unf</td>\n",
       "      <td>706</td>\n",
       "      <td>0</td>\n",
       "      <td>150</td>\n",
       "      <td>856</td>\n",
       "    </tr>\n",
       "    <tr>\n",
       "      <th>2</th>\n",
       "      <td>GLQ</td>\n",
       "      <td>Unf</td>\n",
       "      <td>486</td>\n",
       "      <td>0</td>\n",
       "      <td>434</td>\n",
       "      <td>920</td>\n",
       "    </tr>\n",
       "    <tr>\n",
       "      <th>4</th>\n",
       "      <td>GLQ</td>\n",
       "      <td>Unf</td>\n",
       "      <td>655</td>\n",
       "      <td>0</td>\n",
       "      <td>490</td>\n",
       "      <td>1145</td>\n",
       "    </tr>\n",
       "    <tr>\n",
       "      <th>6</th>\n",
       "      <td>GLQ</td>\n",
       "      <td>Unf</td>\n",
       "      <td>1369</td>\n",
       "      <td>0</td>\n",
       "      <td>317</td>\n",
       "      <td>1686</td>\n",
       "    </tr>\n",
       "    <tr>\n",
       "      <th>10</th>\n",
       "      <td>Rec</td>\n",
       "      <td>Unf</td>\n",
       "      <td>906</td>\n",
       "      <td>0</td>\n",
       "      <td>134</td>\n",
       "      <td>1040</td>\n",
       "    </tr>\n",
       "    <tr>\n",
       "      <th>...</th>\n",
       "      <td>...</td>\n",
       "      <td>...</td>\n",
       "      <td>...</td>\n",
       "      <td>...</td>\n",
       "      <td>...</td>\n",
       "      <td>...</td>\n",
       "    </tr>\n",
       "    <tr>\n",
       "      <th>1452</th>\n",
       "      <td>GLQ</td>\n",
       "      <td>Unf</td>\n",
       "      <td>547</td>\n",
       "      <td>0</td>\n",
       "      <td>0</td>\n",
       "      <td>547</td>\n",
       "    </tr>\n",
       "    <tr>\n",
       "      <th>1453</th>\n",
       "      <td>Unf</td>\n",
       "      <td>Unf</td>\n",
       "      <td>0</td>\n",
       "      <td>0</td>\n",
       "      <td>1140</td>\n",
       "      <td>1140</td>\n",
       "    </tr>\n",
       "    <tr>\n",
       "      <th>1454</th>\n",
       "      <td>GLQ</td>\n",
       "      <td>Unf</td>\n",
       "      <td>410</td>\n",
       "      <td>0</td>\n",
       "      <td>811</td>\n",
       "      <td>1221</td>\n",
       "    </tr>\n",
       "    <tr>\n",
       "      <th>1455</th>\n",
       "      <td>Unf</td>\n",
       "      <td>Unf</td>\n",
       "      <td>0</td>\n",
       "      <td>0</td>\n",
       "      <td>953</td>\n",
       "      <td>953</td>\n",
       "    </tr>\n",
       "    <tr>\n",
       "      <th>1456</th>\n",
       "      <td>ALQ</td>\n",
       "      <td>Rec</td>\n",
       "      <td>790</td>\n",
       "      <td>163</td>\n",
       "      <td>589</td>\n",
       "      <td>1542</td>\n",
       "    </tr>\n",
       "  </tbody>\n",
       "</table>\n",
       "<p>1023 rows × 6 columns</p>\n",
       "</div>"
      ],
      "text/plain": [
       "     BsmtFinType1 BsmtFinType2  BsmtFinSF1  BsmtFinSF2  BsmtUnfSF  TotalBsmtSF\n",
       "0             GLQ          Unf         706           0        150          856\n",
       "2             GLQ          Unf         486           0        434          920\n",
       "4             GLQ          Unf         655           0        490         1145\n",
       "6             GLQ          Unf        1369           0        317         1686\n",
       "10            Rec          Unf         906           0        134         1040\n",
       "...           ...          ...         ...         ...        ...          ...\n",
       "1452          GLQ          Unf         547           0          0          547\n",
       "1453          Unf          Unf           0           0       1140         1140\n",
       "1454          GLQ          Unf         410           0        811         1221\n",
       "1455          Unf          Unf           0           0        953          953\n",
       "1456          ALQ          Rec         790         163        589         1542\n",
       "\n",
       "[1023 rows x 6 columns]"
      ]
     },
     "execution_count": 97,
     "metadata": {},
     "output_type": "execute_result"
    }
   ],
   "source": [
    "bsmnt_cols = ['BsmtFinType1','BsmtFinType2','BsmtFinSF1','BsmtFinSF2','BsmtUnfSF','TotalBsmtSF']\n",
    "train[bsmnt_cols]"
   ]
  },
  {
   "cell_type": "markdown",
   "metadata": {},
   "source": [
    "#### Converting to dummies"
   ]
  },
  {
   "cell_type": "code",
   "execution_count": 98,
   "metadata": {},
   "outputs": [
    {
     "data": {
      "text/html": [
       "<div>\n",
       "<style scoped>\n",
       "    .dataframe tbody tr th:only-of-type {\n",
       "        vertical-align: middle;\n",
       "    }\n",
       "\n",
       "    .dataframe tbody tr th {\n",
       "        vertical-align: top;\n",
       "    }\n",
       "\n",
       "    .dataframe thead th {\n",
       "        text-align: right;\n",
       "    }\n",
       "</style>\n",
       "<table border=\"1\" class=\"dataframe\">\n",
       "  <thead>\n",
       "    <tr style=\"text-align: right;\">\n",
       "      <th></th>\n",
       "      <th>BsmtFinSF1</th>\n",
       "      <th>BsmtFinSF2</th>\n",
       "      <th>BsmtUnfSF</th>\n",
       "      <th>TotalBsmtSF</th>\n",
       "      <th>BsmtFinType1_ALQ</th>\n",
       "      <th>BsmtFinType1_BLQ</th>\n",
       "      <th>BsmtFinType1_GLQ</th>\n",
       "      <th>BsmtFinType1_LwQ</th>\n",
       "      <th>BsmtFinType1_Rec</th>\n",
       "      <th>BsmtFinType1_Unf</th>\n",
       "      <th>BsmtFinType2_ALQ</th>\n",
       "      <th>BsmtFinType2_BLQ</th>\n",
       "      <th>BsmtFinType2_GLQ</th>\n",
       "      <th>BsmtFinType2_LwQ</th>\n",
       "      <th>BsmtFinType2_Rec</th>\n",
       "      <th>BsmtFinType2_Unf</th>\n",
       "    </tr>\n",
       "  </thead>\n",
       "  <tbody>\n",
       "    <tr>\n",
       "      <th>0</th>\n",
       "      <td>706</td>\n",
       "      <td>0</td>\n",
       "      <td>150</td>\n",
       "      <td>856</td>\n",
       "      <td>0</td>\n",
       "      <td>0</td>\n",
       "      <td>1</td>\n",
       "      <td>0</td>\n",
       "      <td>0</td>\n",
       "      <td>0</td>\n",
       "      <td>0</td>\n",
       "      <td>0</td>\n",
       "      <td>0</td>\n",
       "      <td>0</td>\n",
       "      <td>0</td>\n",
       "      <td>1</td>\n",
       "    </tr>\n",
       "    <tr>\n",
       "      <th>2</th>\n",
       "      <td>486</td>\n",
       "      <td>0</td>\n",
       "      <td>434</td>\n",
       "      <td>920</td>\n",
       "      <td>0</td>\n",
       "      <td>0</td>\n",
       "      <td>1</td>\n",
       "      <td>0</td>\n",
       "      <td>0</td>\n",
       "      <td>0</td>\n",
       "      <td>0</td>\n",
       "      <td>0</td>\n",
       "      <td>0</td>\n",
       "      <td>0</td>\n",
       "      <td>0</td>\n",
       "      <td>1</td>\n",
       "    </tr>\n",
       "    <tr>\n",
       "      <th>4</th>\n",
       "      <td>655</td>\n",
       "      <td>0</td>\n",
       "      <td>490</td>\n",
       "      <td>1145</td>\n",
       "      <td>0</td>\n",
       "      <td>0</td>\n",
       "      <td>1</td>\n",
       "      <td>0</td>\n",
       "      <td>0</td>\n",
       "      <td>0</td>\n",
       "      <td>0</td>\n",
       "      <td>0</td>\n",
       "      <td>0</td>\n",
       "      <td>0</td>\n",
       "      <td>0</td>\n",
       "      <td>1</td>\n",
       "    </tr>\n",
       "    <tr>\n",
       "      <th>6</th>\n",
       "      <td>1369</td>\n",
       "      <td>0</td>\n",
       "      <td>317</td>\n",
       "      <td>1686</td>\n",
       "      <td>0</td>\n",
       "      <td>0</td>\n",
       "      <td>1</td>\n",
       "      <td>0</td>\n",
       "      <td>0</td>\n",
       "      <td>0</td>\n",
       "      <td>0</td>\n",
       "      <td>0</td>\n",
       "      <td>0</td>\n",
       "      <td>0</td>\n",
       "      <td>0</td>\n",
       "      <td>1</td>\n",
       "    </tr>\n",
       "    <tr>\n",
       "      <th>10</th>\n",
       "      <td>906</td>\n",
       "      <td>0</td>\n",
       "      <td>134</td>\n",
       "      <td>1040</td>\n",
       "      <td>0</td>\n",
       "      <td>0</td>\n",
       "      <td>0</td>\n",
       "      <td>0</td>\n",
       "      <td>1</td>\n",
       "      <td>0</td>\n",
       "      <td>0</td>\n",
       "      <td>0</td>\n",
       "      <td>0</td>\n",
       "      <td>0</td>\n",
       "      <td>0</td>\n",
       "      <td>1</td>\n",
       "    </tr>\n",
       "    <tr>\n",
       "      <th>...</th>\n",
       "      <td>...</td>\n",
       "      <td>...</td>\n",
       "      <td>...</td>\n",
       "      <td>...</td>\n",
       "      <td>...</td>\n",
       "      <td>...</td>\n",
       "      <td>...</td>\n",
       "      <td>...</td>\n",
       "      <td>...</td>\n",
       "      <td>...</td>\n",
       "      <td>...</td>\n",
       "      <td>...</td>\n",
       "      <td>...</td>\n",
       "      <td>...</td>\n",
       "      <td>...</td>\n",
       "      <td>...</td>\n",
       "    </tr>\n",
       "    <tr>\n",
       "      <th>1452</th>\n",
       "      <td>547</td>\n",
       "      <td>0</td>\n",
       "      <td>0</td>\n",
       "      <td>547</td>\n",
       "      <td>0</td>\n",
       "      <td>0</td>\n",
       "      <td>1</td>\n",
       "      <td>0</td>\n",
       "      <td>0</td>\n",
       "      <td>0</td>\n",
       "      <td>0</td>\n",
       "      <td>0</td>\n",
       "      <td>0</td>\n",
       "      <td>0</td>\n",
       "      <td>0</td>\n",
       "      <td>1</td>\n",
       "    </tr>\n",
       "    <tr>\n",
       "      <th>1453</th>\n",
       "      <td>0</td>\n",
       "      <td>0</td>\n",
       "      <td>1140</td>\n",
       "      <td>1140</td>\n",
       "      <td>0</td>\n",
       "      <td>0</td>\n",
       "      <td>0</td>\n",
       "      <td>0</td>\n",
       "      <td>0</td>\n",
       "      <td>1</td>\n",
       "      <td>0</td>\n",
       "      <td>0</td>\n",
       "      <td>0</td>\n",
       "      <td>0</td>\n",
       "      <td>0</td>\n",
       "      <td>1</td>\n",
       "    </tr>\n",
       "    <tr>\n",
       "      <th>1454</th>\n",
       "      <td>410</td>\n",
       "      <td>0</td>\n",
       "      <td>811</td>\n",
       "      <td>1221</td>\n",
       "      <td>0</td>\n",
       "      <td>0</td>\n",
       "      <td>1</td>\n",
       "      <td>0</td>\n",
       "      <td>0</td>\n",
       "      <td>0</td>\n",
       "      <td>0</td>\n",
       "      <td>0</td>\n",
       "      <td>0</td>\n",
       "      <td>0</td>\n",
       "      <td>0</td>\n",
       "      <td>1</td>\n",
       "    </tr>\n",
       "    <tr>\n",
       "      <th>1455</th>\n",
       "      <td>0</td>\n",
       "      <td>0</td>\n",
       "      <td>953</td>\n",
       "      <td>953</td>\n",
       "      <td>0</td>\n",
       "      <td>0</td>\n",
       "      <td>0</td>\n",
       "      <td>0</td>\n",
       "      <td>0</td>\n",
       "      <td>1</td>\n",
       "      <td>0</td>\n",
       "      <td>0</td>\n",
       "      <td>0</td>\n",
       "      <td>0</td>\n",
       "      <td>0</td>\n",
       "      <td>1</td>\n",
       "    </tr>\n",
       "    <tr>\n",
       "      <th>1456</th>\n",
       "      <td>790</td>\n",
       "      <td>163</td>\n",
       "      <td>589</td>\n",
       "      <td>1542</td>\n",
       "      <td>1</td>\n",
       "      <td>0</td>\n",
       "      <td>0</td>\n",
       "      <td>0</td>\n",
       "      <td>0</td>\n",
       "      <td>0</td>\n",
       "      <td>0</td>\n",
       "      <td>0</td>\n",
       "      <td>0</td>\n",
       "      <td>0</td>\n",
       "      <td>1</td>\n",
       "      <td>0</td>\n",
       "    </tr>\n",
       "  </tbody>\n",
       "</table>\n",
       "<p>1023 rows × 16 columns</p>\n",
       "</div>"
      ],
      "text/plain": [
       "      BsmtFinSF1  BsmtFinSF2  BsmtUnfSF  TotalBsmtSF  BsmtFinType1_ALQ  \\\n",
       "0            706           0        150          856                 0   \n",
       "2            486           0        434          920                 0   \n",
       "4            655           0        490         1145                 0   \n",
       "6           1369           0        317         1686                 0   \n",
       "10           906           0        134         1040                 0   \n",
       "...          ...         ...        ...          ...               ...   \n",
       "1452         547           0          0          547                 0   \n",
       "1453           0           0       1140         1140                 0   \n",
       "1454         410           0        811         1221                 0   \n",
       "1455           0           0        953          953                 0   \n",
       "1456         790         163        589         1542                 1   \n",
       "\n",
       "      BsmtFinType1_BLQ  BsmtFinType1_GLQ  BsmtFinType1_LwQ  BsmtFinType1_Rec  \\\n",
       "0                    0                 1                 0                 0   \n",
       "2                    0                 1                 0                 0   \n",
       "4                    0                 1                 0                 0   \n",
       "6                    0                 1                 0                 0   \n",
       "10                   0                 0                 0                 1   \n",
       "...                ...               ...               ...               ...   \n",
       "1452                 0                 1                 0                 0   \n",
       "1453                 0                 0                 0                 0   \n",
       "1454                 0                 1                 0                 0   \n",
       "1455                 0                 0                 0                 0   \n",
       "1456                 0                 0                 0                 0   \n",
       "\n",
       "      BsmtFinType1_Unf  BsmtFinType2_ALQ  BsmtFinType2_BLQ  BsmtFinType2_GLQ  \\\n",
       "0                    0                 0                 0                 0   \n",
       "2                    0                 0                 0                 0   \n",
       "4                    0                 0                 0                 0   \n",
       "6                    0                 0                 0                 0   \n",
       "10                   0                 0                 0                 0   \n",
       "...                ...               ...               ...               ...   \n",
       "1452                 0                 0                 0                 0   \n",
       "1453                 1                 0                 0                 0   \n",
       "1454                 0                 0                 0                 0   \n",
       "1455                 1                 0                 0                 0   \n",
       "1456                 0                 0                 0                 0   \n",
       "\n",
       "      BsmtFinType2_LwQ  BsmtFinType2_Rec  BsmtFinType2_Unf  \n",
       "0                    0                 0                 1  \n",
       "2                    0                 0                 1  \n",
       "4                    0                 0                 1  \n",
       "6                    0                 0                 1  \n",
       "10                   0                 0                 1  \n",
       "...                ...               ...               ...  \n",
       "1452                 0                 0                 1  \n",
       "1453                 0                 0                 1  \n",
       "1454                 0                 0                 1  \n",
       "1455                 0                 0                 1  \n",
       "1456                 0                 1                 0  \n",
       "\n",
       "[1023 rows x 16 columns]"
      ]
     },
     "execution_count": 98,
     "metadata": {},
     "output_type": "execute_result"
    }
   ],
   "source": [
    "bsm_dum = pd.get_dummies(train[bsmnt_cols])\n",
    "bsm_dum"
   ]
  },
  {
   "cell_type": "markdown",
   "metadata": {},
   "source": [
    "#### For each type of basement, we will replace 1 with the total of the finished area"
   ]
  },
  {
   "cell_type": "code",
   "execution_count": 99,
   "metadata": {},
   "outputs": [],
   "source": [
    "type1 = ['BsmtFinType1_ALQ', 'BsmtFinType1_BLQ', 'BsmtFinType1_GLQ',\n",
    "       'BsmtFinType1_LwQ', 'BsmtFinType1_Rec', 'BsmtFinType1_Unf']\n",
    "type2 = ['BsmtFinType2_ALQ', 'BsmtFinType2_BLQ', 'BsmtFinType2_GLQ',\n",
    "       'BsmtFinType2_LwQ', 'BsmtFinType2_Rec', 'BsmtFinType2_Unf']\n",
    "\n",
    "for i in range(len(bsm_dum)):\n",
    "    for col in type1:\n",
    "        if bsm_dum[col].iloc[i] == 1:\n",
    "            bsm_dum[col].iloc[i] = bsm_dum['BsmtFinSF1'].iloc[i]\n",
    "    for col in type2:\n",
    "        if bsm_dum[col].iloc[i] == 1:\n",
    "            bsm_dum[col].iloc[i] = bsm_dum['BsmtFinSF2'].iloc[i]"
   ]
  },
  {
   "cell_type": "code",
   "execution_count": 100,
   "metadata": {},
   "outputs": [
    {
     "data": {
      "text/html": [
       "<div>\n",
       "<style scoped>\n",
       "    .dataframe tbody tr th:only-of-type {\n",
       "        vertical-align: middle;\n",
       "    }\n",
       "\n",
       "    .dataframe tbody tr th {\n",
       "        vertical-align: top;\n",
       "    }\n",
       "\n",
       "    .dataframe thead th {\n",
       "        text-align: right;\n",
       "    }\n",
       "</style>\n",
       "<table border=\"1\" class=\"dataframe\">\n",
       "  <thead>\n",
       "    <tr style=\"text-align: right;\">\n",
       "      <th></th>\n",
       "      <th>BsmtFinSF1</th>\n",
       "      <th>BsmtFinSF2</th>\n",
       "      <th>BsmtUnfSF</th>\n",
       "      <th>TotalBsmtSF</th>\n",
       "      <th>BsmtFinType1_ALQ</th>\n",
       "      <th>BsmtFinType1_BLQ</th>\n",
       "      <th>BsmtFinType1_GLQ</th>\n",
       "      <th>BsmtFinType1_LwQ</th>\n",
       "      <th>BsmtFinType1_Rec</th>\n",
       "      <th>BsmtFinType1_Unf</th>\n",
       "      <th>BsmtFinType2_ALQ</th>\n",
       "      <th>BsmtFinType2_BLQ</th>\n",
       "      <th>BsmtFinType2_GLQ</th>\n",
       "      <th>BsmtFinType2_LwQ</th>\n",
       "      <th>BsmtFinType2_Rec</th>\n",
       "      <th>BsmtFinType2_Unf</th>\n",
       "    </tr>\n",
       "  </thead>\n",
       "  <tbody>\n",
       "    <tr>\n",
       "      <th>0</th>\n",
       "      <td>706</td>\n",
       "      <td>0</td>\n",
       "      <td>150</td>\n",
       "      <td>856</td>\n",
       "      <td>0</td>\n",
       "      <td>0</td>\n",
       "      <td>706</td>\n",
       "      <td>0</td>\n",
       "      <td>0</td>\n",
       "      <td>0</td>\n",
       "      <td>0</td>\n",
       "      <td>0</td>\n",
       "      <td>0</td>\n",
       "      <td>0</td>\n",
       "      <td>0</td>\n",
       "      <td>0</td>\n",
       "    </tr>\n",
       "    <tr>\n",
       "      <th>2</th>\n",
       "      <td>486</td>\n",
       "      <td>0</td>\n",
       "      <td>434</td>\n",
       "      <td>920</td>\n",
       "      <td>0</td>\n",
       "      <td>0</td>\n",
       "      <td>486</td>\n",
       "      <td>0</td>\n",
       "      <td>0</td>\n",
       "      <td>0</td>\n",
       "      <td>0</td>\n",
       "      <td>0</td>\n",
       "      <td>0</td>\n",
       "      <td>0</td>\n",
       "      <td>0</td>\n",
       "      <td>0</td>\n",
       "    </tr>\n",
       "    <tr>\n",
       "      <th>4</th>\n",
       "      <td>655</td>\n",
       "      <td>0</td>\n",
       "      <td>490</td>\n",
       "      <td>1145</td>\n",
       "      <td>0</td>\n",
       "      <td>0</td>\n",
       "      <td>655</td>\n",
       "      <td>0</td>\n",
       "      <td>0</td>\n",
       "      <td>0</td>\n",
       "      <td>0</td>\n",
       "      <td>0</td>\n",
       "      <td>0</td>\n",
       "      <td>0</td>\n",
       "      <td>0</td>\n",
       "      <td>0</td>\n",
       "    </tr>\n",
       "    <tr>\n",
       "      <th>6</th>\n",
       "      <td>1369</td>\n",
       "      <td>0</td>\n",
       "      <td>317</td>\n",
       "      <td>1686</td>\n",
       "      <td>0</td>\n",
       "      <td>0</td>\n",
       "      <td>1369</td>\n",
       "      <td>0</td>\n",
       "      <td>0</td>\n",
       "      <td>0</td>\n",
       "      <td>0</td>\n",
       "      <td>0</td>\n",
       "      <td>0</td>\n",
       "      <td>0</td>\n",
       "      <td>0</td>\n",
       "      <td>0</td>\n",
       "    </tr>\n",
       "    <tr>\n",
       "      <th>10</th>\n",
       "      <td>906</td>\n",
       "      <td>0</td>\n",
       "      <td>134</td>\n",
       "      <td>1040</td>\n",
       "      <td>0</td>\n",
       "      <td>0</td>\n",
       "      <td>0</td>\n",
       "      <td>0</td>\n",
       "      <td>906</td>\n",
       "      <td>0</td>\n",
       "      <td>0</td>\n",
       "      <td>0</td>\n",
       "      <td>0</td>\n",
       "      <td>0</td>\n",
       "      <td>0</td>\n",
       "      <td>0</td>\n",
       "    </tr>\n",
       "  </tbody>\n",
       "</table>\n",
       "</div>"
      ],
      "text/plain": [
       "    BsmtFinSF1  BsmtFinSF2  BsmtUnfSF  TotalBsmtSF  BsmtFinType1_ALQ  \\\n",
       "0          706           0        150          856                 0   \n",
       "2          486           0        434          920                 0   \n",
       "4          655           0        490         1145                 0   \n",
       "6         1369           0        317         1686                 0   \n",
       "10         906           0        134         1040                 0   \n",
       "\n",
       "    BsmtFinType1_BLQ  BsmtFinType1_GLQ  BsmtFinType1_LwQ  BsmtFinType1_Rec  \\\n",
       "0                  0               706                 0                 0   \n",
       "2                  0               486                 0                 0   \n",
       "4                  0               655                 0                 0   \n",
       "6                  0              1369                 0                 0   \n",
       "10                 0                 0                 0               906   \n",
       "\n",
       "    BsmtFinType1_Unf  BsmtFinType2_ALQ  BsmtFinType2_BLQ  BsmtFinType2_GLQ  \\\n",
       "0                  0                 0                 0                 0   \n",
       "2                  0                 0                 0                 0   \n",
       "4                  0                 0                 0                 0   \n",
       "6                  0                 0                 0                 0   \n",
       "10                 0                 0                 0                 0   \n",
       "\n",
       "    BsmtFinType2_LwQ  BsmtFinType2_Rec  BsmtFinType2_Unf  \n",
       "0                  0                 0                 0  \n",
       "2                  0                 0                 0  \n",
       "4                  0                 0                 0  \n",
       "6                  0                 0                 0  \n",
       "10                 0                 0                 0  "
      ]
     },
     "execution_count": 100,
     "metadata": {},
     "output_type": "execute_result"
    }
   ],
   "source": [
    "bsm_dum.head()"
   ]
  },
  {
   "cell_type": "markdown",
   "metadata": {},
   "source": [
    "#### We will keep a column with the total area unfinished, and will drop the converted columns, the total area of the basement, and the ones with unifinished status"
   ]
  },
  {
   "cell_type": "code",
   "execution_count": 101,
   "metadata": {},
   "outputs": [],
   "source": [
    "bsmnt_drop = ['BsmtFinSF1','BsmtFinSF2','TotalBsmtSF','BsmtFinType1_Unf','BsmtFinType2_Unf']"
   ]
  },
  {
   "cell_type": "code",
   "execution_count": 102,
   "metadata": {},
   "outputs": [],
   "source": [
    "train = train.drop(bsmnt_cols, axis = 1)\n",
    "train = pd.concat([train, bsm_dum], axis = 1)\n",
    "train = train.drop(bsmnt_drop, axis=1)"
   ]
  },
  {
   "cell_type": "code",
   "execution_count": 103,
   "metadata": {},
   "outputs": [
    {
     "data": {
      "text/plain": [
       "Index(['LotFrontage', 'LotArea', 'OverallQual', 'OverallCond', 'MasVnrArea',\n",
       "       'LowQualFinSF', 'GrLivArea', 'BedroomAbvGr', 'KitchenAbvGr',\n",
       "       'TotRmsAbvGrd', 'Fireplaces', 'GarageCars', 'GarageArea', 'WoodDeckSF',\n",
       "       'PoolArea', 'SalePrice', 'yr_built_to_sold', 'yr_rem_to_sold',\n",
       "       'n_floors', 'n_baths', 'porch_area', 'BsmtUnfSF', 'BsmtFinType1_ALQ',\n",
       "       'BsmtFinType1_BLQ', 'BsmtFinType1_GLQ', 'BsmtFinType1_LwQ',\n",
       "       'BsmtFinType1_Rec', 'BsmtFinType2_ALQ', 'BsmtFinType2_BLQ',\n",
       "       'BsmtFinType2_GLQ', 'BsmtFinType2_LwQ', 'BsmtFinType2_Rec'],\n",
       "      dtype='object')"
      ]
     },
     "execution_count": 103,
     "metadata": {},
     "output_type": "execute_result"
    }
   ],
   "source": [
    "num_cols = train.select_dtypes(include=['float64','int64','int32']).columns\n",
    "num_cols"
   ]
  },
  {
   "cell_type": "markdown",
   "metadata": {},
   "source": [
    "#### rmse after featuring: 19,925"
   ]
  },
  {
   "cell_type": "code",
   "execution_count": 104,
   "metadata": {},
   "outputs": [
    {
     "data": {
      "text/plain": [
       "19925.52393020673"
      ]
     },
     "execution_count": 104,
     "metadata": {},
     "output_type": "execute_result"
    }
   ],
   "source": [
    "from sklearn.linear_model import LinearRegression\n",
    "from sklearn.metrics import mean_squared_error\n",
    "from sklearn.model_selection import train_test_split\n",
    "\n",
    "features = num_cols.drop('SalePrice')\n",
    "\n",
    "X, x, Y, y = train_test_split(train[features],train['SalePrice'], test_size = 0.2,random_state=1)\n",
    "\n",
    "\n",
    "lr = LinearRegression()\n",
    "lr.fit(X,Y)\n",
    "predictions = lr.predict(x)\n",
    "\n",
    "mse = mean_squared_error(predictions,y)\n",
    "mse**(1/2)"
   ]
  },
  {
   "cell_type": "code",
   "execution_count": 105,
   "metadata": {},
   "outputs": [
    {
     "name": "stdout",
     "output_type": "stream",
     "text": [
      "\n",
      " mu = 172344.35 \n",
      " sigma = 63403.31\n",
      "\n"
     ]
    },
    {
     "data": {
      "image/png": "[encoded data removed]",
      "text/plain": [
       "<Figure size 432x288 with 1 Axes>"
      ]
     },
     "metadata": {
      "needs_background": "light"
     },
     "output_type": "display_data"
    },
    {
     "data": {
      "image/png": "[encoded data removed]",
      "text/plain": [
       "<Figure size 432x288 with 1 Axes>"
      ]
     },
     "metadata": {
      "needs_background": "light"
     },
     "output_type": "display_data"
    }
   ],
   "source": [
    "import seaborn as sns\n",
    "from scipy import stats\n",
    "from scipy.stats import norm, skew\n",
    "\n",
    "#distplot\n",
    "sns.distplot(train['SalePrice'] , fit=norm)\n",
    "\n",
    "(mu, sigma) = norm.fit(train['SalePrice'])\n",
    "print( '\\n mu = {:.2f} \\n sigma = {:.2f}\\n'.format(mu, sigma))\n",
    "\n",
    "plt.ylabel('Frequency')\n",
    "plt.title('SalePrice distribution')\n",
    "\n",
    "#probplot\n",
    "fig = plt.figure()\n",
    "res = stats.probplot(train['SalePrice'], plot=plt)\n",
    "plt.show()"
   ]
  },
  {
   "cell_type": "markdown",
   "metadata": {},
   "source": [
    "### Log transformation of target variable, as it is right skewed"
   ]
  },
  {
   "cell_type": "code",
   "execution_count": 106,
   "metadata": {},
   "outputs": [
    {
     "name": "stdout",
     "output_type": "stream",
     "text": [
      "\n",
      " mu = 11.99 \n",
      " sigma = 0.37\n",
      "\n"
     ]
    },
    {
     "data": {
      "image/png": "[encoded data removed]",
      "text/plain": [
       "<Figure size 432x288 with 1 Axes>"
      ]
     },
     "metadata": {
      "needs_background": "light"
     },
     "output_type": "display_data"
    },
    {
     "data": {
      "image/png": "[encoded data removed]",
      "text/plain": [
       "<Figure size 432x288 with 1 Axes>"
      ]
     },
     "metadata": {
      "needs_background": "light"
     },
     "output_type": "display_data"
    }
   ],
   "source": [
    "#log transform\n",
    "train[\"SalePrice\"] = np.log1p(train[\"SalePrice\"])\n",
    "\n",
    "#distplot\n",
    "sns.distplot(train['SalePrice'] , fit=norm);\n",
    "\n",
    "(mu, sigma) = norm.fit(train['SalePrice'])\n",
    "print( '\\n mu = {:.2f} \\n sigma = {:.2f}\\n'.format(mu, sigma))\n",
    "\n",
    "plt.ylabel('Frequency')\n",
    "plt.title('SalePrice distribution')\n",
    "\n",
    "#probplot\n",
    "fig = plt.figure()\n",
    "res = stats.probplot(train['SalePrice'], plot=plt)\n",
    "plt.show()"
   ]
  },
  {
   "cell_type": "markdown",
   "metadata": {},
   "source": [
    "### Skewed numerical features and Box Cox transformation"
   ]
  },
  {
   "cell_type": "code",
   "execution_count": 107,
   "metadata": {},
   "outputs": [
    {
     "data": {
      "text/html": [
       "<div>\n",
       "<style scoped>\n",
       "    .dataframe tbody tr th:only-of-type {\n",
       "        vertical-align: middle;\n",
       "    }\n",
       "\n",
       "    .dataframe tbody tr th {\n",
       "        vertical-align: top;\n",
       "    }\n",
       "\n",
       "    .dataframe thead th {\n",
       "        text-align: right;\n",
       "    }\n",
       "</style>\n",
       "<table border=\"1\" class=\"dataframe\">\n",
       "  <thead>\n",
       "    <tr style=\"text-align: right;\">\n",
       "      <th></th>\n",
       "      <th>Skew</th>\n",
       "    </tr>\n",
       "  </thead>\n",
       "  <tbody>\n",
       "    <tr>\n",
       "      <th>BsmtFinType2_ALQ</th>\n",
       "      <td>22.047321</td>\n",
       "    </tr>\n",
       "    <tr>\n",
       "      <th>BsmtFinType2_GLQ</th>\n",
       "      <td>21.900056</td>\n",
       "    </tr>\n",
       "    <tr>\n",
       "      <th>LowQualFinSF</th>\n",
       "      <td>16.413631</td>\n",
       "    </tr>\n",
       "    <tr>\n",
       "      <th>BsmtFinType2_BLQ</th>\n",
       "      <td>8.938417</td>\n",
       "    </tr>\n",
       "    <tr>\n",
       "      <th>BsmtFinType2_Rec</th>\n",
       "      <td>8.741559</td>\n",
       "    </tr>\n",
       "    <tr>\n",
       "      <th>BsmtFinType2_LwQ</th>\n",
       "      <td>8.139931</td>\n",
       "    </tr>\n",
       "    <tr>\n",
       "      <th>BsmtFinType1_LwQ</th>\n",
       "      <td>7.138941</td>\n",
       "    </tr>\n",
       "    <tr>\n",
       "      <th>BsmtFinType1_Rec</th>\n",
       "      <td>4.091781</td>\n",
       "    </tr>\n",
       "    <tr>\n",
       "      <th>BsmtFinType1_BLQ</th>\n",
       "      <td>3.723083</td>\n",
       "    </tr>\n",
       "    <tr>\n",
       "      <th>BsmtFinType1_ALQ</th>\n",
       "      <td>2.923060</td>\n",
       "    </tr>\n",
       "  </tbody>\n",
       "</table>\n",
       "</div>"
      ],
      "text/plain": [
       "                       Skew\n",
       "BsmtFinType2_ALQ  22.047321\n",
       "BsmtFinType2_GLQ  21.900056\n",
       "LowQualFinSF      16.413631\n",
       "BsmtFinType2_BLQ   8.938417\n",
       "BsmtFinType2_Rec   8.741559\n",
       "BsmtFinType2_LwQ   8.139931\n",
       "BsmtFinType1_LwQ   7.138941\n",
       "BsmtFinType1_Rec   4.091781\n",
       "BsmtFinType1_BLQ   3.723083\n",
       "BsmtFinType1_ALQ   2.923060"
      ]
     },
     "execution_count": 107,
     "metadata": {},
     "output_type": "execute_result"
    }
   ],
   "source": [
    "num_cols = list(train.select_dtypes(include=['float64','int64']).columns)\n",
    "num_cols.remove('SalePrice')\n",
    "\n",
    "# Check the skew of all numerical features\n",
    "skewed_feats = train[num_cols].apply(lambda x: skew(x.dropna())).sort_values(ascending=False)\n",
    "skewness = pd.DataFrame({'Skew' :skewed_feats})\n",
    "skewness.head(10)"
   ]
  },
  {
   "cell_type": "code",
   "execution_count": 108,
   "metadata": {},
   "outputs": [
    {
     "data": {
      "text/plain": [
       "<matplotlib.axes._subplots.AxesSubplot at 0x20425a59080>"
      ]
     },
     "execution_count": 108,
     "metadata": {},
     "output_type": "execute_result"
    },
    {
     "data": {
      "image/png": "[encoded data removed]",
      "text/plain": [
       "<Figure size 432x288 with 1 Axes>"
      ]
     },
     "metadata": {
      "needs_background": "light"
     },
     "output_type": "display_data"
    }
   ],
   "source": [
    "skewness.plot()"
   ]
  },
  {
   "cell_type": "code",
   "execution_count": 109,
   "metadata": {},
   "outputs": [
    {
     "name": "stdout",
     "output_type": "stream",
     "text": [
      "31 skewed features\n"
     ]
    }
   ],
   "source": [
    "#Box Cox Transformation of (highly) skewed features\n",
    "skewness = skewness[abs(skewness) > 0.75]\n",
    "print(skewness.shape[0], 'skewed features')\n",
    "\n",
    "from scipy.special import boxcox1p\n",
    "skewed_features = skewness.index\n",
    "lam = 0.15\n",
    "for feat in skewed_features:\n",
    "    train[feat] = boxcox1p(train[feat], lam)"
   ]
  },
  {
   "cell_type": "markdown",
   "metadata": {},
   "source": [
    "### 2.2.7 transforming rest of categorical to numerical"
   ]
  },
  {
   "cell_type": "code",
   "execution_count": 110,
   "metadata": {},
   "outputs": [
    {
     "data": {
      "text/plain": [
       "Index(['MSZoning', 'Street', 'LotShape', 'LandContour', 'Utilities',\n",
       "       'LotConfig', 'LandSlope', 'Neighborhood', 'Condition1', 'Condition2',\n",
       "       'BldgType', 'HouseStyle', 'RoofStyle', 'RoofMatl', 'Exterior1st',\n",
       "       'MasVnrType', 'ExterQual', 'ExterCond', 'Foundation', 'BsmtQual',\n",
       "       'BsmtCond', 'BsmtExposure', 'Heating', 'HeatingQC', 'CentralAir',\n",
       "       'Electrical', 'KitchenQual', 'Functional', 'FireplaceQu', 'GarageType',\n",
       "       'GarageFinish', 'GarageQual', 'GarageCond', 'PavedDrive'],\n",
       "      dtype='object')"
      ]
     },
     "execution_count": 110,
     "metadata": {},
     "output_type": "execute_result"
    }
   ],
   "source": [
    "obj_cols = train.select_dtypes(include=['object']).columns\n",
    "obj_cols"
   ]
  },
  {
   "cell_type": "code",
   "execution_count": 111,
   "metadata": {},
   "outputs": [
    {
     "name": "stdout",
     "output_type": "stream",
     "text": [
      "RL         799\n",
      "RM         149\n",
      "FV          60\n",
      "RH           9\n",
      "C (all)      6\n",
      "Name: MSZoning, dtype: int64\n",
      "null values:  0\n",
      "----------\n",
      "Pave    1021\n",
      "Grvl       2\n",
      "Name: Street, dtype: int64\n",
      "null values:  0\n",
      "----------\n",
      "Reg    669\n",
      "IR1    331\n",
      "IR2     18\n",
      "IR3      5\n",
      "Name: LotShape, dtype: int64\n",
      "null values:  0\n",
      "----------\n",
      "Lvl    941\n",
      "Bnk     37\n",
      "HLS     32\n",
      "Low     13\n",
      "Name: LandContour, dtype: int64\n",
      "null values:  0\n",
      "----------\n",
      "AllPub    1023\n",
      "Name: Utilities, dtype: int64\n",
      "null values:  0\n",
      "----------\n",
      "Inside     757\n",
      "Corner     170\n",
      "CulDSac     58\n",
      "FR2         34\n",
      "FR3          4\n",
      "Name: LotConfig, dtype: int64\n",
      "null values:  0\n",
      "----------\n",
      "Gtl    985\n",
      "Mod     37\n",
      "Sev      1\n",
      "Name: LandSlope, dtype: int64\n",
      "null values:  0\n",
      "----------\n",
      "NAmes      143\n",
      "CollgCr    137\n",
      "Somerst     78\n",
      "Edwards     77\n",
      "Gilbert     68\n",
      "OldTown     63\n",
      "Sawyer      52\n",
      "NridgHt     52\n",
      "NWAmes      42\n",
      "SawyerW     42\n",
      "BrkSide     40\n",
      "Mitchel     32\n",
      "Timber      28\n",
      "Crawfor     28\n",
      "IDOTRR      25\n",
      "NoRidge     23\n",
      "BrDale      15\n",
      "MeadowV     15\n",
      "StoneBr     15\n",
      "Blmngtn     15\n",
      "SWISU       11\n",
      "ClearCr      9\n",
      "NPkVill      7\n",
      "Veenker      5\n",
      "Blueste      1\n",
      "Name: Neighborhood, dtype: int64\n",
      "null values:  0\n",
      "----------\n",
      "Norm      907\n",
      "Feedr      49\n",
      "Artery     27\n",
      "RRAn       18\n",
      "PosN        8\n",
      "RRAe        8\n",
      "PosA        3\n",
      "RRNn        2\n",
      "RRNe        1\n",
      "Name: Condition1, dtype: int64\n",
      "null values:  0\n",
      "----------\n",
      "Norm     1019\n",
      "Feedr       3\n",
      "RRNn        1\n",
      "Name: Condition2, dtype: int64\n",
      "null values:  0\n",
      "----------\n",
      "1Fam      877\n",
      "TwnhsE     92\n",
      "Twnhs      41\n",
      "2fmCon      8\n",
      "Duplex      5\n",
      "Name: BldgType, dtype: int64\n",
      "null values:  0\n",
      "----------\n",
      "1Story    523\n",
      "2Story    315\n",
      "1.5Fin    100\n",
      "SLvl       44\n",
      "SFoyer     28\n",
      "1.5Unf     11\n",
      "2.5Unf      2\n",
      "Name: HouseStyle, dtype: int64\n",
      "null values:  0\n",
      "----------\n",
      "Gable      838\n",
      "Hip        174\n",
      "Gambrel      6\n",
      "Mansard      3\n",
      "Flat         2\n",
      "Name: RoofStyle, dtype: int64\n",
      "null values:  0\n",
      "----------\n",
      "CompShg    1019\n",
      "Tar&Grv       2\n",
      "WdShngl       1\n",
      "WdShake       1\n",
      "Name: RoofMatl, dtype: int64\n",
      "null values:  0\n",
      "----------\n",
      "VinylSd    407\n",
      "HdBoard    164\n",
      "MetalSd    159\n",
      "Wd Sdng    121\n",
      "Plywood     57\n",
      "CemntBd     41\n",
      "WdShing     22\n",
      "BrkFace     22\n",
      "AsbShng     13\n",
      "Stucco      13\n",
      "BrkComm      2\n",
      "CBlock       1\n",
      "ImStucc      1\n",
      "Name: Exterior1st, dtype: int64\n",
      "null values:  0\n",
      "----------\n",
      "None       613\n",
      "BrkFace    306\n",
      "Stone       97\n",
      "BrkCmn       7\n",
      "Name: MasVnrType, dtype: int64\n",
      "null values:  0\n",
      "----------\n",
      "TA    616\n",
      "Gd    383\n",
      "Ex     18\n",
      "Fa      6\n",
      "Name: ExterQual, dtype: int64\n",
      "null values:  0\n",
      "----------\n",
      "TA    920\n",
      "Gd     88\n",
      "Fa     15\n",
      "Name: ExterCond, dtype: int64\n",
      "null values:  0\n",
      "----------\n",
      "PConc     509\n",
      "CBlock    410\n",
      "BrkTil     89\n",
      "Slab       12\n",
      "Stone       2\n",
      "Wood        1\n",
      "Name: Foundation, dtype: int64\n",
      "null values:  0\n",
      "----------\n",
      "Gd    484\n",
      "TA    447\n",
      "Ex     69\n",
      "Fa     23\n",
      "Name: BsmtQual, dtype: int64\n",
      "null values:  0\n",
      "----------\n",
      "TA    954\n",
      "Gd     40\n",
      "Fa     29\n",
      "Name: BsmtCond, dtype: int64\n",
      "null values:  0\n",
      "----------\n",
      "No    717\n",
      "Av    164\n",
      "Mn     77\n",
      "Gd     65\n",
      "Name: BsmtExposure, dtype: int64\n",
      "null values:  0\n",
      "----------\n",
      "GasA     1007\n",
      "GasW        8\n",
      "Grav        6\n",
      "Wall        1\n",
      "Floor       1\n",
      "Name: Heating, dtype: int64\n",
      "null values:  0\n",
      "----------\n",
      "Ex    556\n",
      "TA    279\n",
      "Gd    160\n",
      "Fa     28\n",
      "Name: HeatingQC, dtype: int64\n",
      "null values:  0\n",
      "----------\n",
      "Y    973\n",
      "N     50\n",
      "Name: CentralAir, dtype: int64\n",
      "null values:  0\n",
      "----------\n",
      "SBrkr    944\n",
      "FuseA     61\n",
      "FuseF     17\n",
      "FuseP      1\n",
      "Name: Electrical, dtype: int64\n",
      "null values:  0\n",
      "----------\n",
      "TA    501\n",
      "Gd    446\n",
      "Ex     52\n",
      "Fa     24\n",
      "Name: KitchenQual, dtype: int64\n",
      "null values:  0\n",
      "----------\n",
      "Typ     964\n",
      "Min2     23\n",
      "Min1     21\n",
      "Maj1      7\n",
      "Mod       7\n",
      "Maj2      1\n",
      "Name: Functional, dtype: int64\n",
      "null values:  0\n",
      "----------\n",
      "NA    520\n",
      "Gd    252\n",
      "TA    211\n",
      "Fa     20\n",
      "Po     12\n",
      "Ex      8\n",
      "Name: FireplaceQu, dtype: int64\n",
      "null values:  0\n",
      "----------\n",
      "Attchd     673\n",
      "Detchd     274\n",
      "BuiltIn     61\n",
      "Basment     13\n",
      "CarPort      2\n",
      "Name: GarageType, dtype: int64\n",
      "null values:  0\n",
      "----------\n",
      "Unf    461\n",
      "RFn    315\n",
      "Fin    247\n",
      "Name: GarageFinish, dtype: int64\n",
      "null values:  0\n",
      "----------\n",
      "TA    978\n",
      "Fa     35\n",
      "Gd      7\n",
      "Ex      2\n",
      "Po      1\n",
      "Name: GarageQual, dtype: int64\n",
      "null values:  0\n",
      "----------\n",
      "TA    988\n",
      "Fa     25\n",
      "Gd      5\n",
      "Po      3\n",
      "Ex      2\n",
      "Name: GarageCond, dtype: int64\n",
      "null values:  0\n",
      "----------\n",
      "Y    950\n",
      "N     54\n",
      "P     19\n",
      "Name: PavedDrive, dtype: int64\n",
      "null values:  0\n",
      "----------\n"
     ]
    }
   ],
   "source": [
    "for col in obj_cols:\n",
    "    print(train[col].value_counts())\n",
    "    print('null values: ',train[col].isnull().sum())\n",
    "    print('----------')"
   ]
  },
  {
   "cell_type": "code",
   "execution_count": 112,
   "metadata": {},
   "outputs": [
    {
     "name": "stdout",
     "output_type": "stream",
     "text": [
      "Neighborhood 25\n",
      "Exterior1st 13\n",
      "Condition1 9\n",
      "HouseStyle 7\n",
      "Foundation 6\n",
      "Functional 6\n",
      "FireplaceQu 6\n",
      "MSZoning 5\n",
      "LotConfig 5\n",
      "BldgType 5\n",
      "RoofStyle 5\n",
      "Heating 5\n",
      "GarageType 5\n",
      "GarageQual 5\n",
      "GarageCond 5\n",
      "LotShape 4\n",
      "LandContour 4\n",
      "RoofMatl 4\n",
      "MasVnrType 4\n",
      "ExterQual 4\n",
      "BsmtQual 4\n",
      "BsmtExposure 4\n",
      "HeatingQC 4\n",
      "Electrical 4\n",
      "KitchenQual 4\n",
      "LandSlope 3\n",
      "Condition2 3\n",
      "ExterCond 3\n",
      "BsmtCond 3\n",
      "GarageFinish 3\n",
      "PavedDrive 3\n",
      "Street 2\n",
      "CentralAir 2\n",
      "Utilities 1\n"
     ]
    }
   ],
   "source": [
    "unique_vals = {}\n",
    "for col in obj_cols:\n",
    "    unique_vals[col] = len(train[col].unique())\n",
    "\n",
    "for val in sorted(unique_vals, key=unique_vals.get, reverse=True):\n",
    "    print(val, unique_vals[val])"
   ]
  },
  {
   "cell_type": "markdown",
   "metadata": {},
   "source": [
    "Neighborhood will give a lot of extra columns, so let's drop it"
   ]
  },
  {
   "cell_type": "code",
   "execution_count": 113,
   "metadata": {},
   "outputs": [],
   "source": [
    "train = train.drop('Neighborhood', axis = 1)\n",
    "obj_cols = obj_cols.drop('Neighborhood')"
   ]
  },
  {
   "cell_type": "markdown",
   "metadata": {},
   "source": [
    "#### Identify and drop columns in which a specific value is present in more than 90% of rows"
   ]
  },
  {
   "cell_type": "code",
   "execution_count": 114,
   "metadata": {},
   "outputs": [
    {
     "data": {
      "text/plain": [
       "['Street',\n",
       " 'LandContour',\n",
       " 'Utilities',\n",
       " 'LandSlope',\n",
       " 'Condition2',\n",
       " 'RoofMatl',\n",
       " 'BsmtCond',\n",
       " 'Heating',\n",
       " 'CentralAir',\n",
       " 'Electrical',\n",
       " 'Functional',\n",
       " 'GarageQual',\n",
       " 'GarageCond',\n",
       " 'PavedDrive']"
      ]
     },
     "execution_count": 114,
     "metadata": {},
     "output_type": "execute_result"
    }
   ],
   "source": [
    "cols_to_drop = []\n",
    "for col in obj_cols:\n",
    "    vls = train[col].value_counts(normalize=True)\n",
    "    for i in range(len(vls)):\n",
    "        if vls[i] > 0.9:\n",
    "            cols_to_drop.append(col)\n",
    "cols_to_drop"
   ]
  },
  {
   "cell_type": "code",
   "execution_count": 115,
   "metadata": {},
   "outputs": [],
   "source": [
    "train = train.drop(cols_to_drop, axis = 1)"
   ]
  },
  {
   "cell_type": "code",
   "execution_count": 116,
   "metadata": {},
   "outputs": [
    {
     "data": {
      "text/plain": [
       "Index(['MSZoning', 'LotShape', 'LotConfig', 'Condition1', 'BldgType',\n",
       "       'HouseStyle', 'RoofStyle', 'Exterior1st', 'MasVnrType', 'ExterQual',\n",
       "       'ExterCond', 'Foundation', 'BsmtQual', 'BsmtExposure', 'HeatingQC',\n",
       "       'KitchenQual', 'FireplaceQu', 'GarageType', 'GarageFinish'],\n",
       "      dtype='object')"
      ]
     },
     "execution_count": 116,
     "metadata": {},
     "output_type": "execute_result"
    }
   ],
   "source": [
    "obj_cols = train.select_dtypes(include=['object']).columns\n",
    "obj_cols"
   ]
  },
  {
   "cell_type": "markdown",
   "metadata": {},
   "source": [
    "#### Let's convert the rest of categorical columns to dummies"
   ]
  },
  {
   "cell_type": "code",
   "execution_count": 117,
   "metadata": {},
   "outputs": [
    {
     "data": {
      "text/html": [
       "<div>\n",
       "<style scoped>\n",
       "    .dataframe tbody tr th:only-of-type {\n",
       "        vertical-align: middle;\n",
       "    }\n",
       "\n",
       "    .dataframe tbody tr th {\n",
       "        vertical-align: top;\n",
       "    }\n",
       "\n",
       "    .dataframe thead th {\n",
       "        text-align: right;\n",
       "    }\n",
       "</style>\n",
       "<table border=\"1\" class=\"dataframe\">\n",
       "  <thead>\n",
       "    <tr style=\"text-align: right;\">\n",
       "      <th></th>\n",
       "      <th>MSSubClass</th>\n",
       "      <th>LotFrontage</th>\n",
       "      <th>LotArea</th>\n",
       "      <th>OverallQual</th>\n",
       "      <th>OverallCond</th>\n",
       "      <th>MasVnrArea</th>\n",
       "      <th>LowQualFinSF</th>\n",
       "      <th>GrLivArea</th>\n",
       "      <th>BedroomAbvGr</th>\n",
       "      <th>KitchenAbvGr</th>\n",
       "      <th>...</th>\n",
       "      <th>FireplaceQu_Po</th>\n",
       "      <th>FireplaceQu_TA</th>\n",
       "      <th>GarageType_Attchd</th>\n",
       "      <th>GarageType_Basment</th>\n",
       "      <th>GarageType_BuiltIn</th>\n",
       "      <th>GarageType_CarPort</th>\n",
       "      <th>GarageType_Detchd</th>\n",
       "      <th>GarageFinish_Fin</th>\n",
       "      <th>GarageFinish_RFn</th>\n",
       "      <th>GarageFinish_Unf</th>\n",
       "    </tr>\n",
       "  </thead>\n",
       "  <tbody>\n",
       "    <tr>\n",
       "      <th>0</th>\n",
       "      <td>60</td>\n",
       "      <td>5.831328</td>\n",
       "      <td>19.212182</td>\n",
       "      <td>2.440268</td>\n",
       "      <td>2.055642</td>\n",
       "      <td>8.059126</td>\n",
       "      <td>0.0</td>\n",
       "      <td>13.698888</td>\n",
       "      <td>1.540963</td>\n",
       "      <td>0.730463</td>\n",
       "      <td>...</td>\n",
       "      <td>0</td>\n",
       "      <td>0</td>\n",
       "      <td>1</td>\n",
       "      <td>0</td>\n",
       "      <td>0</td>\n",
       "      <td>0</td>\n",
       "      <td>0</td>\n",
       "      <td>0</td>\n",
       "      <td>1</td>\n",
       "      <td>0</td>\n",
       "    </tr>\n",
       "    <tr>\n",
       "      <th>2</th>\n",
       "      <td>60</td>\n",
       "      <td>5.914940</td>\n",
       "      <td>20.347241</td>\n",
       "      <td>2.440268</td>\n",
       "      <td>2.055642</td>\n",
       "      <td>7.646538</td>\n",
       "      <td>0.0</td>\n",
       "      <td>13.832085</td>\n",
       "      <td>1.540963</td>\n",
       "      <td>0.730463</td>\n",
       "      <td>...</td>\n",
       "      <td>0</td>\n",
       "      <td>1</td>\n",
       "      <td>1</td>\n",
       "      <td>0</td>\n",
       "      <td>0</td>\n",
       "      <td>0</td>\n",
       "      <td>0</td>\n",
       "      <td>0</td>\n",
       "      <td>1</td>\n",
       "      <td>0</td>\n",
       "    </tr>\n",
       "    <tr>\n",
       "      <th>4</th>\n",
       "      <td>60</td>\n",
       "      <td>6.314735</td>\n",
       "      <td>21.325160</td>\n",
       "      <td>2.602594</td>\n",
       "      <td>2.055642</td>\n",
       "      <td>9.391827</td>\n",
       "      <td>0.0</td>\n",
       "      <td>14.480029</td>\n",
       "      <td>1.820334</td>\n",
       "      <td>0.730463</td>\n",
       "      <td>...</td>\n",
       "      <td>0</td>\n",
       "      <td>1</td>\n",
       "      <td>1</td>\n",
       "      <td>0</td>\n",
       "      <td>0</td>\n",
       "      <td>0</td>\n",
       "      <td>0</td>\n",
       "      <td>0</td>\n",
       "      <td>1</td>\n",
       "      <td>0</td>\n",
       "    </tr>\n",
       "    <tr>\n",
       "      <th>6</th>\n",
       "      <td>20</td>\n",
       "      <td>6.098626</td>\n",
       "      <td>19.907529</td>\n",
       "      <td>2.602594</td>\n",
       "      <td>2.055642</td>\n",
       "      <td>7.944503</td>\n",
       "      <td>0.0</td>\n",
       "      <td>13.670207</td>\n",
       "      <td>1.540963</td>\n",
       "      <td>0.730463</td>\n",
       "      <td>...</td>\n",
       "      <td>0</td>\n",
       "      <td>0</td>\n",
       "      <td>1</td>\n",
       "      <td>0</td>\n",
       "      <td>0</td>\n",
       "      <td>0</td>\n",
       "      <td>0</td>\n",
       "      <td>0</td>\n",
       "      <td>1</td>\n",
       "      <td>0</td>\n",
       "    </tr>\n",
       "    <tr>\n",
       "      <th>10</th>\n",
       "      <td>20</td>\n",
       "      <td>5.968981</td>\n",
       "      <td>20.329199</td>\n",
       "      <td>2.055642</td>\n",
       "      <td>2.055642</td>\n",
       "      <td>0.000000</td>\n",
       "      <td>0.0</td>\n",
       "      <td>12.236143</td>\n",
       "      <td>1.540963</td>\n",
       "      <td>0.730463</td>\n",
       "      <td>...</td>\n",
       "      <td>0</td>\n",
       "      <td>0</td>\n",
       "      <td>0</td>\n",
       "      <td>0</td>\n",
       "      <td>0</td>\n",
       "      <td>0</td>\n",
       "      <td>1</td>\n",
       "      <td>0</td>\n",
       "      <td>0</td>\n",
       "      <td>1</td>\n",
       "    </tr>\n",
       "  </tbody>\n",
       "</table>\n",
       "<p>5 rows × 133 columns</p>\n",
       "</div>"
      ],
      "text/plain": [
       "   MSSubClass  LotFrontage    LotArea  OverallQual  OverallCond  MasVnrArea  \\\n",
       "0          60     5.831328  19.212182     2.440268     2.055642    8.059126   \n",
       "2          60     5.914940  20.347241     2.440268     2.055642    7.646538   \n",
       "4          60     6.314735  21.325160     2.602594     2.055642    9.391827   \n",
       "6          20     6.098626  19.907529     2.602594     2.055642    7.944503   \n",
       "10         20     5.968981  20.329199     2.055642     2.055642    0.000000   \n",
       "\n",
       "    LowQualFinSF  GrLivArea  BedroomAbvGr  KitchenAbvGr  ...  FireplaceQu_Po  \\\n",
       "0            0.0  13.698888      1.540963      0.730463  ...               0   \n",
       "2            0.0  13.832085      1.540963      0.730463  ...               0   \n",
       "4            0.0  14.480029      1.820334      0.730463  ...               0   \n",
       "6            0.0  13.670207      1.540963      0.730463  ...               0   \n",
       "10           0.0  12.236143      1.540963      0.730463  ...               0   \n",
       "\n",
       "    FireplaceQu_TA  GarageType_Attchd  GarageType_Basment  GarageType_BuiltIn  \\\n",
       "0                0                  1                   0                   0   \n",
       "2                1                  1                   0                   0   \n",
       "4                1                  1                   0                   0   \n",
       "6                0                  1                   0                   0   \n",
       "10               0                  0                   0                   0   \n",
       "\n",
       "    GarageType_CarPort  GarageType_Detchd  GarageFinish_Fin  GarageFinish_RFn  \\\n",
       "0                    0                  0                 0                 1   \n",
       "2                    0                  0                 0                 1   \n",
       "4                    0                  0                 0                 1   \n",
       "6                    0                  0                 0                 1   \n",
       "10                   0                  1                 0                 0   \n",
       "\n",
       "    GarageFinish_Unf  \n",
       "0                  0  \n",
       "2                  0  \n",
       "4                  0  \n",
       "6                  0  \n",
       "10                 1  \n",
       "\n",
       "[5 rows x 133 columns]"
      ]
     },
     "execution_count": 117,
     "metadata": {},
     "output_type": "execute_result"
    }
   ],
   "source": [
    "dummy_df = pd.get_dummies(train[obj_cols])\n",
    "train = train.drop(obj_cols, axis = 1)\n",
    "train = pd.concat([train, dummy_df], axis = 1)\n",
    "train.head()"
   ]
  },
  {
   "cell_type": "markdown",
   "metadata": {},
   "source": [
    "#### rmse after all transformations: 17,659"
   ]
  },
  {
   "cell_type": "code",
   "execution_count": 118,
   "metadata": {},
   "outputs": [
    {
     "name": "stdout",
     "output_type": "stream",
     "text": [
      "rmsle:  0.1172272519113809\n",
      "rmse:  17659.765916352477\n"
     ]
    }
   ],
   "source": [
    "from sklearn.linear_model import LinearRegression\n",
    "from sklearn.metrics import mean_squared_error\n",
    "from sklearn.model_selection import train_test_split\n",
    "\n",
    "features = train.columns.drop('SalePrice')\n",
    "\n",
    "X, x, Y, y = train_test_split(train[features],train['SalePrice'], test_size = 0.2,random_state=1)\n",
    "\n",
    "\n",
    "lr = LinearRegression()\n",
    "lr.fit(X,Y)\n",
    "predictions = lr.predict(x)\n",
    "\n",
    "mse = mean_squared_error(predictions,y)\n",
    "print('rmsle: ',mse**(1/2))\n",
    "\n",
    "mse = mean_squared_error(np.expm1(predictions),np.expm1(y))\n",
    "print('rmse: ', mse**(1/2))"
   ]
  },
  {
   "cell_type": "markdown",
   "metadata": {},
   "source": [
    "# 3. Feature Selection"
   ]
  },
  {
   "cell_type": "markdown",
   "metadata": {},
   "source": [
    "## 3.1 Collinearity with correlation"
   ]
  },
  {
   "cell_type": "code",
   "execution_count": 119,
   "metadata": {},
   "outputs": [
    {
     "data": {
      "text/plain": [
       "<matplotlib.axes._subplots.AxesSubplot at 0x20425a5fdd8>"
      ]
     },
     "execution_count": 119,
     "metadata": {},
     "output_type": "execute_result"
    },
    {
     "data": {
      "image/png": "[encoded data removed]",
      "text/plain": [
       "<Figure size 432x288 with 2 Axes>"
      ]
     },
     "metadata": {
      "needs_background": "light"
     },
     "output_type": "display_data"
    }
   ],
   "source": [
    "corrmat = train.corr()\n",
    "sorted_corrs = corrmat['SalePrice'].abs().sort_values()\n",
    "\n",
    "import seaborn as sns\n",
    "strong_corrs = sorted_corrs[sorted_corrs > 0.5]\n",
    "corrmat = train[strong_corrs.index].corr()\n",
    "sns.heatmap(corrmat)"
   ]
  },
  {
   "cell_type": "markdown",
   "metadata": {},
   "source": [
    "Columns that present collinearity:\n",
    "GarageArea and GarageCars: drop GarageCars\n",
    "TotRmsAbvGrd and GrLivArea: drop TotRmsAbvGrd"
   ]
  },
  {
   "cell_type": "code",
   "execution_count": 120,
   "metadata": {},
   "outputs": [],
   "source": [
    "train = train.drop(['GarageCars','TotRmsAbvGrd'], axis = 1)"
   ]
  },
  {
   "cell_type": "code",
   "execution_count": 121,
   "metadata": {},
   "outputs": [
    {
     "name": "stdout",
     "output_type": "stream",
     "text": [
      "rmsle:  0.11631123317388531\n",
      "rmse:  17561.09544173248\n"
     ]
    }
   ],
   "source": [
    "from sklearn.linear_model import LinearRegression\n",
    "from sklearn.metrics import mean_squared_error\n",
    "from sklearn.model_selection import train_test_split\n",
    "\n",
    "features = train.columns.drop('SalePrice')\n",
    "\n",
    "X, x, Y, y = train_test_split(train[features],train['SalePrice'], test_size = 0.2,random_state=1)\n",
    "\n",
    "\n",
    "lr = LinearRegression()\n",
    "lr.fit(X,Y)\n",
    "predictions = lr.predict(x)\n",
    "\n",
    "mse = mean_squared_error(predictions,y)\n",
    "print('rmsle: ',mse**(1/2))\n",
    "\n",
    "mse = mean_squared_error(np.expm1(predictions),np.expm1(y))\n",
    "print('rmse: ', mse**(1/2))"
   ]
  },
  {
   "cell_type": "markdown",
   "metadata": {},
   "source": [
    "## 3.3 Low variance"
   ]
  },
  {
   "cell_type": "code",
   "execution_count": 44,
   "metadata": {},
   "outputs": [],
   "source": [
    "# num_cols = list(train.select_dtypes(include=['float64','int64']).columns)\n",
    "# num_cols.remove('SalePrice')\n",
    "\n",
    "# X = (train[num_cols] - train[num_cols].min()) / (train[num_cols].max() - train[num_cols].min())\n",
    "# col_vars = pd.DataFrame(columns=['col','var'])\n",
    "# cols = []\n",
    "# varsa = []\n",
    "# for col in train[num_cols].columns:\n",
    "#     cols.append(col)\n",
    "#     varsa.append(X[col].var())\n",
    "# col_vars['col'] = cols\n",
    "# col_vars['var'] = varsa\n",
    "\n",
    "# col_vars[col_vars['var'] < 0.001]\n",
    "\n",
    "# low_var_cols = col_vars['col'][col_vars['var'] < 0.001]\n",
    "\n",
    "# train = train.drop(low_var_cols, axis = 1)"
   ]
  },
  {
   "cell_type": "markdown",
   "metadata": {},
   "source": [
    "#### rmse after dropping low variance cols: 17,473"
   ]
  },
  {
   "cell_type": "code",
   "execution_count": 45,
   "metadata": {},
   "outputs": [],
   "source": [
    "# from sklearn.linear_model import LinearRegression\n",
    "# from sklearn.metrics import mean_squared_error\n",
    "# from sklearn.model_selection import train_test_split\n",
    "\n",
    "# features = train.columns.drop('SalePrice')\n",
    "\n",
    "# X, x, Y, y = train_test_split(train[features],train['SalePrice'], test_size = 0.2,random_state=1)\n",
    "\n",
    "\n",
    "# lr = LinearRegression()\n",
    "# lr.fit(X,Y)\n",
    "# predictions = lr.predict(x)\n",
    "\n",
    "# mse = mean_squared_error(predictions,y)\n",
    "# print('rmsle: ',mse**(1/2))\n",
    "\n",
    "# mse = mean_squared_error(np.expm1(predictions),np.expm1(y))\n",
    "# print('rmse: ', mse**(1/2))"
   ]
  },
  {
   "cell_type": "markdown",
   "metadata": {},
   "source": [
    "## 3.4 Best columns per correlation"
   ]
  },
  {
   "cell_type": "code",
   "execution_count": 122,
   "metadata": {},
   "outputs": [],
   "source": [
    "best_feat = pd.DataFrame()\n",
    "\n",
    "best_featur = []\n",
    "best_rmse = []\n",
    "\n",
    "def get_feat(cols):\n",
    "    features = cols\n",
    "    for i in range(len(cols)-1):\n",
    "        X = train[features]\n",
    "        corrs = train[cols].corr()['SalePrice'].abs().sort_values()\n",
    "        \n",
    "        feat = features.drop('SalePrice')\n",
    "\n",
    "        X, x, Y, y = train_test_split(train[feat],train['SalePrice'], test_size = 0.2,random_state=1)\n",
    "\n",
    "        lr = LinearRegression()\n",
    "        lr.fit(X,Y)\n",
    "        predictions = lr.predict(x)\n",
    "\n",
    "        mse = mean_squared_error(predictions,y)\n",
    "\n",
    "        best_rmse.append(mse**(1/2))\n",
    "        best_featur.append(feat)\n",
    "        \n",
    "        if corrs.index[i] != 'SalePrice':\n",
    "            features = features.drop(corrs.index[i])\n",
    "            \n",
    "\n",
    "cols = train.columns\n",
    "get_feat(cols)\n",
    "best_feat['feat'] = best_featur\n",
    "best_feat['rmse'] = best_rmse"
   ]
  },
  {
   "cell_type": "code",
   "execution_count": 123,
   "metadata": {},
   "outputs": [
    {
     "data": {
      "text/html": [
       "<div>\n",
       "<style scoped>\n",
       "    .dataframe tbody tr th:only-of-type {\n",
       "        vertical-align: middle;\n",
       "    }\n",
       "\n",
       "    .dataframe tbody tr th {\n",
       "        vertical-align: top;\n",
       "    }\n",
       "\n",
       "    .dataframe thead th {\n",
       "        text-align: right;\n",
       "    }\n",
       "</style>\n",
       "<table border=\"1\" class=\"dataframe\">\n",
       "  <thead>\n",
       "    <tr style=\"text-align: right;\">\n",
       "      <th></th>\n",
       "      <th>feat</th>\n",
       "      <th>rmse</th>\n",
       "    </tr>\n",
       "  </thead>\n",
       "  <tbody>\n",
       "    <tr>\n",
       "      <th>38</th>\n",
       "      <td>Index(['MSSubClass', 'LotFrontage', 'LotArea',...</td>\n",
       "      <td>0.112357</td>\n",
       "    </tr>\n",
       "    <tr>\n",
       "      <th>37</th>\n",
       "      <td>Index(['MSSubClass', 'LotFrontage', 'LotArea',...</td>\n",
       "      <td>0.112406</td>\n",
       "    </tr>\n",
       "    <tr>\n",
       "      <th>33</th>\n",
       "      <td>Index(['MSSubClass', 'LotFrontage', 'LotArea',...</td>\n",
       "      <td>0.112466</td>\n",
       "    </tr>\n",
       "    <tr>\n",
       "      <th>34</th>\n",
       "      <td>Index(['MSSubClass', 'LotFrontage', 'LotArea',...</td>\n",
       "      <td>0.112466</td>\n",
       "    </tr>\n",
       "    <tr>\n",
       "      <th>36</th>\n",
       "      <td>Index(['MSSubClass', 'LotFrontage', 'LotArea',...</td>\n",
       "      <td>0.112469</td>\n",
       "    </tr>\n",
       "  </tbody>\n",
       "</table>\n",
       "</div>"
      ],
      "text/plain": [
       "                                                 feat      rmse\n",
       "38  Index(['MSSubClass', 'LotFrontage', 'LotArea',...  0.112357\n",
       "37  Index(['MSSubClass', 'LotFrontage', 'LotArea',...  0.112406\n",
       "33  Index(['MSSubClass', 'LotFrontage', 'LotArea',...  0.112466\n",
       "34  Index(['MSSubClass', 'LotFrontage', 'LotArea',...  0.112466\n",
       "36  Index(['MSSubClass', 'LotFrontage', 'LotArea',...  0.112469"
      ]
     },
     "execution_count": 123,
     "metadata": {},
     "output_type": "execute_result"
    }
   ],
   "source": [
    "best_feat.sort_values(by='rmse',ascending=True).head()"
   ]
  },
  {
   "cell_type": "code",
   "execution_count": 124,
   "metadata": {},
   "outputs": [],
   "source": [
    "bf = best_feat.sort_values(by='rmse',ascending=True).iloc[0,0]#loc[17,'feat']"
   ]
  },
  {
   "cell_type": "code",
   "execution_count": 125,
   "metadata": {},
   "outputs": [],
   "source": [
    "bf = pd.Series(bf)"
   ]
  },
  {
   "cell_type": "markdown",
   "metadata": {},
   "source": [
    "#### rmse after correlation loop: 17,302"
   ]
  },
  {
   "cell_type": "code",
   "execution_count": 126,
   "metadata": {},
   "outputs": [
    {
     "name": "stdout",
     "output_type": "stream",
     "text": [
      "rmsle:  0.11235749317316283\n",
      "rmse:  17302.61188761986\n"
     ]
    }
   ],
   "source": [
    "from sklearn.linear_model import LinearRegression\n",
    "from sklearn.metrics import mean_squared_error\n",
    "from sklearn.model_selection import train_test_split\n",
    "\n",
    "features = bf\n",
    "X, x, Y, y = train_test_split(train[features],train['SalePrice'], test_size = 0.2,random_state=1)\n",
    "\n",
    "\n",
    "lr = LinearRegression()\n",
    "lr.fit(X,Y)\n",
    "predictions = lr.predict(x)\n",
    "\n",
    "mse = mean_squared_error(predictions,y)\n",
    "print('rmsle: ',mse**(1/2))\n",
    "\n",
    "mse = mean_squared_error(np.expm1(predictions),np.expm1(y))\n",
    "print('rmse: ', mse**(1/2))"
   ]
  },
  {
   "cell_type": "markdown",
   "metadata": {},
   "source": [
    "## 3.5 Applying RFECV"
   ]
  },
  {
   "cell_type": "code",
   "execution_count": 127,
   "metadata": {},
   "outputs": [],
   "source": [
    "from sklearn.feature_selection import RFECV\n",
    "\n",
    "features = bf\n",
    "selector = RFECV(lr,cv=10)\n",
    "\n",
    "X, x, Y, y = train_test_split(train[features],train['SalePrice'], test_size = 0.2,random_state=1)\n",
    "\n",
    "selector.fit(X,Y)\n",
    "best_columns = list(X.columns[selector.support_])"
   ]
  },
  {
   "cell_type": "markdown",
   "metadata": {},
   "source": [
    "#### rmse after RFECV: 17,302 (no improvement)"
   ]
  },
  {
   "cell_type": "code",
   "execution_count": 128,
   "metadata": {},
   "outputs": [
    {
     "name": "stdout",
     "output_type": "stream",
     "text": [
      "rmsle:  0.11235749317316283\n",
      "rmse:  17302.61188761981\n"
     ]
    }
   ],
   "source": [
    "from sklearn.linear_model import LinearRegression\n",
    "from sklearn.metrics import mean_squared_error\n",
    "from sklearn.model_selection import train_test_split\n",
    "\n",
    "features = best_columns\n",
    "X, x, Y, y = train_test_split(train[features],train['SalePrice'], test_size = 0.2,random_state=1)\n",
    "\n",
    "\n",
    "lr = LinearRegression()\n",
    "lr.fit(X,Y)\n",
    "predictions = lr.predict(x)\n",
    "\n",
    "mse = mean_squared_error(predictions,y)\n",
    "print('rmsle: ',mse**(1/2))\n",
    "\n",
    "mse = mean_squared_error(np.expm1(predictions),np.expm1(y))\n",
    "print('rmse: ', mse**(1/2))"
   ]
  },
  {
   "cell_type": "markdown",
   "metadata": {},
   "source": [
    "** Note: applying RFECV before the correlation selection didn't get better results in this case"
   ]
  },
  {
   "cell_type": "markdown",
   "metadata": {},
   "source": [
    "# Modelling, averaging, stacking"
   ]
  },
  {
   "cell_type": "code",
   "execution_count": 129,
   "metadata": {},
   "outputs": [],
   "source": [
    "from sklearn.linear_model import ElasticNet, Lasso,  BayesianRidge, LassoLarsIC\n",
    "from sklearn.ensemble import RandomForestRegressor,  GradientBoostingRegressor\n",
    "from sklearn.kernel_ridge import KernelRidge\n",
    "from sklearn.pipeline import make_pipeline\n",
    "from sklearn.preprocessing import RobustScaler\n",
    "from sklearn.base import BaseEstimator, TransformerMixin, RegressorMixin, clone\n",
    "from sklearn.model_selection import KFold, cross_val_score, train_test_split\n",
    "from sklearn.metrics import mean_squared_error\n",
    "import xgboost as xgb\n",
    "import lightgbm as lgb"
   ]
  },
  {
   "cell_type": "code",
   "execution_count": 130,
   "metadata": {},
   "outputs": [],
   "source": [
    "import warnings\n",
    "def ignore_warn(*args, **kwargs):\n",
    "    pass                                                      \n",
    "warnings.warn = ignore_warn"
   ]
  },
  {
   "cell_type": "code",
   "execution_count": 131,
   "metadata": {},
   "outputs": [],
   "source": [
    "features = list(features)\n",
    "features.remove('MSSubClass')"
   ]
  },
  {
   "cell_type": "code",
   "execution_count": 133,
   "metadata": {},
   "outputs": [],
   "source": [
    "def rmse_cv(model):\n",
    "    n_folds = 5\n",
    "    kf = KFold(n_folds, shuffle=True, random_state=0).get_n_splits(train)\n",
    "    rmse = -cross_val_score(model, train[features], train['SalePrice'], scoring = 'neg_root_mean_squared_error', cv = kf)\n",
    "    return rmse"
   ]
  },
  {
   "cell_type": "code",
   "execution_count": 134,
   "metadata": {},
   "outputs": [
    {
     "name": "stdout",
     "output_type": "stream",
     "text": [
      "\n",
      "LinearRegression score: 0.1292 (0.0124)\n",
      "\n"
     ]
    }
   ],
   "source": [
    "lr = LinearRegression()\n",
    "score = rmse_cv(lr)\n",
    "print(\"\\nLinearRegression score: {:.4f} ({:.4f})\\n\".format(score.mean(), score.std()))"
   ]
  },
  {
   "cell_type": "code",
   "execution_count": 135,
   "metadata": {},
   "outputs": [
    {
     "name": "stdout",
     "output_type": "stream",
     "text": [
      "\n",
      "Lasso score: 0.1116 (0.0057)\n",
      "\n"
     ]
    }
   ],
   "source": [
    "lasso = make_pipeline(RobustScaler(), Lasso(alpha =0.0005, random_state=1))\n",
    "score = rmse_cv(lasso)\n",
    "print(\"\\nLasso score: {:.4f} ({:.4f})\\n\".format(score.mean(), score.std()))"
   ]
  },
  {
   "cell_type": "code",
   "execution_count": 136,
   "metadata": {},
   "outputs": [
    {
     "name": "stdout",
     "output_type": "stream",
     "text": [
      "ElasticNet score: 0.1116 (0.0055)\n",
      "\n"
     ]
    }
   ],
   "source": [
    "ENet = make_pipeline(RobustScaler(), ElasticNet(alpha=0.0005, l1_ratio=.9, random_state=3))\n",
    "score = rmse_cv(ENet)\n",
    "print(\"ElasticNet score: {:.4f} ({:.4f})\\n\".format(score.mean(), score.std()))"
   ]
  },
  {
   "cell_type": "code",
   "execution_count": 137,
   "metadata": {},
   "outputs": [
    {
     "name": "stdout",
     "output_type": "stream",
     "text": [
      "Kernel Ridge score: 0.1235 (0.0097)\n",
      "\n"
     ]
    }
   ],
   "source": [
    "KRR = KernelRidge(alpha=0.6, kernel='polynomial', degree=2, coef0=2.5)\n",
    "score = rmse_cv(KRR)\n",
    "print(\"Kernel Ridge score: {:.4f} ({:.4f})\\n\".format(score.mean(), score.std()))"
   ]
  },
  {
   "cell_type": "code",
   "execution_count": 138,
   "metadata": {},
   "outputs": [
    {
     "name": "stdout",
     "output_type": "stream",
     "text": [
      "Gradient Boosting score: 0.1175 (0.0094)\n",
      "\n"
     ]
    }
   ],
   "source": [
    "GBoost = GradientBoostingRegressor(n_estimators=3000, learning_rate=0.05,\n",
    "                                   max_depth=4, max_features='sqrt',\n",
    "                                   min_samples_leaf=15, min_samples_split=10, \n",
    "                                   loss='huber', random_state =5)\n",
    "score = rmse_cv(GBoost)\n",
    "print(\"Gradient Boosting score: {:.4f} ({:.4f})\\n\".format(score.mean(), score.std()))"
   ]
  },
  {
   "cell_type": "code",
   "execution_count": 139,
   "metadata": {},
   "outputs": [
    {
     "name": "stdout",
     "output_type": "stream",
     "text": [
      "Xgboost score: 0.1185 (0.0051)\n",
      "\n"
     ]
    }
   ],
   "source": [
    "model_xgb = xgb.XGBRegressor(colsample_bytree=0.4603, gamma=0.0468, \n",
    "                             learning_rate=0.05, max_depth=3, \n",
    "                             min_child_weight=1.7817, n_estimators=2200,\n",
    "                             reg_alpha=0.4640, reg_lambda=0.8571,\n",
    "                             subsample=0.5213, silent=1,\n",
    "                             random_state =7, nthread = -1)\n",
    "score = rmse_cv(model_xgb)\n",
    "print(\"Xgboost score: {:.4f} ({:.4f})\\n\".format(score.mean(), score.std()))"
   ]
  },
  {
   "cell_type": "code",
   "execution_count": 140,
   "metadata": {},
   "outputs": [
    {
     "name": "stdout",
     "output_type": "stream",
     "text": [
      "LGBM score: 0.1221 (0.0093)\n",
      "\n"
     ]
    }
   ],
   "source": [
    "model_lgb = lgb.LGBMRegressor(objective='regression',num_leaves=5,\n",
    "                              learning_rate=0.05, n_estimators=720,\n",
    "                              max_bin = 55, bagging_fraction = 0.8,\n",
    "                              bagging_freq = 5, feature_fraction = 0.2319,\n",
    "                              feature_fraction_seed=9, bagging_seed=9,\n",
    "                              min_data_in_leaf =6, min_sum_hessian_in_leaf = 11)\n",
    "\n",
    "score = rmse_cv(model_lgb)\n",
    "print(\"LGBM score: {:.4f} ({:.4f})\\n\" .format(score.mean(), score.std()))"
   ]
  },
  {
   "cell_type": "code",
   "execution_count": 141,
   "metadata": {},
   "outputs": [],
   "source": [
    "#Copypaste of averaging models class\n",
    "class AveragingModels(BaseEstimator, RegressorMixin, TransformerMixin):\n",
    "    def __init__(self, models):\n",
    "        self.models = models\n",
    "        \n",
    "    # we define clones of the original models to fit the data in\n",
    "    def fit(self, X, y):\n",
    "        self.models_ = [clone(x) for x in self.models]\n",
    "        \n",
    "        # Train cloned base models\n",
    "        for model in self.models_:\n",
    "            model.fit(X, y)\n",
    "\n",
    "        return self\n",
    "    \n",
    "    #Now we do the predictions for cloned models and average them\n",
    "    def predict(self, X):\n",
    "        predictions = np.column_stack([\n",
    "            model.predict(X) for model in self.models_\n",
    "        ])\n",
    "        return np.mean(predictions, axis=1)   "
   ]
  },
  {
   "cell_type": "code",
   "execution_count": 144,
   "metadata": {},
   "outputs": [
    {
     "name": "stdout",
     "output_type": "stream",
     "text": [
      " Averaged base models score: 0.1082 (0.0062)\n",
      "\n"
     ]
    }
   ],
   "source": [
    "averaged_models = AveragingModels(models = (ENet, GBoost, lasso)) #picking best performing\n",
    "\n",
    "score = rmse_cv(averaged_models)\n",
    "print(\" Averaged base models score: {:.4f} ({:.4f})\\n\".format(score.mean(), score.std()))"
   ]
  },
  {
   "cell_type": "markdown",
   "metadata": {},
   "source": [
    "# 3. Making predictions"
   ]
  },
  {
   "cell_type": "code",
   "execution_count": 145,
   "metadata": {},
   "outputs": [],
   "source": [
    "def clean(df):\n",
    "    cols_to_drop = [\"MoSold\", \"SaleCondition\", \"SaleType\", \"YrSold\", 'GarageYrBlt','YearBuilt','YearRemodAdd']\n",
    "    df['yr_built_to_sold'] = df['YrSold'] - df['YearBuilt']\n",
    "    df['yr_rem_to_sold'] = df['YrSold'] - df['YearRemodAdd']\n",
    "    df['MSSubClass'] = df['MSSubClass'].astype('category')\n",
    "    df = df.drop(cols_to_drop, axis=1)\n",
    "\n",
    "    nul_cols = (df.isnull().sum())\n",
    "\n",
    "    #drop columns that contain null values in their majority\n",
    "    df = df.drop(['Alley','PoolQC','Fence','MiscFeature'], axis=1)\n",
    "    \n",
    "    #handling null values\n",
    "    nul_cols = (df.isnull().sum())\n",
    "\n",
    "    cols_to_fix = nul_cols[nul_cols > 0]\n",
    "\n",
    "    object_cols = df[cols_to_fix.index].select_dtypes(include=['object']).columns\n",
    "\n",
    "    object_cols = object_cols.drop('FireplaceQu')\n",
    "    for col in object_cols:\n",
    "        mode = df[col].mode()\n",
    "        df[col] = df[col].fillna(mode.iloc[0])\n",
    "    \n",
    "    df['FireplaceQu'] = df['FireplaceQu'].fillna('NA')\n",
    "    num_cols = df[cols_to_fix.index].select_dtypes(include=['float64']).columns\n",
    "\n",
    "    for col in num_cols:\n",
    "        mode = df[col].mode()\n",
    "        df[col] = df[col].fillna(mode.iloc[0])\n",
    "    return df\n",
    "\n",
    "    \n",
    "    \n",
    "    \n",
    "def transform(df):\n",
    "    df['n_floors'] = df['2ndFlrSF'].apply(lambda x: 2 if x > 0 else 1)\n",
    "    df = df.drop(['1stFlrSF','2ndFlrSF'], axis=1)\n",
    "    \n",
    "    bath_cols = ['BsmtFullBath','FullBath','BsmtHalfBath','HalfBath']\n",
    "    df['n_baths'] = df['BsmtFullBath'] + df['FullBath'] + (df['BsmtHalfBath']/2) + (df['HalfBath']/2)\n",
    "\n",
    "    df = df.drop(bath_cols, axis=1)\n",
    "\n",
    "    porch_cols = ['OpenPorchSF','EnclosedPorch','3SsnPorch','ScreenPorch']\n",
    "\n",
    "    df['porch_area'] = df[porch_cols].sum(axis=1)\n",
    "    df = df.drop(porch_cols, axis=1)\n",
    "\n",
    "    misc_cols = ['MiscVal'] #miscfeature was already dropped\n",
    "    df = df.drop(misc_cols,axis=1)\n",
    "    df = df.drop('Exterior2nd', axis = 1)\n",
    "\n",
    "\n",
    "    bsmnt_cols = ['BsmtFinType1','BsmtFinType2','BsmtFinSF1','BsmtFinSF2','BsmtUnfSF','TotalBsmtSF']\n",
    "    bsm_dum = pd.get_dummies(df[bsmnt_cols])\n",
    "\n",
    "    type1 = ['BsmtFinType1_ALQ', 'BsmtFinType1_BLQ', 'BsmtFinType1_GLQ',\n",
    "       'BsmtFinType1_LwQ', 'BsmtFinType1_Rec', 'BsmtFinType1_Unf']\n",
    "    type2 = ['BsmtFinType2_ALQ', 'BsmtFinType2_BLQ', 'BsmtFinType2_GLQ',\n",
    "       'BsmtFinType2_LwQ', 'BsmtFinType2_Rec', 'BsmtFinType2_Unf']\n",
    "\n",
    "    for i in range(len(bsm_dum)):\n",
    "        for col in type1:\n",
    "            if bsm_dum[col].iloc[i] == 1:\n",
    "                bsm_dum[col].iloc[i] = bsm_dum['BsmtFinSF1'].iloc[i]\n",
    "        for col in type2:\n",
    "            if bsm_dum[col].iloc[i] == 1:\n",
    "                bsm_dum[col].iloc[i] = bsm_dum['BsmtFinSF2'].iloc[i]\n",
    "            \n",
    "    bsmnt_drop = ['BsmtFinSF1','BsmtFinSF2','TotalBsmtSF','BsmtFinType1_Unf','BsmtFinType2_Unf']\n",
    "    df = df.drop(bsmnt_cols, axis = 1)\n",
    "    df = pd.concat([df, bsm_dum], axis = 1)\n",
    "    df = df.drop(bsmnt_drop, axis=1)\n",
    "    num_cols = df.select_dtypes(include=['float64','int64','int32']).columns\n",
    "\n",
    "    cols_to_drop = ['Street',\n",
    "     'LandContour',\n",
    "     'Utilities',\n",
    "     'LandSlope',\n",
    "     'Condition2',\n",
    "     'RoofMatl',\n",
    "     'BsmtCond',\n",
    "     'Heating',\n",
    "     'CentralAir',\n",
    "     'Electrical',\n",
    "     'Functional',\n",
    "     'GarageQual',\n",
    "     'GarageCond',\n",
    "     'PavedDrive']\n",
    "\n",
    "    df = df.drop(cols_to_drop, axis = 1)\n",
    "\n",
    "    obj_cols = df.select_dtypes(include=['object']).columns\n",
    "\n",
    "    dummy_df = pd.get_dummies(df[obj_cols])\n",
    "    df = df.drop(obj_cols, axis = 1)\n",
    "    df = pd.concat([df, dummy_df], axis = 1)\n",
    "    return df"
   ]
  },
  {
   "cell_type": "code",
   "execution_count": 146,
   "metadata": {},
   "outputs": [],
   "source": [
    "test = pd.read_csv('test.csv')"
   ]
  },
  {
   "cell_type": "code",
   "execution_count": 147,
   "metadata": {},
   "outputs": [],
   "source": [
    "test = clean(test) "
   ]
  },
  {
   "cell_type": "code",
   "execution_count": 148,
   "metadata": {},
   "outputs": [],
   "source": [
    "test_cl = transform(test)\n",
    "test_cl['FireplaceQu_NA'] = 0"
   ]
  },
  {
   "cell_type": "code",
   "execution_count": 149,
   "metadata": {},
   "outputs": [],
   "source": [
    "for feat in skewed_features:\n",
    "    test_cl[feat] = boxcox1p(test_cl[feat], lam)"
   ]
  },
  {
   "cell_type": "code",
   "execution_count": 151,
   "metadata": {},
   "outputs": [],
   "source": [
    "test_cl = test_cl.replace(np.nan,0)\n",
    "test_cl = test_cl.replace(np.inf, 1)"
   ]
  },
  {
   "cell_type": "code",
   "execution_count": 152,
   "metadata": {},
   "outputs": [],
   "source": [
    "averaged_models.fit(train[bf],train['SalePrice'])\n",
    "predictions = averaged_models.predict(test_cl[bf])"
   ]
  },
  {
   "cell_type": "code",
   "execution_count": 153,
   "metadata": {},
   "outputs": [
    {
     "data": {
      "text/plain": [
       "array([11.67968181, 12.00063283, 12.13280853, ..., 12.02891117,\n",
       "       11.64859678, 12.27684156])"
      ]
     },
     "execution_count": 153,
     "metadata": {},
     "output_type": "execute_result"
    }
   ],
   "source": [
    "predictions"
   ]
  },
  {
   "cell_type": "code",
   "execution_count": 154,
   "metadata": {},
   "outputs": [],
   "source": [
    "test_cl['SalePrice'] = np.expm1(predictions)"
   ]
  },
  {
   "cell_type": "code",
   "execution_count": 155,
   "metadata": {},
   "outputs": [],
   "source": [
    "test_cl[['Id','SalePrice']].to_csv('sub3.csv', index=False)"
   ]
  }
 ],
 "metadata": {
  "kernelspec": {
   "display_name": "Python 3",
   "language": "python",
   "name": "python3"
  },
  "language_info": {
   "codemirror_mode": {
    "name": "ipython",
    "version": 3
   },
   "file_extension": ".py",
   "mimetype": "text/x-python",
   "name": "python",
   "nbconvert_exporter": "python",
   "pygments_lexer": "ipython3",
   "version": "3.7.3"
  }
 },
 "nbformat": 4,
 "nbformat_minor": 2
}
