{
 "cells": [
  {
   "cell_type": "code",
   "execution_count": 2,
   "metadata": {},
   "outputs": [
    {
     "name": "stderr",
     "output_type": "stream",
     "text": [
      "\n",
      "Bad key \"text.kerning_factor\" on line 4 in\n",
      "C:\\Users\\gherrera\\AppData\\Local\\Continuum\\anaconda3\\lib\\site-packages\\matplotlib\\mpl-data\\stylelib\\_classic_test_patch.mplstyle.\n",
      "You probably need to get an updated matplotlibrc file from\n",
      "http://github.com/matplotlib/matplotlib/blob/master/matplotlibrc.template\n",
      "or from the matplotlib source distribution\n"
     ]
    }
   ],
   "source": [
    "import pandas as pd\n",
    "import numpy as np\n",
    "import matplotlib.pyplot as plt\n",
    "from sklearn.metrics import mean_squared_error\n",
    "from sklearn.preprocessing import LabelEncoder\n",
    "\n",
    "import lightgbm as lgb\n",
    "import seaborn as sns\n",
    "color = sns.color_palette()\n",
    "sns.set_style('darkgrid')\n",
    "\n",
    "import warnings\n",
    "def ignore_warn(*args, **kwargs):\n",
    "    pass                                                      \n",
    "warnings.warn = ignore_warn \n",
    "\n",
    "train = pd.read_csv('sales_train.csv')\n",
    "items = pd.read_csv('items.csv')\n",
    "it_cat = pd.read_csv('item_categories.csv')\n",
    "shops = pd.read_csv('shops.csv')\n",
    "test = pd.read_csv('test.csv')"
   ]
  },
  {
   "cell_type": "markdown",
   "metadata": {},
   "source": [
    "## Data Cleaning"
   ]
  },
  {
   "cell_type": "code",
   "execution_count": 2,
   "metadata": {},
   "outputs": [
    {
     "name": "stdout",
     "output_type": "stream",
     "text": [
      "<class 'pandas.core.frame.DataFrame'>\n",
      "RangeIndex: 2935849 entries, 0 to 2935848\n",
      "Data columns (total 6 columns):\n",
      " #   Column          Dtype  \n",
      "---  ------          -----  \n",
      " 0   date            object \n",
      " 1   date_block_num  int64  \n",
      " 2   shop_id         int64  \n",
      " 3   item_id         int64  \n",
      " 4   item_price      float64\n",
      " 5   item_cnt_day    float64\n",
      "dtypes: float64(2), int64(3), object(1)\n",
      "memory usage: 134.4+ MB\n"
     ]
    }
   ],
   "source": [
    "train.info()"
   ]
  },
  {
   "cell_type": "code",
   "execution_count": 3,
   "metadata": {},
   "outputs": [],
   "source": [
    "#Discovered in discussions\n",
    "train.loc[train.shop_id == 0, 'shop_id'] = 57\n",
    "test.loc[test.shop_id == 0, 'shop_id'] = 57\n",
    "train.loc[train.shop_id == 1, 'shop_id'] = 58\n",
    "test.loc[test.shop_id == 1, 'shop_id'] = 58\n",
    "train.loc[train.shop_id == 10, 'shop_id'] = 11\n",
    "test.loc[test.shop_id == 10, 'shop_id'] = 11"
   ]
  },
  {
   "cell_type": "code",
   "execution_count": 4,
   "metadata": {},
   "outputs": [],
   "source": [
    "#train.isnull().sum()"
   ]
  },
  {
   "cell_type": "code",
   "execution_count": 5,
   "metadata": {},
   "outputs": [
    {
     "data": {
      "text/html": [
       "<div>\n",
       "<style scoped>\n",
       "    .dataframe tbody tr th:only-of-type {\n",
       "        vertical-align: middle;\n",
       "    }\n",
       "\n",
       "    .dataframe tbody tr th {\n",
       "        vertical-align: top;\n",
       "    }\n",
       "\n",
       "    .dataframe thead th {\n",
       "        text-align: right;\n",
       "    }\n",
       "</style>\n",
       "<table border=\"1\" class=\"dataframe\">\n",
       "  <thead>\n",
       "    <tr style=\"text-align: right;\">\n",
       "      <th></th>\n",
       "      <th>date_block_num</th>\n",
       "      <th>shop_id</th>\n",
       "      <th>item_id</th>\n",
       "      <th>item_price</th>\n",
       "      <th>item_cnt_day</th>\n",
       "    </tr>\n",
       "  </thead>\n",
       "  <tbody>\n",
       "    <tr>\n",
       "      <th>count</th>\n",
       "      <td>2935849.000</td>\n",
       "      <td>2935849.000</td>\n",
       "      <td>2935849.000</td>\n",
       "      <td>2935849.000</td>\n",
       "      <td>2935849.000</td>\n",
       "    </tr>\n",
       "    <tr>\n",
       "      <th>mean</th>\n",
       "      <td>14.570</td>\n",
       "      <td>33.311</td>\n",
       "      <td>10197.227</td>\n",
       "      <td>890.853</td>\n",
       "      <td>1.243</td>\n",
       "    </tr>\n",
       "    <tr>\n",
       "      <th>std</th>\n",
       "      <td>9.423</td>\n",
       "      <td>16.137</td>\n",
       "      <td>6324.297</td>\n",
       "      <td>1729.800</td>\n",
       "      <td>2.619</td>\n",
       "    </tr>\n",
       "    <tr>\n",
       "      <th>min</th>\n",
       "      <td>0.000</td>\n",
       "      <td>2.000</td>\n",
       "      <td>0.000</td>\n",
       "      <td>-1.000</td>\n",
       "      <td>-22.000</td>\n",
       "    </tr>\n",
       "    <tr>\n",
       "      <th>25%</th>\n",
       "      <td>7.000</td>\n",
       "      <td>22.000</td>\n",
       "      <td>4476.000</td>\n",
       "      <td>249.000</td>\n",
       "      <td>1.000</td>\n",
       "    </tr>\n",
       "    <tr>\n",
       "      <th>50%</th>\n",
       "      <td>14.000</td>\n",
       "      <td>31.000</td>\n",
       "      <td>9343.000</td>\n",
       "      <td>399.000</td>\n",
       "      <td>1.000</td>\n",
       "    </tr>\n",
       "    <tr>\n",
       "      <th>75%</th>\n",
       "      <td>23.000</td>\n",
       "      <td>48.000</td>\n",
       "      <td>15684.000</td>\n",
       "      <td>999.000</td>\n",
       "      <td>1.000</td>\n",
       "    </tr>\n",
       "    <tr>\n",
       "      <th>max</th>\n",
       "      <td>33.000</td>\n",
       "      <td>59.000</td>\n",
       "      <td>22169.000</td>\n",
       "      <td>307980.000</td>\n",
       "      <td>2169.000</td>\n",
       "    </tr>\n",
       "  </tbody>\n",
       "</table>\n",
       "</div>"
      ],
      "text/plain": [
       "       date_block_num     shop_id     item_id  item_price  item_cnt_day\n",
       "count     2935849.000 2935849.000 2935849.000 2935849.000   2935849.000\n",
       "mean           14.570      33.311   10197.227     890.853         1.243\n",
       "std             9.423      16.137    6324.297    1729.800         2.619\n",
       "min             0.000       2.000       0.000      -1.000       -22.000\n",
       "25%             7.000      22.000    4476.000     249.000         1.000\n",
       "50%            14.000      31.000    9343.000     399.000         1.000\n",
       "75%            23.000      48.000   15684.000     999.000         1.000\n",
       "max            33.000      59.000   22169.000  307980.000      2169.000"
      ]
     },
     "execution_count": 5,
     "metadata": {},
     "output_type": "execute_result"
    }
   ],
   "source": [
    "pd.set_option('display.float_format', lambda x: '%.3f' % x)\n",
    "train.describe()"
   ]
  },
  {
   "cell_type": "code",
   "execution_count": 6,
   "metadata": {},
   "outputs": [],
   "source": [
    "train = train[train['item_cnt_day'] < 1000]\n",
    "train = train[train['item_price'] < 100000]"
   ]
  },
  {
   "cell_type": "code",
   "execution_count": 7,
   "metadata": {},
   "outputs": [
    {
     "data": {
      "text/html": [
       "<div>\n",
       "<style scoped>\n",
       "    .dataframe tbody tr th:only-of-type {\n",
       "        vertical-align: middle;\n",
       "    }\n",
       "\n",
       "    .dataframe tbody tr th {\n",
       "        vertical-align: top;\n",
       "    }\n",
       "\n",
       "    .dataframe thead th {\n",
       "        text-align: right;\n",
       "    }\n",
       "</style>\n",
       "<table border=\"1\" class=\"dataframe\">\n",
       "  <thead>\n",
       "    <tr style=\"text-align: right;\">\n",
       "      <th></th>\n",
       "      <th>date</th>\n",
       "      <th>date_block_num</th>\n",
       "      <th>shop_id</th>\n",
       "      <th>item_id</th>\n",
       "      <th>item_price</th>\n",
       "      <th>item_cnt_day</th>\n",
       "    </tr>\n",
       "  </thead>\n",
       "  <tbody>\n",
       "    <tr>\n",
       "      <th>484683</th>\n",
       "      <td>15.05.2013</td>\n",
       "      <td>4</td>\n",
       "      <td>32</td>\n",
       "      <td>2973</td>\n",
       "      <td>-1.000</td>\n",
       "      <td>1.000</td>\n",
       "    </tr>\n",
       "  </tbody>\n",
       "</table>\n",
       "</div>"
      ],
      "text/plain": [
       "              date  date_block_num  shop_id  item_id  item_price  item_cnt_day\n",
       "484683  15.05.2013               4       32     2973      -1.000         1.000"
      ]
     },
     "execution_count": 7,
     "metadata": {},
     "output_type": "execute_result"
    }
   ],
   "source": [
    "train[train.item_price < 0]"
   ]
  },
  {
   "cell_type": "code",
   "execution_count": 8,
   "metadata": {},
   "outputs": [],
   "source": [
    "train = train.sort_values(by=['date','date_block_num','shop_id','item_id'], ascending = True)"
   ]
  },
  {
   "cell_type": "code",
   "execution_count": 9,
   "metadata": {},
   "outputs": [],
   "source": [
    "train['item_price'] = train['item_price'].replace(-1,np.nan)"
   ]
  },
  {
   "cell_type": "code",
   "execution_count": 10,
   "metadata": {},
   "outputs": [
    {
     "data": {
      "text/html": [
       "<div>\n",
       "<style scoped>\n",
       "    .dataframe tbody tr th:only-of-type {\n",
       "        vertical-align: middle;\n",
       "    }\n",
       "\n",
       "    .dataframe tbody tr th {\n",
       "        vertical-align: top;\n",
       "    }\n",
       "\n",
       "    .dataframe thead th {\n",
       "        text-align: right;\n",
       "    }\n",
       "</style>\n",
       "<table border=\"1\" class=\"dataframe\">\n",
       "  <thead>\n",
       "    <tr style=\"text-align: right;\">\n",
       "      <th></th>\n",
       "      <th>date</th>\n",
       "      <th>date_block_num</th>\n",
       "      <th>shop_id</th>\n",
       "      <th>item_id</th>\n",
       "      <th>item_price</th>\n",
       "      <th>item_cnt_day</th>\n",
       "    </tr>\n",
       "  </thead>\n",
       "  <tbody>\n",
       "    <tr>\n",
       "      <th>187844</th>\n",
       "      <td>05.02.2013</td>\n",
       "      <td>1</td>\n",
       "      <td>32</td>\n",
       "      <td>2973</td>\n",
       "      <td>2499.000</td>\n",
       "      <td>1.000</td>\n",
       "    </tr>\n",
       "    <tr>\n",
       "      <th>555026</th>\n",
       "      <td>05.06.2013</td>\n",
       "      <td>5</td>\n",
       "      <td>32</td>\n",
       "      <td>2973</td>\n",
       "      <td>1249.500</td>\n",
       "      <td>1.000</td>\n",
       "    </tr>\n",
       "    <tr>\n",
       "      <th>484684</th>\n",
       "      <td>06.05.2013</td>\n",
       "      <td>4</td>\n",
       "      <td>32</td>\n",
       "      <td>2973</td>\n",
       "      <td>2499.000</td>\n",
       "      <td>1.000</td>\n",
       "    </tr>\n",
       "    <tr>\n",
       "      <th>187845</th>\n",
       "      <td>14.02.2013</td>\n",
       "      <td>1</td>\n",
       "      <td>32</td>\n",
       "      <td>2973</td>\n",
       "      <td>2499.000</td>\n",
       "      <td>1.000</td>\n",
       "    </tr>\n",
       "    <tr>\n",
       "      <th>67433</th>\n",
       "      <td>15.01.2013</td>\n",
       "      <td>0</td>\n",
       "      <td>32</td>\n",
       "      <td>2973</td>\n",
       "      <td>2499.000</td>\n",
       "      <td>3.000</td>\n",
       "    </tr>\n",
       "    <tr>\n",
       "      <th>484683</th>\n",
       "      <td>15.05.2013</td>\n",
       "      <td>4</td>\n",
       "      <td>32</td>\n",
       "      <td>2973</td>\n",
       "      <td>nan</td>\n",
       "      <td>1.000</td>\n",
       "    </tr>\n",
       "    <tr>\n",
       "      <th>67432</th>\n",
       "      <td>17.01.2013</td>\n",
       "      <td>0</td>\n",
       "      <td>32</td>\n",
       "      <td>2973</td>\n",
       "      <td>2499.000</td>\n",
       "      <td>1.000</td>\n",
       "    </tr>\n",
       "    <tr>\n",
       "      <th>67431</th>\n",
       "      <td>18.01.2013</td>\n",
       "      <td>0</td>\n",
       "      <td>32</td>\n",
       "      <td>2973</td>\n",
       "      <td>2499.000</td>\n",
       "      <td>1.000</td>\n",
       "    </tr>\n",
       "    <tr>\n",
       "      <th>67430</th>\n",
       "      <td>21.01.2013</td>\n",
       "      <td>0</td>\n",
       "      <td>32</td>\n",
       "      <td>2973</td>\n",
       "      <td>2499.000</td>\n",
       "      <td>1.000</td>\n",
       "    </tr>\n",
       "    <tr>\n",
       "      <th>67429</th>\n",
       "      <td>22.01.2013</td>\n",
       "      <td>0</td>\n",
       "      <td>32</td>\n",
       "      <td>2973</td>\n",
       "      <td>2499.000</td>\n",
       "      <td>1.000</td>\n",
       "    </tr>\n",
       "    <tr>\n",
       "      <th>484682</th>\n",
       "      <td>23.05.2013</td>\n",
       "      <td>4</td>\n",
       "      <td>32</td>\n",
       "      <td>2973</td>\n",
       "      <td>1249.000</td>\n",
       "      <td>1.000</td>\n",
       "    </tr>\n",
       "    <tr>\n",
       "      <th>67428</th>\n",
       "      <td>25.01.2013</td>\n",
       "      <td>0</td>\n",
       "      <td>32</td>\n",
       "      <td>2973</td>\n",
       "      <td>2499.000</td>\n",
       "      <td>1.000</td>\n",
       "    </tr>\n",
       "    <tr>\n",
       "      <th>67427</th>\n",
       "      <td>29.01.2013</td>\n",
       "      <td>0</td>\n",
       "      <td>32</td>\n",
       "      <td>2973</td>\n",
       "      <td>2499.000</td>\n",
       "      <td>1.000</td>\n",
       "    </tr>\n",
       "  </tbody>\n",
       "</table>\n",
       "</div>"
      ],
      "text/plain": [
       "              date  date_block_num  shop_id  item_id  item_price  item_cnt_day\n",
       "187844  05.02.2013               1       32     2973    2499.000         1.000\n",
       "555026  05.06.2013               5       32     2973    1249.500         1.000\n",
       "484684  06.05.2013               4       32     2973    2499.000         1.000\n",
       "187845  14.02.2013               1       32     2973    2499.000         1.000\n",
       "67433   15.01.2013               0       32     2973    2499.000         3.000\n",
       "484683  15.05.2013               4       32     2973         nan         1.000\n",
       "67432   17.01.2013               0       32     2973    2499.000         1.000\n",
       "67431   18.01.2013               0       32     2973    2499.000         1.000\n",
       "67430   21.01.2013               0       32     2973    2499.000         1.000\n",
       "67429   22.01.2013               0       32     2973    2499.000         1.000\n",
       "484682  23.05.2013               4       32     2973    1249.000         1.000\n",
       "67428   25.01.2013               0       32     2973    2499.000         1.000\n",
       "67427   29.01.2013               0       32     2973    2499.000         1.000"
      ]
     },
     "execution_count": 10,
     "metadata": {},
     "output_type": "execute_result"
    }
   ],
   "source": [
    "train[(train.shop_id == 32) & (train.item_id == 2973)]"
   ]
  },
  {
   "cell_type": "code",
   "execution_count": 11,
   "metadata": {},
   "outputs": [],
   "source": [
    "train.loc[484683,'item_price'] = 2499"
   ]
  },
  {
   "cell_type": "code",
   "execution_count": 12,
   "metadata": {},
   "outputs": [],
   "source": [
    "#plt.boxplot(train['item_cnt_day'])\n",
    "#plt.boxplot(train['item_price'])"
   ]
  },
  {
   "cell_type": "code",
   "execution_count": 13,
   "metadata": {},
   "outputs": [
    {
     "data": {
      "text/html": [
       "<div>\n",
       "<style scoped>\n",
       "    .dataframe tbody tr th:only-of-type {\n",
       "        vertical-align: middle;\n",
       "    }\n",
       "\n",
       "    .dataframe tbody tr th {\n",
       "        vertical-align: top;\n",
       "    }\n",
       "\n",
       "    .dataframe thead th {\n",
       "        text-align: right;\n",
       "    }\n",
       "</style>\n",
       "<table border=\"1\" class=\"dataframe\">\n",
       "  <thead>\n",
       "    <tr style=\"text-align: right;\">\n",
       "      <th></th>\n",
       "      <th>date</th>\n",
       "      <th>date_block_num</th>\n",
       "      <th>shop_id</th>\n",
       "      <th>item_id</th>\n",
       "      <th>item_price</th>\n",
       "      <th>item_cnt_day</th>\n",
       "    </tr>\n",
       "  </thead>\n",
       "  <tbody>\n",
       "    <tr>\n",
       "      <th>32569</th>\n",
       "      <td>01.01.2013</td>\n",
       "      <td>0</td>\n",
       "      <td>2</td>\n",
       "      <td>991</td>\n",
       "      <td>99.000</td>\n",
       "      <td>1.000</td>\n",
       "    </tr>\n",
       "    <tr>\n",
       "      <th>32552</th>\n",
       "      <td>01.01.2013</td>\n",
       "      <td>0</td>\n",
       "      <td>2</td>\n",
       "      <td>1472</td>\n",
       "      <td>2599.000</td>\n",
       "      <td>1.000</td>\n",
       "    </tr>\n",
       "    <tr>\n",
       "      <th>32632</th>\n",
       "      <td>01.01.2013</td>\n",
       "      <td>0</td>\n",
       "      <td>2</td>\n",
       "      <td>1905</td>\n",
       "      <td>249.000</td>\n",
       "      <td>1.000</td>\n",
       "    </tr>\n",
       "    <tr>\n",
       "      <th>32459</th>\n",
       "      <td>01.01.2013</td>\n",
       "      <td>0</td>\n",
       "      <td>2</td>\n",
       "      <td>2920</td>\n",
       "      <td>599.000</td>\n",
       "      <td>2.000</td>\n",
       "    </tr>\n",
       "    <tr>\n",
       "      <th>32504</th>\n",
       "      <td>01.01.2013</td>\n",
       "      <td>0</td>\n",
       "      <td>2</td>\n",
       "      <td>3320</td>\n",
       "      <td>1999.000</td>\n",
       "      <td>1.000</td>\n",
       "    </tr>\n",
       "  </tbody>\n",
       "</table>\n",
       "</div>"
      ],
      "text/plain": [
       "             date  date_block_num  shop_id  item_id  item_price  item_cnt_day\n",
       "32569  01.01.2013               0        2      991      99.000         1.000\n",
       "32552  01.01.2013               0        2     1472    2599.000         1.000\n",
       "32632  01.01.2013               0        2     1905     249.000         1.000\n",
       "32459  01.01.2013               0        2     2920     599.000         2.000\n",
       "32504  01.01.2013               0        2     3320    1999.000         1.000"
      ]
     },
     "execution_count": 13,
     "metadata": {},
     "output_type": "execute_result"
    }
   ],
   "source": [
    "train.head()"
   ]
  },
  {
   "cell_type": "markdown",
   "metadata": {},
   "source": [
    "## Feature Engineering"
   ]
  },
  {
   "cell_type": "code",
   "execution_count": 14,
   "metadata": {},
   "outputs": [
    {
     "data": {
      "text/plain": [
       "2935846"
      ]
     },
     "execution_count": 14,
     "metadata": {},
     "output_type": "execute_result"
    }
   ],
   "source": [
    "train.shape[0]"
   ]
  },
  {
   "cell_type": "code",
   "execution_count": 15,
   "metadata": {},
   "outputs": [],
   "source": [
    "#DataFrame with last price of itmes per shop and per month (will be used to assign price to items after unstacking)\n",
    "sim_prices = train[['date_block_num','shop_id','item_id','item_price']].drop_duplicates(['date_block_num','shop_id','item_id'],keep='last').reset_index(drop=True)"
   ]
  },
  {
   "cell_type": "code",
   "execution_count": 16,
   "metadata": {},
   "outputs": [],
   "source": [
    "#Concatenating datasets\n",
    "n_train = len(train)\n",
    "n_test = len(test)\n",
    "test_id = test['ID']\n",
    "test['date_block_num'] = 34\n",
    "all_data = pd.concat((train, test)).reset_index(drop=True)\n",
    "all_data.drop('ID', axis=1, inplace = True)"
   ]
  },
  {
   "cell_type": "code",
   "execution_count": 17,
   "metadata": {},
   "outputs": [
    {
     "name": "stdout",
     "output_type": "stream",
     "text": [
      "test:  214200 \n",
      "train:  2935846 \n",
      "all:  3150046\n"
     ]
    }
   ],
   "source": [
    "print('test: ', test.shape[0],'\\ntrain: ', train.shape[0], '\\nall: ', all_data.shape[0])"
   ]
  },
  {
   "cell_type": "code",
   "execution_count": 18,
   "metadata": {},
   "outputs": [],
   "source": [
    "from datetime import datetime\n",
    "all_data['date'] = pd.to_datetime(all_data['date'], format=\"%d.%m.%Y\")\n",
    "all_data['date'] = pd.to_datetime(all_data['date'], format=\"%d.%m.%Y\")\n",
    "#all_data['weekday'] = all_data['date'].dt.weekday\n",
    "all_data['monthyear'] = pd.DatetimeIndex(all_data['date']).month"
   ]
  },
  {
   "cell_type": "code",
   "execution_count": 19,
   "metadata": {},
   "outputs": [],
   "source": [
    "#all_data[all_data.date_block_num == 33]\n",
    "all_data.loc[all_data.date_block_num == 34,'monthyear'] = 11"
   ]
  },
  {
   "cell_type": "code",
   "execution_count": 20,
   "metadata": {},
   "outputs": [],
   "source": [
    "ms = pd.Series(all_data['date_block_num'].unique())\n",
    "wkn_df = pd.DataFrame()\n",
    "wknds = []\n",
    "for m in ms:\n",
    "    temp = all_data[all_data['date_block_num'] == m]\n",
    "    wds = pd.Series(temp['date'].unique()).dt.weekday\n",
    "    n_wknd_days = 0\n",
    "    for wd in wds:\n",
    "        if wd in [5,6]:\n",
    "            n_wknd_days += 1\n",
    "    wknds.append(n_wknd_days)\n",
    "    \n",
    "wkn_df['date_block_num'] = ms\n",
    "wkn_df['wknd_days'] = wknds\n",
    "all_data = pd.merge(all_data, wkn_df, how='left', left_on='date_block_num', right_on='date_block_num')\n",
    "all_data.loc[all_data.date_block_num == 34, 'wknd_days'] = 9"
   ]
  },
  {
   "cell_type": "code",
   "execution_count": 21,
   "metadata": {},
   "outputs": [
    {
     "data": {
      "text/plain": [
       "3150046"
      ]
     },
     "execution_count": 21,
     "metadata": {},
     "output_type": "execute_result"
    }
   ],
   "source": [
    "all_data.shape[0]"
   ]
  },
  {
   "cell_type": "code",
   "execution_count": 22,
   "metadata": {},
   "outputs": [],
   "source": [
    "#grouping\n",
    "all_gr = all_data.groupby(['date_block_num','shop_id','item_id','monthyear','wknd_days']).agg({'item_price': 'mean', 'item_cnt_day': 'sum'}).reset_index()"
   ]
  },
  {
   "cell_type": "code",
   "execution_count": 23,
   "metadata": {},
   "outputs": [
    {
     "data": {
      "text/html": [
       "<div>\n",
       "<style scoped>\n",
       "    .dataframe tbody tr th:only-of-type {\n",
       "        vertical-align: middle;\n",
       "    }\n",
       "\n",
       "    .dataframe tbody tr th {\n",
       "        vertical-align: top;\n",
       "    }\n",
       "\n",
       "    .dataframe thead th {\n",
       "        text-align: right;\n",
       "    }\n",
       "</style>\n",
       "<table border=\"1\" class=\"dataframe\">\n",
       "  <thead>\n",
       "    <tr style=\"text-align: right;\">\n",
       "      <th></th>\n",
       "      <th>date_block_num</th>\n",
       "      <th>shop_id</th>\n",
       "      <th>item_id</th>\n",
       "      <th>monthyear</th>\n",
       "      <th>wknd_days</th>\n",
       "      <th>item_price</th>\n",
       "      <th>item_cnt_month</th>\n",
       "    </tr>\n",
       "  </thead>\n",
       "  <tbody>\n",
       "    <tr>\n",
       "      <th>0</th>\n",
       "      <td>0</td>\n",
       "      <td>2</td>\n",
       "      <td>27</td>\n",
       "      <td>1.000</td>\n",
       "      <td>8</td>\n",
       "      <td>2499.000</td>\n",
       "      <td>1.000</td>\n",
       "    </tr>\n",
       "    <tr>\n",
       "      <th>1</th>\n",
       "      <td>0</td>\n",
       "      <td>2</td>\n",
       "      <td>33</td>\n",
       "      <td>1.000</td>\n",
       "      <td>8</td>\n",
       "      <td>499.000</td>\n",
       "      <td>1.000</td>\n",
       "    </tr>\n",
       "    <tr>\n",
       "      <th>2</th>\n",
       "      <td>0</td>\n",
       "      <td>2</td>\n",
       "      <td>317</td>\n",
       "      <td>1.000</td>\n",
       "      <td>8</td>\n",
       "      <td>299.000</td>\n",
       "      <td>1.000</td>\n",
       "    </tr>\n",
       "    <tr>\n",
       "      <th>3</th>\n",
       "      <td>0</td>\n",
       "      <td>2</td>\n",
       "      <td>438</td>\n",
       "      <td>1.000</td>\n",
       "      <td>8</td>\n",
       "      <td>299.000</td>\n",
       "      <td>1.000</td>\n",
       "    </tr>\n",
       "    <tr>\n",
       "      <th>4</th>\n",
       "      <td>0</td>\n",
       "      <td>2</td>\n",
       "      <td>471</td>\n",
       "      <td>1.000</td>\n",
       "      <td>8</td>\n",
       "      <td>399.000</td>\n",
       "      <td>2.000</td>\n",
       "    </tr>\n",
       "  </tbody>\n",
       "</table>\n",
       "</div>"
      ],
      "text/plain": [
       "   date_block_num  shop_id  item_id  monthyear  wknd_days  item_price  \\\n",
       "0               0        2       27      1.000          8    2499.000   \n",
       "1               0        2       33      1.000          8     499.000   \n",
       "2               0        2      317      1.000          8     299.000   \n",
       "3               0        2      438      1.000          8     299.000   \n",
       "4               0        2      471      1.000          8     399.000   \n",
       "\n",
       "   item_cnt_month  \n",
       "0           1.000  \n",
       "1           1.000  \n",
       "2           1.000  \n",
       "3           1.000  \n",
       "4           2.000  "
      ]
     },
     "execution_count": 23,
     "metadata": {},
     "output_type": "execute_result"
    }
   ],
   "source": [
    "dcols = {'item_cnt_day':'item_cnt_month'}\n",
    "all_gr.rename(columns = dcols, inplace=True)\n",
    "all_gr.head()"
   ]
  },
  {
   "cell_type": "code",
   "execution_count": 24,
   "metadata": {},
   "outputs": [
    {
     "data": {
      "text/plain": [
       "1823322"
      ]
     },
     "execution_count": 24,
     "metadata": {},
     "output_type": "execute_result"
    }
   ],
   "source": [
    "all_gr.shape[0]"
   ]
  },
  {
   "cell_type": "code",
   "execution_count": 25,
   "metadata": {},
   "outputs": [
    {
     "data": {
      "text/html": [
       "<div>\n",
       "<style scoped>\n",
       "    .dataframe tbody tr th:only-of-type {\n",
       "        vertical-align: middle;\n",
       "    }\n",
       "\n",
       "    .dataframe tbody tr th {\n",
       "        vertical-align: top;\n",
       "    }\n",
       "\n",
       "    .dataframe thead th {\n",
       "        text-align: right;\n",
       "    }\n",
       "</style>\n",
       "<table border=\"1\" class=\"dataframe\">\n",
       "  <thead>\n",
       "    <tr style=\"text-align: right;\">\n",
       "      <th></th>\n",
       "      <th>date_block_num</th>\n",
       "      <th>shop_id</th>\n",
       "      <th>item_id</th>\n",
       "      <th>monthyear</th>\n",
       "      <th>wknd_days</th>\n",
       "      <th>item_price</th>\n",
       "      <th>item_cnt_month</th>\n",
       "    </tr>\n",
       "  </thead>\n",
       "  <tbody>\n",
       "  </tbody>\n",
       "</table>\n",
       "</div>"
      ],
      "text/plain": [
       "Empty DataFrame\n",
       "Columns: [date_block_num, shop_id, item_id, monthyear, wknd_days, item_price, item_cnt_month]\n",
       "Index: []"
      ]
     },
     "execution_count": 25,
     "metadata": {},
     "output_type": "execute_result"
    }
   ],
   "source": [
    "all_gr[all_gr.duplicated()]"
   ]
  },
  {
   "cell_type": "code",
   "execution_count": 26,
   "metadata": {},
   "outputs": [
    {
     "data": {
      "text/html": [
       "<div>\n",
       "<style scoped>\n",
       "    .dataframe tbody tr th:only-of-type {\n",
       "        vertical-align: middle;\n",
       "    }\n",
       "\n",
       "    .dataframe tbody tr th {\n",
       "        vertical-align: top;\n",
       "    }\n",
       "\n",
       "    .dataframe thead th {\n",
       "        text-align: right;\n",
       "    }\n",
       "</style>\n",
       "<table border=\"1\" class=\"dataframe\">\n",
       "  <thead>\n",
       "    <tr style=\"text-align: right;\">\n",
       "      <th></th>\n",
       "      <th>date_block_num</th>\n",
       "      <th>shop_id</th>\n",
       "      <th>item_id</th>\n",
       "      <th>monthyear</th>\n",
       "      <th>wknd_days</th>\n",
       "      <th>item_price</th>\n",
       "      <th>item_cnt_month</th>\n",
       "    </tr>\n",
       "  </thead>\n",
       "  <tbody>\n",
       "    <tr>\n",
       "      <th>0</th>\n",
       "      <td>0</td>\n",
       "      <td>2</td>\n",
       "      <td>27</td>\n",
       "      <td>1.000</td>\n",
       "      <td>8</td>\n",
       "      <td>2499.000</td>\n",
       "      <td>1.000</td>\n",
       "    </tr>\n",
       "    <tr>\n",
       "      <th>1</th>\n",
       "      <td>0</td>\n",
       "      <td>2</td>\n",
       "      <td>33</td>\n",
       "      <td>1.000</td>\n",
       "      <td>8</td>\n",
       "      <td>499.000</td>\n",
       "      <td>1.000</td>\n",
       "    </tr>\n",
       "    <tr>\n",
       "      <th>2</th>\n",
       "      <td>0</td>\n",
       "      <td>2</td>\n",
       "      <td>317</td>\n",
       "      <td>1.000</td>\n",
       "      <td>8</td>\n",
       "      <td>299.000</td>\n",
       "      <td>1.000</td>\n",
       "    </tr>\n",
       "    <tr>\n",
       "      <th>3</th>\n",
       "      <td>0</td>\n",
       "      <td>2</td>\n",
       "      <td>438</td>\n",
       "      <td>1.000</td>\n",
       "      <td>8</td>\n",
       "      <td>299.000</td>\n",
       "      <td>1.000</td>\n",
       "    </tr>\n",
       "    <tr>\n",
       "      <th>4</th>\n",
       "      <td>0</td>\n",
       "      <td>2</td>\n",
       "      <td>471</td>\n",
       "      <td>1.000</td>\n",
       "      <td>8</td>\n",
       "      <td>399.000</td>\n",
       "      <td>2.000</td>\n",
       "    </tr>\n",
       "  </tbody>\n",
       "</table>\n",
       "</div>"
      ],
      "text/plain": [
       "   date_block_num  shop_id  item_id  monthyear  wknd_days  item_price  \\\n",
       "0               0        2       27      1.000          8    2499.000   \n",
       "1               0        2       33      1.000          8     499.000   \n",
       "2               0        2      317      1.000          8     299.000   \n",
       "3               0        2      438      1.000          8     299.000   \n",
       "4               0        2      471      1.000          8     399.000   \n",
       "\n",
       "   item_cnt_month  \n",
       "0           1.000  \n",
       "1           1.000  \n",
       "2           1.000  \n",
       "3           1.000  \n",
       "4           2.000  "
      ]
     },
     "execution_count": 26,
     "metadata": {},
     "output_type": "execute_result"
    }
   ],
   "source": [
    "all_gr.head()"
   ]
  },
  {
   "cell_type": "code",
   "execution_count": 27,
   "metadata": {},
   "outputs": [
    {
     "data": {
      "text/plain": [
       "date_block_num         0\n",
       "shop_id                0\n",
       "item_id                0\n",
       "monthyear              0\n",
       "wknd_days              0\n",
       "item_price        214200\n",
       "item_cnt_month         0\n",
       "dtype: int64"
      ]
     },
     "execution_count": 27,
     "metadata": {},
     "output_type": "execute_result"
    }
   ],
   "source": [
    "all_gr.isnull().sum()"
   ]
  },
  {
   "cell_type": "markdown",
   "metadata": {},
   "source": [
    "### assign price to test set"
   ]
  },
  {
   "cell_type": "markdown",
   "metadata": {},
   "source": [
    "#### First, last price of same item in same shop"
   ]
  },
  {
   "cell_type": "code",
   "execution_count": 28,
   "metadata": {},
   "outputs": [],
   "source": [
    "assign_price = all_gr.groupby(['shop_id','item_id','item_price']).agg({'date_block_num': max}).reset_index()"
   ]
  },
  {
   "cell_type": "code",
   "execution_count": 29,
   "metadata": {},
   "outputs": [],
   "source": [
    "assign_price = assign_price.sort_values('date_block_num').drop_duplicates(['shop_id','item_id'],keep='last')"
   ]
  },
  {
   "cell_type": "code",
   "execution_count": 30,
   "metadata": {},
   "outputs": [],
   "source": [
    "assign_price.columns = ['shop_id','item_id','ass_price','date_block_num']\n",
    "all_gr = pd.merge(all_gr, assign_price[['shop_id','item_id','ass_price']], how='left', on=['shop_id','item_id'])"
   ]
  },
  {
   "cell_type": "code",
   "execution_count": 31,
   "metadata": {},
   "outputs": [
    {
     "data": {
      "text/plain": [
       "1823322"
      ]
     },
     "execution_count": 31,
     "metadata": {},
     "output_type": "execute_result"
    }
   ],
   "source": [
    "all_gr.shape[0]"
   ]
  },
  {
   "cell_type": "code",
   "execution_count": 32,
   "metadata": {},
   "outputs": [],
   "source": [
    "all_gr['item_price'] = all_gr['item_price'].fillna(all_gr['ass_price'])\n",
    "#all_gr['item_price']= np.where(all_gr['item_price'].isnull(), all_gr['ass_price'], all_gr['item_price'])\n",
    "all_gr.drop('ass_price',axis=1,inplace=True)"
   ]
  },
  {
   "cell_type": "code",
   "execution_count": 33,
   "metadata": {},
   "outputs": [
    {
     "data": {
      "text/plain": [
       "1823322"
      ]
     },
     "execution_count": 33,
     "metadata": {},
     "output_type": "execute_result"
    }
   ],
   "source": [
    "all_gr.shape[0]"
   ]
  },
  {
   "cell_type": "code",
   "execution_count": 34,
   "metadata": {},
   "outputs": [],
   "source": [
    "#all_gr.isnull().sum()"
   ]
  },
  {
   "cell_type": "markdown",
   "metadata": {},
   "source": [
    "#### If not available, last price of same item in any shop"
   ]
  },
  {
   "cell_type": "code",
   "execution_count": 35,
   "metadata": {},
   "outputs": [],
   "source": [
    "assign_price_item = all_gr.groupby(['item_id','item_price']).agg({'date_block_num': max}).reset_index()\n",
    "assign_price_item = assign_price_item.sort_values('date_block_num').drop_duplicates(['item_id'],keep='last')"
   ]
  },
  {
   "cell_type": "code",
   "execution_count": 36,
   "metadata": {},
   "outputs": [],
   "source": [
    "assign_price_item.columns = ['item_id','ass_price','date_block_num']\n",
    "all_gr = pd.merge(all_gr, assign_price_item[['item_id','ass_price']], how='left', on='item_id')"
   ]
  },
  {
   "cell_type": "code",
   "execution_count": 37,
   "metadata": {},
   "outputs": [],
   "source": [
    "all_gr['item_price'] = all_gr['item_price'].fillna(all_gr['ass_price'])\n",
    "all_gr.drop('ass_price',axis=1,inplace=True)"
   ]
  },
  {
   "cell_type": "code",
   "execution_count": 38,
   "metadata": {},
   "outputs": [
    {
     "data": {
      "text/plain": [
       "1823322"
      ]
     },
     "execution_count": 38,
     "metadata": {},
     "output_type": "execute_result"
    }
   ],
   "source": [
    "all_gr.shape[0]"
   ]
  },
  {
   "cell_type": "code",
   "execution_count": 39,
   "metadata": {},
   "outputs": [],
   "source": [
    "#all_gr.isnull().sum()"
   ]
  },
  {
   "cell_type": "markdown",
   "metadata": {},
   "source": [
    "#### If not available, median price of item category"
   ]
  },
  {
   "cell_type": "code",
   "execution_count": 40,
   "metadata": {},
   "outputs": [
    {
     "data": {
      "text/plain": [
       "1823322"
      ]
     },
     "execution_count": 40,
     "metadata": {},
     "output_type": "execute_result"
    }
   ],
   "source": [
    "#Assign median price of category\n",
    "#get category column\n",
    "all_gr = pd.merge(all_gr, items[['item_id','item_category_id']], on='item_id')\n",
    "all_gr.shape[0]"
   ]
  },
  {
   "cell_type": "code",
   "execution_count": 41,
   "metadata": {},
   "outputs": [],
   "source": [
    "assign_price_cat = all_gr.groupby(['item_category_id','date_block_num']).agg({'item_price': 'median'}).reset_index()\n",
    "assign_price_cat = assign_price_cat.sort_values('date_block_num').drop_duplicates(['item_category_id'],keep='last')"
   ]
  },
  {
   "cell_type": "code",
   "execution_count": 42,
   "metadata": {},
   "outputs": [],
   "source": [
    "assign_price_cat.columns = ['item_category_id','date_block_num','ass_price']\n",
    "all_gr = pd.merge(all_gr, assign_price_cat[['item_category_id','ass_price']], how='left', on='item_category_id')"
   ]
  },
  {
   "cell_type": "code",
   "execution_count": 43,
   "metadata": {},
   "outputs": [],
   "source": [
    "all_gr['item_price'] = all_gr['item_price'].fillna(all_gr['ass_price'])\n",
    "all_gr.drop('ass_price',axis=1,inplace=True)"
   ]
  },
  {
   "cell_type": "code",
   "execution_count": 44,
   "metadata": {},
   "outputs": [
    {
     "data": {
      "text/plain": [
       "1823322"
      ]
     },
     "execution_count": 44,
     "metadata": {},
     "output_type": "execute_result"
    }
   ],
   "source": [
    "all_gr.shape[0]"
   ]
  },
  {
   "cell_type": "code",
   "execution_count": 45,
   "metadata": {},
   "outputs": [],
   "source": [
    "#all_gr.isnull().sum()"
   ]
  },
  {
   "cell_type": "markdown",
   "metadata": {},
   "source": [
    "#### If not available, median price of items of the shop"
   ]
  },
  {
   "cell_type": "code",
   "execution_count": 46,
   "metadata": {},
   "outputs": [
    {
     "data": {
      "text/plain": [
       "1823322"
      ]
     },
     "execution_count": 46,
     "metadata": {},
     "output_type": "execute_result"
    }
   ],
   "source": [
    "#assign median price of shop\n",
    "assign_price_shop = all_gr.groupby(['shop_id','date_block_num']).agg({'item_price': 'median'}).reset_index()\n",
    "assign_price_shop = assign_price_shop.sort_values('date_block_num').drop_duplicates(['shop_id'],keep='last')\n",
    "\n",
    "assign_price_shop.columns = ['shop_id','date_block_num','ass_price']\n",
    "all_gr = pd.merge(all_gr, assign_price_shop[['shop_id','ass_price']], how='left', on='shop_id')\n",
    "\n",
    "all_gr['item_price'] = all_gr['item_price'].fillna(all_gr['ass_price'])\n",
    "all_gr.drop('ass_price',axis=1,inplace=True)\n",
    "\n",
    "all_gr.shape[0]"
   ]
  },
  {
   "cell_type": "code",
   "execution_count": 47,
   "metadata": {},
   "outputs": [
    {
     "data": {
      "text/plain": [
       "date_block_num      0\n",
       "shop_id             0\n",
       "item_id             0\n",
       "monthyear           0\n",
       "wknd_days           0\n",
       "item_price          0\n",
       "item_cnt_month      0\n",
       "item_category_id    0\n",
       "dtype: int64"
      ]
     },
     "execution_count": 47,
     "metadata": {},
     "output_type": "execute_result"
    }
   ],
   "source": [
    "all_gr.isnull().sum()"
   ]
  },
  {
   "cell_type": "markdown",
   "metadata": {},
   "source": [
    "### generate rows for each shop and item for each month"
   ]
  },
  {
   "cell_type": "code",
   "execution_count": 48,
   "metadata": {},
   "outputs": [
    {
     "data": {
      "text/html": [
       "<div>\n",
       "<style scoped>\n",
       "    .dataframe tbody tr th:only-of-type {\n",
       "        vertical-align: middle;\n",
       "    }\n",
       "\n",
       "    .dataframe tbody tr th {\n",
       "        vertical-align: top;\n",
       "    }\n",
       "\n",
       "    .dataframe thead th {\n",
       "        text-align: right;\n",
       "    }\n",
       "</style>\n",
       "<table border=\"1\" class=\"dataframe\">\n",
       "  <thead>\n",
       "    <tr style=\"text-align: right;\">\n",
       "      <th></th>\n",
       "      <th>date_block_num</th>\n",
       "      <th>shop_id</th>\n",
       "      <th>item_id</th>\n",
       "      <th>monthyear</th>\n",
       "      <th>wknd_days</th>\n",
       "      <th>item_price</th>\n",
       "      <th>item_cnt_month</th>\n",
       "      <th>item_category_id</th>\n",
       "    </tr>\n",
       "  </thead>\n",
       "  <tbody>\n",
       "    <tr>\n",
       "      <th>0</th>\n",
       "      <td>0</td>\n",
       "      <td>2</td>\n",
       "      <td>27</td>\n",
       "      <td>1.000</td>\n",
       "      <td>8</td>\n",
       "      <td>2499.000</td>\n",
       "      <td>1.000</td>\n",
       "      <td>19</td>\n",
       "    </tr>\n",
       "    <tr>\n",
       "      <th>1</th>\n",
       "      <td>0</td>\n",
       "      <td>11</td>\n",
       "      <td>27</td>\n",
       "      <td>1.000</td>\n",
       "      <td>8</td>\n",
       "      <td>1890.000</td>\n",
       "      <td>1.000</td>\n",
       "      <td>19</td>\n",
       "    </tr>\n",
       "    <tr>\n",
       "      <th>2</th>\n",
       "      <td>0</td>\n",
       "      <td>19</td>\n",
       "      <td>27</td>\n",
       "      <td>1.000</td>\n",
       "      <td>8</td>\n",
       "      <td>2499.000</td>\n",
       "      <td>1.000</td>\n",
       "      <td>19</td>\n",
       "    </tr>\n",
       "    <tr>\n",
       "      <th>3</th>\n",
       "      <td>0</td>\n",
       "      <td>26</td>\n",
       "      <td>27</td>\n",
       "      <td>1.000</td>\n",
       "      <td>8</td>\n",
       "      <td>2499.000</td>\n",
       "      <td>1.000</td>\n",
       "      <td>19</td>\n",
       "    </tr>\n",
       "    <tr>\n",
       "      <th>4</th>\n",
       "      <td>0</td>\n",
       "      <td>31</td>\n",
       "      <td>27</td>\n",
       "      <td>1.000</td>\n",
       "      <td>8</td>\n",
       "      <td>2499.000</td>\n",
       "      <td>1.000</td>\n",
       "      <td>19</td>\n",
       "    </tr>\n",
       "  </tbody>\n",
       "</table>\n",
       "</div>"
      ],
      "text/plain": [
       "   date_block_num  shop_id  item_id  monthyear  wknd_days  item_price  \\\n",
       "0               0        2       27      1.000          8    2499.000   \n",
       "1               0       11       27      1.000          8    1890.000   \n",
       "2               0       19       27      1.000          8    2499.000   \n",
       "3               0       26       27      1.000          8    2499.000   \n",
       "4               0       31       27      1.000          8    2499.000   \n",
       "\n",
       "   item_cnt_month  item_category_id  \n",
       "0           1.000                19  \n",
       "1           1.000                19  \n",
       "2           1.000                19  \n",
       "3           1.000                19  \n",
       "4           1.000                19  "
      ]
     },
     "execution_count": 48,
     "metadata": {},
     "output_type": "execute_result"
    }
   ],
   "source": [
    "all_gr.head()"
   ]
  },
  {
   "cell_type": "code",
   "execution_count": 49,
   "metadata": {},
   "outputs": [],
   "source": [
    "X_all=all_gr.set_index(['date_block_num','shop_id','item_id']).unstack('date_block_num').stack(dropna=False).reset_index().fillna(0)"
   ]
  },
  {
   "cell_type": "code",
   "execution_count": 50,
   "metadata": {},
   "outputs": [
    {
     "data": {
      "text/html": [
       "<div>\n",
       "<style scoped>\n",
       "    .dataframe tbody tr th:only-of-type {\n",
       "        vertical-align: middle;\n",
       "    }\n",
       "\n",
       "    .dataframe tbody tr th {\n",
       "        vertical-align: top;\n",
       "    }\n",
       "\n",
       "    .dataframe thead th {\n",
       "        text-align: right;\n",
       "    }\n",
       "</style>\n",
       "<table border=\"1\" class=\"dataframe\">\n",
       "  <thead>\n",
       "    <tr style=\"text-align: right;\">\n",
       "      <th></th>\n",
       "      <th>shop_id</th>\n",
       "      <th>item_id</th>\n",
       "      <th>date_block_num</th>\n",
       "      <th>monthyear</th>\n",
       "      <th>wknd_days</th>\n",
       "      <th>item_price</th>\n",
       "      <th>item_cnt_month</th>\n",
       "      <th>item_category_id</th>\n",
       "    </tr>\n",
       "  </thead>\n",
       "  <tbody>\n",
       "    <tr>\n",
       "      <th>0</th>\n",
       "      <td>2</td>\n",
       "      <td>27</td>\n",
       "      <td>0</td>\n",
       "      <td>1.000</td>\n",
       "      <td>8.000</td>\n",
       "      <td>2499.000</td>\n",
       "      <td>1.000</td>\n",
       "      <td>19.000</td>\n",
       "    </tr>\n",
       "    <tr>\n",
       "      <th>1</th>\n",
       "      <td>2</td>\n",
       "      <td>27</td>\n",
       "      <td>1</td>\n",
       "      <td>0.000</td>\n",
       "      <td>0.000</td>\n",
       "      <td>0.000</td>\n",
       "      <td>0.000</td>\n",
       "      <td>0.000</td>\n",
       "    </tr>\n",
       "    <tr>\n",
       "      <th>2</th>\n",
       "      <td>2</td>\n",
       "      <td>27</td>\n",
       "      <td>2</td>\n",
       "      <td>0.000</td>\n",
       "      <td>0.000</td>\n",
       "      <td>0.000</td>\n",
       "      <td>0.000</td>\n",
       "      <td>0.000</td>\n",
       "    </tr>\n",
       "    <tr>\n",
       "      <th>3</th>\n",
       "      <td>2</td>\n",
       "      <td>27</td>\n",
       "      <td>3</td>\n",
       "      <td>0.000</td>\n",
       "      <td>0.000</td>\n",
       "      <td>0.000</td>\n",
       "      <td>0.000</td>\n",
       "      <td>0.000</td>\n",
       "    </tr>\n",
       "    <tr>\n",
       "      <th>4</th>\n",
       "      <td>2</td>\n",
       "      <td>27</td>\n",
       "      <td>4</td>\n",
       "      <td>0.000</td>\n",
       "      <td>0.000</td>\n",
       "      <td>0.000</td>\n",
       "      <td>0.000</td>\n",
       "      <td>0.000</td>\n",
       "    </tr>\n",
       "  </tbody>\n",
       "</table>\n",
       "</div>"
      ],
      "text/plain": [
       "   shop_id  item_id  date_block_num  monthyear  wknd_days  item_price  \\\n",
       "0        2       27               0      1.000      8.000    2499.000   \n",
       "1        2       27               1      0.000      0.000       0.000   \n",
       "2        2       27               2      0.000      0.000       0.000   \n",
       "3        2       27               3      0.000      0.000       0.000   \n",
       "4        2       27               4      0.000      0.000       0.000   \n",
       "\n",
       "   item_cnt_month  item_category_id  \n",
       "0           1.000            19.000  \n",
       "1           0.000             0.000  \n",
       "2           0.000             0.000  \n",
       "3           0.000             0.000  \n",
       "4           0.000             0.000  "
      ]
     },
     "execution_count": 50,
     "metadata": {},
     "output_type": "execute_result"
    }
   ],
   "source": [
    "X_all.head()"
   ]
  },
  {
   "cell_type": "code",
   "execution_count": 51,
   "metadata": {},
   "outputs": [
    {
     "data": {
      "text/plain": [
       "18257295"
      ]
     },
     "execution_count": 51,
     "metadata": {},
     "output_type": "execute_result"
    }
   ],
   "source": [
    "X_all.shape[0]"
   ]
  },
  {
   "cell_type": "markdown",
   "metadata": {},
   "source": [
    "#### fixing month and n of weekend days"
   ]
  },
  {
   "cell_type": "code",
   "execution_count": 52,
   "metadata": {},
   "outputs": [],
   "source": [
    "dt_ = all_gr[['date_block_num','monthyear','wknd_days']].drop_duplicates()"
   ]
  },
  {
   "cell_type": "code",
   "execution_count": 53,
   "metadata": {},
   "outputs": [],
   "source": [
    "X_all = pd.merge(X_all[['shop_id','item_id','date_block_num','item_price','item_cnt_month','item_category_id']],dt_, how='left',on='date_block_num')"
   ]
  },
  {
   "cell_type": "code",
   "execution_count": 54,
   "metadata": {},
   "outputs": [
    {
     "data": {
      "text/plain": [
       "18257295"
      ]
     },
     "execution_count": 54,
     "metadata": {},
     "output_type": "execute_result"
    }
   ],
   "source": [
    "X_all.shape[0]"
   ]
  },
  {
   "cell_type": "markdown",
   "metadata": {},
   "source": [
    "#### fixing item category"
   ]
  },
  {
   "cell_type": "code",
   "execution_count": 55,
   "metadata": {},
   "outputs": [],
   "source": [
    "X_all.drop('item_category_id', axis = 1, inplace = True)\n",
    "X_all = pd.merge(X_all, items[['item_id','item_category_id']], on='item_id')"
   ]
  },
  {
   "cell_type": "code",
   "execution_count": 56,
   "metadata": {},
   "outputs": [
    {
     "data": {
      "text/plain": [
       "18257295"
      ]
     },
     "execution_count": 56,
     "metadata": {},
     "output_type": "execute_result"
    }
   ],
   "source": [
    "X_all.shape[0]"
   ]
  },
  {
   "cell_type": "markdown",
   "metadata": {},
   "source": [
    "#### fixing item price"
   ]
  },
  {
   "cell_type": "code",
   "execution_count": 57,
   "metadata": {
    "scrolled": true
   },
   "outputs": [
    {
     "data": {
      "text/html": [
       "<div>\n",
       "<style scoped>\n",
       "    .dataframe tbody tr th:only-of-type {\n",
       "        vertical-align: middle;\n",
       "    }\n",
       "\n",
       "    .dataframe tbody tr th {\n",
       "        vertical-align: top;\n",
       "    }\n",
       "\n",
       "    .dataframe thead th {\n",
       "        text-align: right;\n",
       "    }\n",
       "</style>\n",
       "<table border=\"1\" class=\"dataframe\">\n",
       "  <thead>\n",
       "    <tr style=\"text-align: right;\">\n",
       "      <th></th>\n",
       "      <th>shop_id</th>\n",
       "      <th>item_id</th>\n",
       "      <th>date_block_num</th>\n",
       "      <th>item_price</th>\n",
       "      <th>item_cnt_month</th>\n",
       "      <th>monthyear</th>\n",
       "      <th>wknd_days</th>\n",
       "      <th>item_category_id</th>\n",
       "    </tr>\n",
       "  </thead>\n",
       "  <tbody>\n",
       "    <tr>\n",
       "      <th>0</th>\n",
       "      <td>2</td>\n",
       "      <td>27</td>\n",
       "      <td>0</td>\n",
       "      <td>2499.000</td>\n",
       "      <td>1.000</td>\n",
       "      <td>1.000</td>\n",
       "      <td>8</td>\n",
       "      <td>19</td>\n",
       "    </tr>\n",
       "    <tr>\n",
       "      <th>1</th>\n",
       "      <td>2</td>\n",
       "      <td>27</td>\n",
       "      <td>1</td>\n",
       "      <td>0.000</td>\n",
       "      <td>0.000</td>\n",
       "      <td>2.000</td>\n",
       "      <td>8</td>\n",
       "      <td>19</td>\n",
       "    </tr>\n",
       "    <tr>\n",
       "      <th>2</th>\n",
       "      <td>2</td>\n",
       "      <td>27</td>\n",
       "      <td>2</td>\n",
       "      <td>0.000</td>\n",
       "      <td>0.000</td>\n",
       "      <td>3.000</td>\n",
       "      <td>10</td>\n",
       "      <td>19</td>\n",
       "    </tr>\n",
       "    <tr>\n",
       "      <th>3</th>\n",
       "      <td>2</td>\n",
       "      <td>27</td>\n",
       "      <td>3</td>\n",
       "      <td>0.000</td>\n",
       "      <td>0.000</td>\n",
       "      <td>4.000</td>\n",
       "      <td>8</td>\n",
       "      <td>19</td>\n",
       "    </tr>\n",
       "    <tr>\n",
       "      <th>4</th>\n",
       "      <td>2</td>\n",
       "      <td>27</td>\n",
       "      <td>4</td>\n",
       "      <td>0.000</td>\n",
       "      <td>0.000</td>\n",
       "      <td>5.000</td>\n",
       "      <td>8</td>\n",
       "      <td>19</td>\n",
       "    </tr>\n",
       "  </tbody>\n",
       "</table>\n",
       "</div>"
      ],
      "text/plain": [
       "   shop_id  item_id  date_block_num  item_price  item_cnt_month  monthyear  \\\n",
       "0        2       27               0    2499.000           1.000      1.000   \n",
       "1        2       27               1       0.000           0.000      2.000   \n",
       "2        2       27               2       0.000           0.000      3.000   \n",
       "3        2       27               3       0.000           0.000      4.000   \n",
       "4        2       27               4       0.000           0.000      5.000   \n",
       "\n",
       "   wknd_days  item_category_id  \n",
       "0          8                19  \n",
       "1          8                19  \n",
       "2         10                19  \n",
       "3          8                19  \n",
       "4          8                19  "
      ]
     },
     "execution_count": 57,
     "metadata": {},
     "output_type": "execute_result"
    }
   ],
   "source": [
    "X_all.head()"
   ]
  },
  {
   "cell_type": "code",
   "execution_count": 58,
   "metadata": {},
   "outputs": [],
   "source": [
    "# I will use fillna method until I find an efficient way to assign price using sim_prices. Some items will get assigned the price incorrectly, as this following method assigns previous value if nan"
   ]
  },
  {
   "cell_type": "code",
   "execution_count": 59,
   "metadata": {},
   "outputs": [],
   "source": [
    "X_all['item_price'] = np.where(X_all['date_block_num'] == 0, X_all['item_price'],X_all['item_price'].replace(0,np.nan))"
   ]
  },
  {
   "cell_type": "code",
   "execution_count": 60,
   "metadata": {},
   "outputs": [],
   "source": [
    "#rows with no item price at the start have value 0 instead of nan, so all prices with 0 will need to be treated \n",
    "#this way we avoid wrong assignment with ffill method\n",
    "X_all['assigned_price'] = X_all['item_price'].fillna(method='ffill')"
   ]
  },
  {
   "cell_type": "code",
   "execution_count": 61,
   "metadata": {},
   "outputs": [
    {
     "data": {
      "text/html": [
       "<div>\n",
       "<style scoped>\n",
       "    .dataframe tbody tr th:only-of-type {\n",
       "        vertical-align: middle;\n",
       "    }\n",
       "\n",
       "    .dataframe tbody tr th {\n",
       "        vertical-align: top;\n",
       "    }\n",
       "\n",
       "    .dataframe thead th {\n",
       "        text-align: right;\n",
       "    }\n",
       "</style>\n",
       "<table border=\"1\" class=\"dataframe\">\n",
       "  <thead>\n",
       "    <tr style=\"text-align: right;\">\n",
       "      <th></th>\n",
       "      <th>shop_id</th>\n",
       "      <th>item_id</th>\n",
       "      <th>date_block_num</th>\n",
       "      <th>item_price</th>\n",
       "      <th>item_cnt_month</th>\n",
       "      <th>monthyear</th>\n",
       "      <th>wknd_days</th>\n",
       "      <th>item_category_id</th>\n",
       "      <th>assigned_price</th>\n",
       "    </tr>\n",
       "  </thead>\n",
       "  <tbody>\n",
       "    <tr>\n",
       "      <th>0</th>\n",
       "      <td>2</td>\n",
       "      <td>27</td>\n",
       "      <td>0</td>\n",
       "      <td>2499.000</td>\n",
       "      <td>1.000</td>\n",
       "      <td>1.000</td>\n",
       "      <td>8</td>\n",
       "      <td>19</td>\n",
       "      <td>2499.000</td>\n",
       "    </tr>\n",
       "    <tr>\n",
       "      <th>1</th>\n",
       "      <td>2</td>\n",
       "      <td>27</td>\n",
       "      <td>1</td>\n",
       "      <td>nan</td>\n",
       "      <td>0.000</td>\n",
       "      <td>2.000</td>\n",
       "      <td>8</td>\n",
       "      <td>19</td>\n",
       "      <td>2499.000</td>\n",
       "    </tr>\n",
       "    <tr>\n",
       "      <th>2</th>\n",
       "      <td>2</td>\n",
       "      <td>27</td>\n",
       "      <td>2</td>\n",
       "      <td>nan</td>\n",
       "      <td>0.000</td>\n",
       "      <td>3.000</td>\n",
       "      <td>10</td>\n",
       "      <td>19</td>\n",
       "      <td>2499.000</td>\n",
       "    </tr>\n",
       "    <tr>\n",
       "      <th>3</th>\n",
       "      <td>2</td>\n",
       "      <td>27</td>\n",
       "      <td>3</td>\n",
       "      <td>nan</td>\n",
       "      <td>0.000</td>\n",
       "      <td>4.000</td>\n",
       "      <td>8</td>\n",
       "      <td>19</td>\n",
       "      <td>2499.000</td>\n",
       "    </tr>\n",
       "    <tr>\n",
       "      <th>4</th>\n",
       "      <td>2</td>\n",
       "      <td>27</td>\n",
       "      <td>4</td>\n",
       "      <td>nan</td>\n",
       "      <td>0.000</td>\n",
       "      <td>5.000</td>\n",
       "      <td>8</td>\n",
       "      <td>19</td>\n",
       "      <td>2499.000</td>\n",
       "    </tr>\n",
       "  </tbody>\n",
       "</table>\n",
       "</div>"
      ],
      "text/plain": [
       "   shop_id  item_id  date_block_num  item_price  item_cnt_month  monthyear  \\\n",
       "0        2       27               0    2499.000           1.000      1.000   \n",
       "1        2       27               1         nan           0.000      2.000   \n",
       "2        2       27               2         nan           0.000      3.000   \n",
       "3        2       27               3         nan           0.000      4.000   \n",
       "4        2       27               4         nan           0.000      5.000   \n",
       "\n",
       "   wknd_days  item_category_id  assigned_price  \n",
       "0          8                19        2499.000  \n",
       "1          8                19        2499.000  \n",
       "2         10                19        2499.000  \n",
       "3          8                19        2499.000  \n",
       "4          8                19        2499.000  "
      ]
     },
     "execution_count": 61,
     "metadata": {},
     "output_type": "execute_result"
    }
   ],
   "source": [
    "X_all.head()"
   ]
  },
  {
   "cell_type": "code",
   "execution_count": 62,
   "metadata": {},
   "outputs": [],
   "source": [
    "#this part is not needed anymore, since we didn't replace first month with nans\n",
    "#X_all['fprice'] = X_all.apply(lambda row: row['item_price'] if row['date_block_num'] == 0 else row['assigned_price'], axis=1)"
   ]
  },
  {
   "cell_type": "code",
   "execution_count": 63,
   "metadata": {},
   "outputs": [
    {
     "name": "stdout",
     "output_type": "stream",
     "text": [
      "prices with value 0 to be solved:\n",
      "7951529\n"
     ]
    }
   ],
   "source": [
    "print('prices with value 0 to be solved:')\n",
    "print(X_all[X_all.assigned_price == 0].shape[0])"
   ]
  },
  {
   "cell_type": "code",
   "execution_count": 64,
   "metadata": {},
   "outputs": [
    {
     "data": {
      "text/plain": [
       "18257295"
      ]
     },
     "execution_count": 64,
     "metadata": {},
     "output_type": "execute_result"
    }
   ],
   "source": [
    "X_all.shape[0]"
   ]
  },
  {
   "cell_type": "markdown",
   "metadata": {},
   "source": [
    "#### filling prices with median"
   ]
  },
  {
   "cell_type": "code",
   "execution_count": 65,
   "metadata": {},
   "outputs": [],
   "source": [
    "assign_price_item = sim_prices.groupby(['item_id']).agg({'item_price': 'median'}).reset_index()\n",
    "\n",
    "assign_price_item.columns = ['item_id','ass_price']\n",
    "X_all = pd.merge(X_all, assign_price_item[['item_id','ass_price']], how='left', on='item_id')\n",
    "\n",
    "#X_all['assigned_price'] = X_all['assigned_price'].replace(0,X_all['ass_price'])\n",
    "#X_all.drop('ass_price',axis=1,inplace=True)"
   ]
  },
  {
   "cell_type": "code",
   "execution_count": 66,
   "metadata": {},
   "outputs": [],
   "source": [
    "X_all['fprice'] = X_all.apply(lambda row: row['ass_price'] if row['assigned_price'] == 0 else row['assigned_price'], axis=1)"
   ]
  },
  {
   "cell_type": "code",
   "execution_count": 67,
   "metadata": {},
   "outputs": [
    {
     "data": {
      "text/plain": [
       "18257295"
      ]
     },
     "execution_count": 67,
     "metadata": {},
     "output_type": "execute_result"
    }
   ],
   "source": [
    "X_all.shape[0]"
   ]
  },
  {
   "cell_type": "code",
   "execution_count": 68,
   "metadata": {},
   "outputs": [],
   "source": [
    "X_all.drop(['item_price','assigned_price','ass_price'], axis = 1, inplace = True)"
   ]
  },
  {
   "cell_type": "code",
   "execution_count": 69,
   "metadata": {},
   "outputs": [],
   "source": [
    "#X_all.isnull().sum()"
   ]
  },
  {
   "cell_type": "markdown",
   "metadata": {},
   "source": [
    "#### rest: median of item category"
   ]
  },
  {
   "cell_type": "code",
   "execution_count": 70,
   "metadata": {},
   "outputs": [],
   "source": [
    "X_all = pd.merge(X_all, assign_price_cat[['item_category_id','ass_price']], how='left', on='item_category_id')"
   ]
  },
  {
   "cell_type": "code",
   "execution_count": 71,
   "metadata": {},
   "outputs": [],
   "source": [
    "X_all['fprice'] = X_all.fillna(X_all['ass_price'])"
   ]
  },
  {
   "cell_type": "code",
   "execution_count": 72,
   "metadata": {},
   "outputs": [
    {
     "data": {
      "text/plain": [
       "18257295"
      ]
     },
     "execution_count": 72,
     "metadata": {},
     "output_type": "execute_result"
    }
   ],
   "source": [
    "X_all.drop(['ass_price'], axis = 1, inplace = True)\n",
    "X_all.shape[0]"
   ]
  },
  {
   "cell_type": "code",
   "execution_count": 73,
   "metadata": {},
   "outputs": [],
   "source": [
    "#X_all.isnull().sum()"
   ]
  },
  {
   "cell_type": "code",
   "execution_count": 74,
   "metadata": {},
   "outputs": [
    {
     "data": {
      "text/plain": [
       "18257295"
      ]
     },
     "execution_count": 74,
     "metadata": {},
     "output_type": "execute_result"
    }
   ],
   "source": [
    "#assign median price of shop\n",
    "X_all = pd.merge(X_all, assign_price_shop[['shop_id','ass_price']], how='left', on='shop_id')\n",
    "\n",
    "X_all['fprice'] = X_all.fillna(X_all['ass_price'])\n",
    "X_all.drop(['ass_price'], axis = 1, inplace = True)\n",
    "X_all.shape[0]"
   ]
  },
  {
   "cell_type": "code",
   "execution_count": 75,
   "metadata": {},
   "outputs": [
    {
     "data": {
      "text/plain": [
       "shop_id             0\n",
       "item_id             0\n",
       "date_block_num      0\n",
       "item_cnt_month      0\n",
       "monthyear           0\n",
       "wknd_days           0\n",
       "item_category_id    0\n",
       "fprice              0\n",
       "dtype: int64"
      ]
     },
     "execution_count": 75,
     "metadata": {},
     "output_type": "execute_result"
    }
   ],
   "source": [
    "X_all.isnull().sum()"
   ]
  },
  {
   "cell_type": "code",
   "execution_count": 76,
   "metadata": {},
   "outputs": [],
   "source": [
    "#X_all.to_csv('X_all_price.csv')"
   ]
  },
  {
   "cell_type": "code",
   "execution_count": 77,
   "metadata": {},
   "outputs": [],
   "source": [
    "#X_all = pd.read_csv('X_all_price.csv')"
   ]
  },
  {
   "cell_type": "code",
   "execution_count": 78,
   "metadata": {},
   "outputs": [],
   "source": [
    "X_all['shop_id'] = X_all['shop_id'].astype(str)\n",
    "X_all['item_id'] = X_all['item_id'].astype(str)\n",
    "X_all['shop_item'] = X_all['shop_id']+X_all['item_id']"
   ]
  },
  {
   "cell_type": "code",
   "execution_count": 79,
   "metadata": {},
   "outputs": [
    {
     "data": {
      "text/html": [
       "<div>\n",
       "<style scoped>\n",
       "    .dataframe tbody tr th:only-of-type {\n",
       "        vertical-align: middle;\n",
       "    }\n",
       "\n",
       "    .dataframe tbody tr th {\n",
       "        vertical-align: top;\n",
       "    }\n",
       "\n",
       "    .dataframe thead th {\n",
       "        text-align: right;\n",
       "    }\n",
       "</style>\n",
       "<table border=\"1\" class=\"dataframe\">\n",
       "  <thead>\n",
       "    <tr style=\"text-align: right;\">\n",
       "      <th></th>\n",
       "      <th>shop_id</th>\n",
       "      <th>item_id</th>\n",
       "      <th>date_block_num</th>\n",
       "      <th>item_cnt_month</th>\n",
       "      <th>monthyear</th>\n",
       "      <th>wknd_days</th>\n",
       "      <th>item_category_id</th>\n",
       "      <th>fprice</th>\n",
       "      <th>shop_item</th>\n",
       "    </tr>\n",
       "  </thead>\n",
       "  <tbody>\n",
       "    <tr>\n",
       "      <th>18257290</th>\n",
       "      <td>59</td>\n",
       "      <td>18018</td>\n",
       "      <td>30</td>\n",
       "      <td>0.000</td>\n",
       "      <td>7.000</td>\n",
       "      <td>8</td>\n",
       "      <td>57</td>\n",
       "      <td>59.000</td>\n",
       "      <td>5918018</td>\n",
       "    </tr>\n",
       "    <tr>\n",
       "      <th>18257291</th>\n",
       "      <td>59</td>\n",
       "      <td>18018</td>\n",
       "      <td>31</td>\n",
       "      <td>0.000</td>\n",
       "      <td>8.000</td>\n",
       "      <td>10</td>\n",
       "      <td>57</td>\n",
       "      <td>59.000</td>\n",
       "      <td>5918018</td>\n",
       "    </tr>\n",
       "    <tr>\n",
       "      <th>18257292</th>\n",
       "      <td>59</td>\n",
       "      <td>18018</td>\n",
       "      <td>32</td>\n",
       "      <td>0.000</td>\n",
       "      <td>9.000</td>\n",
       "      <td>8</td>\n",
       "      <td>57</td>\n",
       "      <td>59.000</td>\n",
       "      <td>5918018</td>\n",
       "    </tr>\n",
       "    <tr>\n",
       "      <th>18257293</th>\n",
       "      <td>59</td>\n",
       "      <td>18018</td>\n",
       "      <td>33</td>\n",
       "      <td>0.000</td>\n",
       "      <td>10.000</td>\n",
       "      <td>9</td>\n",
       "      <td>57</td>\n",
       "      <td>59.000</td>\n",
       "      <td>5918018</td>\n",
       "    </tr>\n",
       "    <tr>\n",
       "      <th>18257294</th>\n",
       "      <td>59</td>\n",
       "      <td>18018</td>\n",
       "      <td>34</td>\n",
       "      <td>0.000</td>\n",
       "      <td>11.000</td>\n",
       "      <td>9</td>\n",
       "      <td>57</td>\n",
       "      <td>59.000</td>\n",
       "      <td>5918018</td>\n",
       "    </tr>\n",
       "  </tbody>\n",
       "</table>\n",
       "</div>"
      ],
      "text/plain": [
       "         shop_id item_id  date_block_num  item_cnt_month  monthyear  \\\n",
       "18257290      59   18018              30           0.000      7.000   \n",
       "18257291      59   18018              31           0.000      8.000   \n",
       "18257292      59   18018              32           0.000      9.000   \n",
       "18257293      59   18018              33           0.000     10.000   \n",
       "18257294      59   18018              34           0.000     11.000   \n",
       "\n",
       "          wknd_days  item_category_id  fprice shop_item  \n",
       "18257290          8                57  59.000   5918018  \n",
       "18257291         10                57  59.000   5918018  \n",
       "18257292          8                57  59.000   5918018  \n",
       "18257293          9                57  59.000   5918018  \n",
       "18257294          9                57  59.000   5918018  "
      ]
     },
     "execution_count": 79,
     "metadata": {},
     "output_type": "execute_result"
    }
   ],
   "source": [
    "X_all.tail()"
   ]
  },
  {
   "cell_type": "code",
   "execution_count": 80,
   "metadata": {},
   "outputs": [],
   "source": [
    "shops.loc[shops.shop_name == 'Сергиев Посад ТЦ \"7Я\"', 'shop_name'] = 'СергиевПосад ТЦ \"7Я\"'\n",
    "shops['city'] = shops['shop_name'].str.split(' ').map(lambda x: x[0])\n",
    "shops.loc[shops.city == '!Якутск', 'city'] = 'Якутск'\n",
    "shops['city_label'] = LabelEncoder().fit_transform(shops['city'])\n",
    "shops = shops[['shop_id','city_label']]"
   ]
  },
  {
   "cell_type": "code",
   "execution_count": 81,
   "metadata": {},
   "outputs": [],
   "source": [
    "shops['shop_id'] = shops['shop_id'].astype(str)\n",
    "X_all = pd.merge(X_all,shops, how='left', on='shop_id')"
   ]
  },
  {
   "cell_type": "code",
   "execution_count": 82,
   "metadata": {},
   "outputs": [
    {
     "data": {
      "text/plain": [
       "18257295"
      ]
     },
     "execution_count": 82,
     "metadata": {},
     "output_type": "execute_result"
    }
   ],
   "source": [
    "X_all.shape[0]"
   ]
  },
  {
   "cell_type": "code",
   "execution_count": 83,
   "metadata": {},
   "outputs": [
    {
     "data": {
      "text/plain": [
       "shop_id             0\n",
       "item_id             0\n",
       "date_block_num      0\n",
       "item_cnt_month      0\n",
       "monthyear           0\n",
       "wknd_days           0\n",
       "item_category_id    0\n",
       "fprice              0\n",
       "shop_item           0\n",
       "city_label          0\n",
       "dtype: int64"
      ]
     },
     "execution_count": 83,
     "metadata": {},
     "output_type": "execute_result"
    }
   ],
   "source": [
    "X_all.isnull().sum()"
   ]
  },
  {
   "cell_type": "code",
   "execution_count": 84,
   "metadata": {},
   "outputs": [],
   "source": [
    "def label(element):\n",
    "    if element < 400:\n",
    "        return 1\n",
    "    elif element >=400 and element < 1200:\n",
    "        return 2\n",
    "    elif element>=1200 and element < 4000:\n",
    "        return 3\n",
    "    else:\n",
    "        return 4\n",
    "\n",
    "X_all['price_range'] = X_all['fprice'].apply(label)"
   ]
  },
  {
   "cell_type": "markdown",
   "metadata": {},
   "source": [
    "#### Lagged values"
   ]
  },
  {
   "cell_type": "code",
   "execution_count": 85,
   "metadata": {},
   "outputs": [],
   "source": [
    "#clip target\n",
    "X_all['item_cnt_month'] = X_all['item_cnt_month'].clip(0,20)"
   ]
  },
  {
   "cell_type": "code",
   "execution_count": 86,
   "metadata": {},
   "outputs": [],
   "source": [
    "def lag(df, n, col):\n",
    "    temp = df[['date_block_num','shop_id','item_id',col]]\n",
    "    for i in n:\n",
    "        temp.columns = ['date_block_num','shop_id','item_id','prev_' + str(i) + '_' + col]\n",
    "        temp['date_block_num'] += i\n",
    "        df = pd.merge(df, temp, how='left', left_on=['shop_id','item_id','date_block_num'], right_on=['shop_id','item_id','date_block_num'])\n",
    "    return df\n",
    "\n",
    "X_all = lag(X_all, [1,2,3,6,12], 'item_cnt_month')"
   ]
  },
  {
   "cell_type": "code",
   "execution_count": 87,
   "metadata": {},
   "outputs": [
    {
     "data": {
      "text/plain": [
       "18257295"
      ]
     },
     "execution_count": 87,
     "metadata": {},
     "output_type": "execute_result"
    }
   ],
   "source": [
    "X_all.shape[0]"
   ]
  },
  {
   "cell_type": "code",
   "execution_count": 88,
   "metadata": {},
   "outputs": [],
   "source": [
    "#total avg month\n",
    "temp = X_all.copy()\n",
    "temp = temp.groupby('date_block_num').agg({'item_cnt_month':'mean'})\n",
    "temp.columns = ['month_avg_item_cnt']\n",
    "X_all = pd.merge(X_all,temp,how='left',on='date_block_num')\n",
    "X_all = lag(X_all, [1], 'month_avg_item_cnt')\n",
    "X_all.drop(['month_avg_item_cnt'], axis=1, inplace=True)"
   ]
  },
  {
   "cell_type": "code",
   "execution_count": 89,
   "metadata": {},
   "outputs": [],
   "source": [
    "#total avg per item\n",
    "temp = X_all.copy()\n",
    "temp = temp.groupby(['date_block_num','item_id']).agg({'item_cnt_month':'mean'})\n",
    "temp.columns = ['month_item_avg_item_cnt']\n",
    "X_all = pd.merge(X_all,temp,how='left',on=['date_block_num','item_id'])\n",
    "X_all = lag(X_all, [1,3,6,12], 'month_item_avg_item_cnt')\n",
    "X_all.drop(['month_item_avg_item_cnt'], axis=1, inplace=True)"
   ]
  },
  {
   "cell_type": "code",
   "execution_count": 90,
   "metadata": {},
   "outputs": [],
   "source": [
    "#total avg per shop\n",
    "temp = X_all.copy()\n",
    "temp = temp.groupby(['date_block_num','shop_id']).agg({'item_cnt_month':'mean'})\n",
    "temp.columns = ['month_shop_avg_item_cnt']\n",
    "X_all = pd.merge(X_all,temp,how='left',on=['date_block_num','shop_id'])\n",
    "X_all = lag(X_all, [1,3,6,12], 'month_shop_avg_item_cnt')\n",
    "X_all.drop(['month_shop_avg_item_cnt'], axis=1, inplace=True)"
   ]
  },
  {
   "cell_type": "code",
   "execution_count": 91,
   "metadata": {},
   "outputs": [],
   "source": [
    "#average per category\n",
    "temp = X_all.copy()\n",
    "temp = temp.groupby(['date_block_num','item_category_id']).agg({'item_cnt_month':'mean'})\n",
    "temp.columns = ['month_cat_avg_item_cnt']\n",
    "X_all = pd.merge(X_all,temp,how='left',on=['date_block_num','item_category_id'])\n",
    "X_all = lag(X_all, [1,3,6,12], 'month_cat_avg_item_cnt')\n",
    "X_all.drop(['month_cat_avg_item_cnt'], axis=1, inplace=True)"
   ]
  },
  {
   "cell_type": "code",
   "execution_count": 92,
   "metadata": {},
   "outputs": [],
   "source": [
    "#average per city\n",
    "temp = X_all.copy()\n",
    "temp = temp.groupby(['date_block_num', 'item_id', 'city_label']).agg({'item_cnt_month': 'mean'})\n",
    "temp.columns = [ 'date_item_city_avg_item_cnt' ]\n",
    "\n",
    "X_all = pd.merge(X_all, temp, how='left', on=['date_block_num', 'item_id', 'city_label'])\n",
    "X_all = lag(X_all, [1], 'date_item_city_avg_item_cnt')\n",
    "X_all.drop(['date_item_city_avg_item_cnt'], axis=1, inplace=True)"
   ]
  },
  {
   "cell_type": "code",
   "execution_count": 93,
   "metadata": {},
   "outputs": [],
   "source": [
    "#trend\n",
    "X_all['cnt_change'] = (X_all['item_cnt_month']/(X_all['prev_1_item_cnt_month'])) - 1\n",
    "X_all['cnt_change'] = X_all['cnt_change'].fillna(0).replace(np.inf,1)"
   ]
  },
  {
   "cell_type": "code",
   "execution_count": 94,
   "metadata": {},
   "outputs": [],
   "source": [
    "X_all = X_all.fillna(0)"
   ]
  },
  {
   "cell_type": "code",
   "execution_count": 95,
   "metadata": {},
   "outputs": [
    {
     "data": {
      "text/plain": [
       "item_category_id                     -0.050\n",
       "date_block_num                       -0.045\n",
       "prev_12_month_shop_avg_item_cnt      -0.008\n",
       "monthyear                            -0.004\n",
       "wknd_days                             0.000\n",
       "city_label                            0.013\n",
       "fprice                                0.014\n",
       "prev_12_month_item_avg_item_cnt       0.021\n",
       "prev_12_item_cnt_month                0.025\n",
       "prev_1_month_avg_item_cnt             0.027\n",
       "prev_6_month_shop_avg_item_cnt        0.031\n",
       "prev_12_month_cat_avg_item_cnt        0.037\n",
       "prev_3_month_shop_avg_item_cnt        0.065\n",
       "prev_1_month_shop_avg_item_cnt        0.097\n",
       "prev_6_month_item_avg_item_cnt        0.123\n",
       "prev_6_item_cnt_month                 0.132\n",
       "prev_6_month_cat_avg_item_cnt         0.134\n",
       "prev_3_month_cat_avg_item_cnt         0.195\n",
       "prev_1_month_cat_avg_item_cnt         0.239\n",
       "prev_3_item_cnt_month                 0.240\n",
       "prev_3_month_item_avg_item_cnt        0.241\n",
       "prev_2_item_cnt_month                 0.345\n",
       "cnt_change                            0.374\n",
       "prev_1_month_item_avg_item_cnt        0.464\n",
       "prev_1_date_item_city_avg_item_cnt    0.516\n",
       "prev_1_item_cnt_month                 0.558\n",
       "item_cnt_month                        1.000\n",
       "price_range                             nan\n",
       "Name: item_cnt_month, dtype: float64"
      ]
     },
     "execution_count": 95,
     "metadata": {},
     "output_type": "execute_result"
    }
   ],
   "source": [
    "#Check best features\n",
    "X_all.corr()['item_cnt_month'].sort_values()"
   ]
  },
  {
   "cell_type": "code",
   "execution_count": 96,
   "metadata": {},
   "outputs": [
    {
     "name": "stdout",
     "output_type": "stream",
     "text": [
      "<class 'pandas.core.frame.DataFrame'>\n",
      "Int64Index: 18257295 entries, 0 to 18257294\n",
      "Data columns (total 31 columns):\n",
      " #   Column                              Dtype  \n",
      "---  ------                              -----  \n",
      " 0   shop_id                             object \n",
      " 1   item_id                             object \n",
      " 2   date_block_num                      int64  \n",
      " 3   item_cnt_month                      float64\n",
      " 4   monthyear                           float64\n",
      " 5   wknd_days                           int64  \n",
      " 6   item_category_id                    int64  \n",
      " 7   fprice                              float64\n",
      " 8   shop_item                           object \n",
      " 9   city_label                          int32  \n",
      " 10  price_range                         int64  \n",
      " 11  prev_1_item_cnt_month               float64\n",
      " 12  prev_2_item_cnt_month               float64\n",
      " 13  prev_3_item_cnt_month               float64\n",
      " 14  prev_6_item_cnt_month               float64\n",
      " 15  prev_12_item_cnt_month              float64\n",
      " 16  prev_1_month_avg_item_cnt           float64\n",
      " 17  prev_1_month_item_avg_item_cnt      float64\n",
      " 18  prev_3_month_item_avg_item_cnt      float64\n",
      " 19  prev_6_month_item_avg_item_cnt      float64\n",
      " 20  prev_12_month_item_avg_item_cnt     float64\n",
      " 21  prev_1_month_shop_avg_item_cnt      float64\n",
      " 22  prev_3_month_shop_avg_item_cnt      float64\n",
      " 23  prev_6_month_shop_avg_item_cnt      float64\n",
      " 24  prev_12_month_shop_avg_item_cnt     float64\n",
      " 25  prev_1_month_cat_avg_item_cnt       float64\n",
      " 26  prev_3_month_cat_avg_item_cnt       float64\n",
      " 27  prev_6_month_cat_avg_item_cnt       float64\n",
      " 28  prev_12_month_cat_avg_item_cnt      float64\n",
      " 29  prev_1_date_item_city_avg_item_cnt  float64\n",
      " 30  cnt_change                          float64\n",
      "dtypes: float64(23), int32(1), int64(4), object(3)\n",
      "memory usage: 4.3+ GB\n"
     ]
    }
   ],
   "source": [
    "X_all.info()"
   ]
  },
  {
   "cell_type": "markdown",
   "metadata": {},
   "source": [
    "## Modelling"
   ]
  },
  {
   "cell_type": "code",
   "execution_count": 97,
   "metadata": {},
   "outputs": [],
   "source": [
    "import gc\n",
    "import pickle\n",
    "X_all.to_pickle('data.pkl')\n",
    "gc.collect();"
   ]
  },
  {
   "cell_type": "code",
   "execution_count": 98,
   "metadata": {},
   "outputs": [],
   "source": [
    "data = pd.read_pickle('data.pkl')"
   ]
  },
  {
   "cell_type": "code",
   "execution_count": 99,
   "metadata": {},
   "outputs": [],
   "source": [
    "X_train = data[data.date_block_num < 33].drop(['item_cnt_month'], axis=1)\n",
    "Y_train = data[data.date_block_num < 33]['item_cnt_month']\n",
    "X_valid = data[data.date_block_num == 33].drop(['item_cnt_month'], axis=1)\n",
    "Y_valid = data[data.date_block_num == 33]['item_cnt_month']\n",
    "X_test = data[data.date_block_num == 34].drop(['item_cnt_month'], axis=1)\n",
    "\n",
    "X_train[['shop_id','item_id','shop_item']] = X_train[['shop_id','item_id','shop_item']].astype('int64')\n",
    "X_valid[['shop_id','item_id','shop_item']] = X_valid[['shop_id','item_id','shop_item']].astype('int64')"
   ]
  },
  {
   "cell_type": "code",
   "execution_count": 100,
   "metadata": {},
   "outputs": [
    {
     "data": {
      "text/plain": [
       "['shop_id',\n",
       " 'item_id',\n",
       " 'date_block_num',\n",
       " 'monthyear',\n",
       " 'wknd_days',\n",
       " 'item_category_id',\n",
       " 'fprice',\n",
       " 'shop_item',\n",
       " 'city_label',\n",
       " 'price_range',\n",
       " 'prev_1_item_cnt_month',\n",
       " 'prev_2_item_cnt_month',\n",
       " 'prev_3_item_cnt_month',\n",
       " 'prev_6_item_cnt_month',\n",
       " 'prev_12_item_cnt_month',\n",
       " 'prev_1_month_avg_item_cnt',\n",
       " 'prev_1_month_item_avg_item_cnt',\n",
       " 'prev_3_month_item_avg_item_cnt',\n",
       " 'prev_6_month_item_avg_item_cnt',\n",
       " 'prev_12_month_item_avg_item_cnt',\n",
       " 'prev_1_month_shop_avg_item_cnt',\n",
       " 'prev_3_month_shop_avg_item_cnt',\n",
       " 'prev_6_month_shop_avg_item_cnt',\n",
       " 'prev_12_month_shop_avg_item_cnt',\n",
       " 'prev_1_month_cat_avg_item_cnt',\n",
       " 'prev_3_month_cat_avg_item_cnt',\n",
       " 'prev_6_month_cat_avg_item_cnt',\n",
       " 'prev_12_month_cat_avg_item_cnt',\n",
       " 'prev_1_date_item_city_avg_item_cnt',\n",
       " 'cnt_change']"
      ]
     },
     "execution_count": 100,
     "metadata": {},
     "output_type": "execute_result"
    }
   ],
   "source": [
    "list(X_train.columns)"
   ]
  },
  {
   "cell_type": "code",
   "execution_count": 101,
   "metadata": {},
   "outputs": [],
   "source": [
    "best_feat = ['date_block_num',\n",
    " 'monthyear',\n",
    " 'wknd_days',\n",
    " 'item_category_id',\n",
    " #'fprice',\n",
    " 'shop_item',\n",
    " 'city_label',\n",
    " 'price_range',\n",
    " 'prev_1_item_cnt_month',\n",
    " 'prev_2_item_cnt_month',\n",
    " 'prev_3_item_cnt_month',\n",
    " 'prev_6_item_cnt_month',\n",
    " 'prev_12_item_cnt_month',\n",
    " 'prev_1_month_avg_item_cnt',\n",
    " 'prev_1_month_item_avg_item_cnt',\n",
    " 'prev_3_month_item_avg_item_cnt',\n",
    " 'prev_6_month_item_avg_item_cnt',\n",
    " 'prev_12_month_item_avg_item_cnt',\n",
    " 'prev_1_month_shop_avg_item_cnt',\n",
    " 'prev_3_month_shop_avg_item_cnt',\n",
    " 'prev_6_month_shop_avg_item_cnt',\n",
    " 'prev_12_month_shop_avg_item_cnt',\n",
    " 'prev_1_month_cat_avg_item_cnt',\n",
    " 'prev_3_month_cat_avg_item_cnt',\n",
    " 'prev_6_month_cat_avg_item_cnt',\n",
    " 'prev_12_month_cat_avg_item_cnt',\n",
    " 'cnt_change',\n",
    " 'prev_1_date_item_city_avg_item_cnt',\n",
    " #'si_label']\n",
    "            ]"
   ]
  },
  {
   "cell_type": "code",
   "execution_count": 102,
   "metadata": {},
   "outputs": [],
   "source": [
    "X_train = X_train[best_feat]\n",
    "X_valid = X_valid[best_feat]\n",
    "X_test = X_test[best_feat]"
   ]
  },
  {
   "cell_type": "code",
   "execution_count": 103,
   "metadata": {},
   "outputs": [],
   "source": [
    "del data\n",
    "gc.collect();"
   ]
  },
  {
   "cell_type": "markdown",
   "metadata": {},
   "source": [
    "### XGBRegressor"
   ]
  },
  {
   "cell_type": "code",
   "execution_count": 104,
   "metadata": {},
   "outputs": [
    {
     "name": "stdout",
     "output_type": "stream",
     "text": [
      "[18:24:02] WARNING: src/objective/regression_obj.cu:152: reg:linear is now deprecated in favor of reg:squarederror.\n",
      "[18:24:02] WARNING: src/learner.cc:686: Tree method is automatically selected to be 'approx' for faster speed. To use old behavior (exact greedy algorithm on single machine), set tree_method to 'exact'.\n",
      "[0]\tvalidation_0-rmse:0.89987\tvalidation_1-rmse:0.839\n",
      "Multiple eval metrics have been passed: 'validation_1-rmse' will be used for early stopping.\n",
      "\n",
      "Will train until validation_1-rmse hasn't improved in 5 rounds.\n",
      "[1]\tvalidation_0-rmse:0.837849\tvalidation_1-rmse:0.782349\n",
      "[2]\tvalidation_0-rmse:0.788497\tvalidation_1-rmse:0.73869\n",
      "[3]\tvalidation_0-rmse:0.731029\tvalidation_1-rmse:0.690049\n",
      "[4]\tvalidation_0-rmse:0.691219\tvalidation_1-rmse:0.651477\n",
      "[5]\tvalidation_0-rmse:0.67702\tvalidation_1-rmse:0.633759\n",
      "[6]\tvalidation_0-rmse:0.642421\tvalidation_1-rmse:0.602736\n",
      "[7]\tvalidation_0-rmse:0.631658\tvalidation_1-rmse:0.588554\n",
      "[8]\tvalidation_0-rmse:0.604625\tvalidation_1-rmse:0.561839\n",
      "[9]\tvalidation_0-rmse:0.582431\tvalidation_1-rmse:0.544737\n",
      "[10]\tvalidation_0-rmse:0.561752\tvalidation_1-rmse:0.525148\n",
      "[11]\tvalidation_0-rmse:0.547939\tvalidation_1-rmse:0.51148\n",
      "[12]\tvalidation_0-rmse:0.533228\tvalidation_1-rmse:0.497568\n",
      "[13]\tvalidation_0-rmse:0.520914\tvalidation_1-rmse:0.486779\n",
      "[14]\tvalidation_0-rmse:0.517964\tvalidation_1-rmse:0.483505\n",
      "[15]\tvalidation_0-rmse:0.508745\tvalidation_1-rmse:0.47311\n",
      "[16]\tvalidation_0-rmse:0.506751\tvalidation_1-rmse:0.470504\n",
      "[17]\tvalidation_0-rmse:0.498932\tvalidation_1-rmse:0.464593\n",
      "[18]\tvalidation_0-rmse:0.492336\tvalidation_1-rmse:0.45836\n",
      "[19]\tvalidation_0-rmse:0.485999\tvalidation_1-rmse:0.452271\n",
      "[20]\tvalidation_0-rmse:0.481434\tvalidation_1-rmse:0.448274\n",
      "[21]\tvalidation_0-rmse:0.478108\tvalidation_1-rmse:0.44514\n",
      "[22]\tvalidation_0-rmse:0.475165\tvalidation_1-rmse:0.442057\n",
      "[23]\tvalidation_0-rmse:0.474731\tvalidation_1-rmse:0.441255\n",
      "[24]\tvalidation_0-rmse:0.471449\tvalidation_1-rmse:0.439009\n",
      "[25]\tvalidation_0-rmse:0.47108\tvalidation_1-rmse:0.438106\n",
      "[26]\tvalidation_0-rmse:0.4688\tvalidation_1-rmse:0.436469\n",
      "[27]\tvalidation_0-rmse:0.467222\tvalidation_1-rmse:0.435237\n",
      "[28]\tvalidation_0-rmse:0.465099\tvalidation_1-rmse:0.433082\n",
      "[29]\tvalidation_0-rmse:0.4649\tvalidation_1-rmse:0.432673\n",
      "[30]\tvalidation_0-rmse:0.463707\tvalidation_1-rmse:0.431685\n",
      "[31]\tvalidation_0-rmse:0.462376\tvalidation_1-rmse:0.430582\n",
      "[32]\tvalidation_0-rmse:0.460887\tvalidation_1-rmse:0.427308\n",
      "[33]\tvalidation_0-rmse:0.460003\tvalidation_1-rmse:0.426149\n",
      "[34]\tvalidation_0-rmse:0.459271\tvalidation_1-rmse:0.425247\n",
      "[35]\tvalidation_0-rmse:0.458578\tvalidation_1-rmse:0.423721\n",
      "[36]\tvalidation_0-rmse:0.458133\tvalidation_1-rmse:0.422342\n",
      "[37]\tvalidation_0-rmse:0.457618\tvalidation_1-rmse:0.42177\n",
      "[38]\tvalidation_0-rmse:0.45753\tvalidation_1-rmse:0.42174\n",
      "[39]\tvalidation_0-rmse:0.457181\tvalidation_1-rmse:0.421399\n",
      "[40]\tvalidation_0-rmse:0.456615\tvalidation_1-rmse:0.42068\n",
      "[41]\tvalidation_0-rmse:0.456553\tvalidation_1-rmse:0.420645\n",
      "[42]\tvalidation_0-rmse:0.456051\tvalidation_1-rmse:0.420037\n",
      "[43]\tvalidation_0-rmse:0.456024\tvalidation_1-rmse:0.419975\n",
      "[44]\tvalidation_0-rmse:0.455984\tvalidation_1-rmse:0.420057\n",
      "[45]\tvalidation_0-rmse:0.455929\tvalidation_1-rmse:0.419996\n",
      "[46]\tvalidation_0-rmse:0.455273\tvalidation_1-rmse:0.420282\n",
      "[47]\tvalidation_0-rmse:0.454928\tvalidation_1-rmse:0.419778\n",
      "[48]\tvalidation_0-rmse:0.454432\tvalidation_1-rmse:0.419643\n",
      "[49]\tvalidation_0-rmse:0.454078\tvalidation_1-rmse:0.419359\n",
      "[50]\tvalidation_0-rmse:0.453752\tvalidation_1-rmse:0.419321\n",
      "[51]\tvalidation_0-rmse:0.453431\tvalidation_1-rmse:0.41921\n",
      "[52]\tvalidation_0-rmse:0.453158\tvalidation_1-rmse:0.419025\n",
      "[53]\tvalidation_0-rmse:0.45284\tvalidation_1-rmse:0.418645\n",
      "[54]\tvalidation_0-rmse:0.452809\tvalidation_1-rmse:0.418647\n",
      "[55]\tvalidation_0-rmse:0.45245\tvalidation_1-rmse:0.417877\n",
      "[56]\tvalidation_0-rmse:0.452177\tvalidation_1-rmse:0.417704\n",
      "[57]\tvalidation_0-rmse:0.45188\tvalidation_1-rmse:0.417541\n",
      "[58]\tvalidation_0-rmse:0.451762\tvalidation_1-rmse:0.417588\n",
      "[59]\tvalidation_0-rmse:0.451373\tvalidation_1-rmse:0.416135\n",
      "[60]\tvalidation_0-rmse:0.451347\tvalidation_1-rmse:0.41616\n",
      "[61]\tvalidation_0-rmse:0.451104\tvalidation_1-rmse:0.416113\n",
      "[62]\tvalidation_0-rmse:0.450907\tvalidation_1-rmse:0.416004\n",
      "[63]\tvalidation_0-rmse:0.450557\tvalidation_1-rmse:0.415988\n",
      "[64]\tvalidation_0-rmse:0.450216\tvalidation_1-rmse:0.415551\n",
      "[65]\tvalidation_0-rmse:0.450187\tvalidation_1-rmse:0.415571\n",
      "[66]\tvalidation_0-rmse:0.449955\tvalidation_1-rmse:0.415335\n",
      "[67]\tvalidation_0-rmse:0.44985\tvalidation_1-rmse:0.415297\n",
      "[68]\tvalidation_0-rmse:0.449705\tvalidation_1-rmse:0.415251\n",
      "[69]\tvalidation_0-rmse:0.449455\tvalidation_1-rmse:0.415483\n",
      "[70]\tvalidation_0-rmse:0.449336\tvalidation_1-rmse:0.415065\n",
      "[71]\tvalidation_0-rmse:0.44925\tvalidation_1-rmse:0.415061\n",
      "[72]\tvalidation_0-rmse:0.449095\tvalidation_1-rmse:0.415021\n",
      "[73]\tvalidation_0-rmse:0.448991\tvalidation_1-rmse:0.414922\n",
      "[74]\tvalidation_0-rmse:0.448876\tvalidation_1-rmse:0.415213\n",
      "[75]\tvalidation_0-rmse:0.448787\tvalidation_1-rmse:0.415206\n",
      "[76]\tvalidation_0-rmse:0.448586\tvalidation_1-rmse:0.414858\n",
      "[77]\tvalidation_0-rmse:0.448193\tvalidation_1-rmse:0.414642\n",
      "[78]\tvalidation_0-rmse:0.448143\tvalidation_1-rmse:0.414555\n",
      "[79]\tvalidation_0-rmse:0.448119\tvalidation_1-rmse:0.414544\n",
      "[80]\tvalidation_0-rmse:0.448012\tvalidation_1-rmse:0.414673\n",
      "[81]\tvalidation_0-rmse:0.447802\tvalidation_1-rmse:0.414635\n",
      "[82]\tvalidation_0-rmse:0.447624\tvalidation_1-rmse:0.414452\n",
      "[83]\tvalidation_0-rmse:0.447509\tvalidation_1-rmse:0.414475\n",
      "[84]\tvalidation_0-rmse:0.447351\tvalidation_1-rmse:0.414751\n",
      "[85]\tvalidation_0-rmse:0.447309\tvalidation_1-rmse:0.414731\n",
      "[86]\tvalidation_0-rmse:0.447274\tvalidation_1-rmse:0.414696\n",
      "[87]\tvalidation_0-rmse:0.447254\tvalidation_1-rmse:0.414682\n",
      "Stopping. Best iteration:\n",
      "[82]\tvalidation_0-rmse:0.447624\tvalidation_1-rmse:0.414452\n",
      "\n"
     ]
    },
    {
     "data": {
      "text/plain": [
       "XGBRegressor(base_score=0.5, booster='gbtree', colsample_bylevel=1,\n",
       "             colsample_bynode=1, colsample_bytree=0.8, eta=0.3, gamma=0,\n",
       "             importance_type='gain', learning_rate=0.1, max_delta_step=0,\n",
       "             max_depth=8, min_child_weight=300, missing=None, n_estimators=1000,\n",
       "             n_jobs=1, nthread=None, objective='reg:linear', random_state=0,\n",
       "             reg_alpha=0, reg_lambda=1, scale_pos_weight=1, seed=42,\n",
       "             silent=None, subsample=0.8, verbosity=1)"
      ]
     },
     "execution_count": 104,
     "metadata": {},
     "output_type": "execute_result"
    }
   ],
   "source": [
    "from xgboost import XGBRegressor\n",
    "\n",
    "model = XGBRegressor(\n",
    "    max_depth=8,\n",
    "    n_estimators=1000,\n",
    "    min_child_weight=300, \n",
    "    colsample_bytree=0.8, \n",
    "    subsample=0.8, \n",
    "    eta=0.3,    \n",
    "    seed=42)\n",
    "\n",
    "model.fit(\n",
    "    X_train, \n",
    "    Y_train, \n",
    "    eval_metric=\"rmse\", \n",
    "    eval_set=[(X_train, Y_train), (X_valid, Y_valid)], \n",
    "    verbose=True, \n",
    "    early_stopping_rounds = 5)"
   ]
  },
  {
   "cell_type": "code",
   "execution_count": 122,
   "metadata": {},
   "outputs": [],
   "source": [
    "data = pd.read_pickle('data.pkl')\n",
    "X_test = data[data.date_block_num == 34].drop(['item_cnt_month'], axis=1)\n",
    "x = X_test[best_feat]\n",
    "x['shop_item'] = X_test['shop_item'].astype('int64')"
   ]
  },
  {
   "cell_type": "code",
   "execution_count": 123,
   "metadata": {},
   "outputs": [],
   "source": [
    "predictions1 = model.predict(x).clip(0, 20)\n",
    "predictions2 = model.predict(x)"
   ]
  },
  {
   "cell_type": "code",
   "execution_count": 128,
   "metadata": {},
   "outputs": [],
   "source": [
    "X_test[['shop_id','item_id']] = X_test[['shop_id','item_id']].astype('int64')\n",
    "\n",
    "X_test['item_cnt_month'] = predictions1\n",
    "sub = pd.merge(test,X_test, how='left',on=['shop_id','item_id'])\n",
    "sub['item_cnt_month'] = sub['item_cnt_month'].fillna(0)\n",
    "sub[['ID','item_cnt_month']].to_csv('sub4.csv', index = False)"
   ]
  },
  {
   "cell_type": "code",
   "execution_count": 127,
   "metadata": {},
   "outputs": [],
   "source": [
    "X_test['item_cnt_month'] = predictions2\n",
    "sub = pd.merge(test,X_test, how='left',on=['shop_id','item_id'])\n",
    "sub['item_cnt_month'] = sub['item_cnt_month'].fillna(predictions2.mean())\n",
    "sub[['ID','item_cnt_month']].to_csv('sub5.csv', index = False)"
   ]
  },
  {
   "cell_type": "markdown",
   "metadata": {},
   "source": [
    "### LGBMRegressor"
   ]
  },
  {
   "cell_type": "code",
   "execution_count": 3,
   "metadata": {},
   "outputs": [],
   "source": [
    "data = pd.read_pickle('data.pkl')\n",
    "X_train = data[data.date_block_num < 33].drop(['item_cnt_month'], axis=1)\n",
    "Y_train = data[data.date_block_num < 33]['item_cnt_month']\n",
    "X_valid = data[data.date_block_num == 33].drop(['item_cnt_month'], axis=1)\n",
    "Y_valid = data[data.date_block_num == 33]['item_cnt_month']\n",
    "X_test = data[data.date_block_num == 34].drop(['item_cnt_month'], axis=1)\n",
    "\n",
    "X_train[['shop_id','item_id','shop_item']] = X_train[['shop_id','item_id','shop_item']].astype('int64')\n",
    "X_valid[['shop_id','item_id','shop_item']] = X_valid[['shop_id','item_id','shop_item']].astype('int64')"
   ]
  },
  {
   "cell_type": "code",
   "execution_count": 4,
   "metadata": {},
   "outputs": [],
   "source": [
    "model_lgb = lgb.LGBMRegressor(objective='regression',num_leaves=5,\n",
    "                              learning_rate=0.05, n_estimators=720,\n",
    "                              max_bin = 55, bagging_fraction = 0.8,\n",
    "                              bagging_freq = 5, feature_fraction = 0.2319,\n",
    "                              feature_fraction_seed=9, bagging_seed=9,\n",
    "                              min_data_in_leaf =6, min_sum_hessian_in_leaf = 11)"
   ]
  },
  {
   "cell_type": "code",
   "execution_count": 5,
   "metadata": {},
   "outputs": [
    {
     "data": {
      "text/plain": [
       "0.4519438538632103"
      ]
     },
     "execution_count": 5,
     "metadata": {},
     "output_type": "execute_result"
    }
   ],
   "source": [
    "model_lgb.fit(X_train,Y_train)\n",
    "predictions = model_lgb.predict(X_valid)\n",
    "\n",
    "mse = mean_squared_error(predictions,Y_valid)\n",
    "mse**(1/2)"
   ]
  },
  {
   "cell_type": "code",
   "execution_count": 11,
   "metadata": {},
   "outputs": [],
   "source": [
    "f = ['prev_6_month_item_avg_item_cnt'        \n",
    ",'prev_6_item_cnt_month'                 \n",
    ",'prev_6_month_cat_avg_item_cnt'         \n",
    ",'prev_3_month_cat_avg_item_cnt'         \n",
    ",'prev_1_month_cat_avg_item_cnt'         \n",
    ",'prev_3_item_cnt_month'                 \n",
    ",'prev_3_month_item_avg_item_cnt'        \n",
    ",'prev_2_item_cnt_month'                 \n",
    ",'cnt_change'                            \n",
    ",'prev_1_month_item_avg_item_cnt'        \n",
    ",'prev_1_date_item_city_avg_item_cnt'    \n",
    ",'prev_1_item_cnt_month'\n",
    ",'shop_item']   "
   ]
  },
  {
   "cell_type": "code",
   "execution_count": 8,
   "metadata": {},
   "outputs": [
    {
     "data": {
      "text/plain": [
       "0.4728155244292936"
      ]
     },
     "execution_count": 8,
     "metadata": {},
     "output_type": "execute_result"
    }
   ],
   "source": [
    "model_lgb.fit(X_train[f],Y_train)\n",
    "predictions2 = model_lgb.predict(X_valid[f])\n",
    "\n",
    "mse = mean_squared_error(predictions2,Y_valid)\n",
    "mse**(1/2)"
   ]
  },
  {
   "cell_type": "code",
   "execution_count": null,
   "metadata": {},
   "outputs": [],
   "source": []
  }
 ],
 "metadata": {
  "kernelspec": {
   "display_name": "Python 3",
   "language": "python",
   "name": "python3"
  },
  "language_info": {
   "codemirror_mode": {
    "name": "ipython",
    "version": 3
   },
   "file_extension": ".py",
   "mimetype": "text/x-python",
   "name": "python",
   "nbconvert_exporter": "python",
   "pygments_lexer": "ipython3",
   "version": "3.7.3"
  }
 },
 "nbformat": 4,
 "nbformat_minor": 2
}
