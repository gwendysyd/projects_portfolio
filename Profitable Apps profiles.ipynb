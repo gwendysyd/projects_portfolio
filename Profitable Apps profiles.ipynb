{
 "cells": [
  {
   "cell_type": "markdown",
   "metadata": {},
   "source": [
    "# Profitable App Profiles for the App Store and Google Play Markets"
   ]
  },
  {
   "cell_type": "markdown",
   "metadata": {},
   "source": [
    "Our company only builds apps that are free to download and install, directed toward an English-speaking audience, making profit through ads. We are going to analyze what types of apps are likely to attract more users on Google Play and the App Store.\n",
    "\n",
    "We will do so by collecting and analyzing data about mobile apps available on Google Play and the App Store (a data set containing data about approximately 10,000 Android apps from Google Play, collected in August 2018, and a data set containing data about approximately 7,000 iOS apps from the App Store, collected in July 2017)."
   ]
  },
  {
   "cell_type": "code",
   "execution_count": 1,
   "metadata": {
    "collapsed": true
   },
   "outputs": [],
   "source": [
    "#Open datasets\n",
    "open_apple = open(\"AppleStore.csv\")\n",
    "open_google = open(\"googleplaystore.csv\")\n",
    "from csv import reader\n",
    "read_apple = reader(open_apple)\n",
    "read_google = reader(open_google)\n",
    "apple = list(read_apple)\n",
    "android = list(read_google)"
   ]
  },
  {
   "cell_type": "code",
   "execution_count": 2,
   "metadata": {
    "collapsed": false
   },
   "outputs": [],
   "source": [
    "#Create function to explore datasets \n",
    "def explore_data(dataset, start, end, rows_and_columns=False):\n",
    "    dataset_slice = dataset[start:end]    \n",
    "    for row in dataset_slice:\n",
    "        print(row)\n",
    "        print('\\n') # adds a new (empty) line after each row\n",
    "\n",
    "    if rows_and_columns:\n",
    "        print('Number of rows:', len(dataset))\n",
    "        print('Number of columns:', len(dataset[0]))"
   ]
  },
  {
   "cell_type": "markdown",
   "metadata": {},
   "source": [
    "Looking at google dataset:"
   ]
  },
  {
   "cell_type": "code",
   "execution_count": 3,
   "metadata": {
    "collapsed": false
   },
   "outputs": [
    {
     "name": "stdout",
     "output_type": "stream",
     "text": [
      "['App', 'Category', 'Rating', 'Reviews', 'Size', 'Installs', 'Type', 'Price', 'Content Rating', 'Genres', 'Last Updated', 'Current Ver', 'Android Ver']\n",
      "\n",
      "\n",
      "['Photo Editor & Candy Camera & Grid & ScrapBook', 'ART_AND_DESIGN', '4.1', '159', '19M', '10,000+', 'Free', '0', 'Everyone', 'Art & Design', 'January 7, 2018', '1.0.0', '4.0.3 and up']\n",
      "\n",
      "\n",
      "Number of rows: 10842\n",
      "Number of columns: 13\n"
     ]
    }
   ],
   "source": [
    "#Explore datasets\n",
    "explore_data(android,0,2,True)"
   ]
  },
  {
   "cell_type": "markdown",
   "metadata": {},
   "source": [
    "This dataset has 10,842 rows and 13 columns, being 'App', 'Category', 'Reviews', 'Installs', 'Type', 'Price', and 'Genres' the most relevant for this analysis."
   ]
  },
  {
   "cell_type": "markdown",
   "metadata": {},
   "source": [
    "Looking and Apple dataset:"
   ]
  },
  {
   "cell_type": "code",
   "execution_count": 4,
   "metadata": {
    "collapsed": false
   },
   "outputs": [
    {
     "name": "stdout",
     "output_type": "stream",
     "text": [
      "['id', 'track_name', 'size_bytes', 'currency', 'price', 'rating_count_tot', 'rating_count_ver', 'user_rating', 'user_rating_ver', 'ver', 'cont_rating', 'prime_genre', 'sup_devices.num', 'ipadSc_urls.num', 'lang.num', 'vpp_lic']\n",
      "\n",
      "\n",
      "['284882215', 'Facebook', '389879808', 'USD', '0.0', '2974676', '212', '3.5', '3.5', '95.0', '4+', 'Social Networking', '37', '1', '29', '1']\n",
      "\n",
      "\n",
      "Number of rows: 7198\n",
      "Number of columns: 16\n"
     ]
    }
   ],
   "source": [
    "explore_data(apple,0,2,True)"
   ]
  },
  {
   "cell_type": "markdown",
   "metadata": {},
   "source": [
    "We count with 7,198 apps and 16 columns, being 'track_name', 'currency', 'price', 'rating_count_tot', 'rating_count_ver', and 'prime_genre' the most relevant for our analysis."
   ]
  },
  {
   "cell_type": "markdown",
   "metadata": {},
   "source": [
    "## Deleting wrong data"
   ]
  },
  {
   "cell_type": "markdown",
   "metadata": {},
   "source": [
    "Through the discussion section for the google play dataset, we read that one user is outlining an error for the row of the app 'Life Made WI-Fi Touchscreen Photo Frame' at index 10473. Let's check if there is indeed an error and, if so, this row will be deleted.\n",
    "\n",
    "We will print the row with the error, the header and a regular row to determine if an error exists."
   ]
  },
  {
   "cell_type": "code",
   "execution_count": 5,
   "metadata": {
    "collapsed": false
   },
   "outputs": [
    {
     "name": "stdout",
     "output_type": "stream",
     "text": [
      "['Life Made WI-Fi Touchscreen Photo Frame', '1.9', '19', '3.0M', '1,000+', 'Free', '0', 'Everyone', '', 'February 11, 2018', '1.0.19', '4.0 and up']\n",
      "\n",
      "['App', 'Category', 'Rating', 'Reviews', 'Size', 'Installs', 'Type', 'Price', 'Content Rating', 'Genres', 'Last Updated', 'Current Ver', 'Android Ver']\n",
      "\n",
      "['Photo Editor & Candy Camera & Grid & ScrapBook', 'ART_AND_DESIGN', '4.1', '159', '19M', '10,000+', 'Free', '0', 'Everyone', 'Art & Design', 'January 7, 2018', '1.0.0', '4.0.3 and up']\n"
     ]
    }
   ],
   "source": [
    "print(android[10473])\n",
    "print('')\n",
    "print(android[0])\n",
    "print('')\n",
    "print(android[1])"
   ]
  },
  {
   "cell_type": "markdown",
   "metadata": {},
   "source": [
    "The third column for the app 'Life Made WI-Fi' shows that the rating for the app is 19. The max possible rating is 5, therefore this line seems to be incorrect and will be deleted:"
   ]
  },
  {
   "cell_type": "code",
   "execution_count": 6,
   "metadata": {
    "collapsed": true
   },
   "outputs": [],
   "source": [
    "del android[10473]\n",
    "#deactivating this line of code after performed, in order to avoid deletion of different rows if all code needs to be rerun"
   ]
  },
  {
   "cell_type": "markdown",
   "metadata": {},
   "source": [
    "## Identifying duplicates"
   ]
  },
  {
   "cell_type": "code",
   "execution_count": 7,
   "metadata": {
    "collapsed": false
   },
   "outputs": [
    {
     "name": "stdout",
     "output_type": "stream",
     "text": [
      "1181  duplicate apps\n"
     ]
    }
   ],
   "source": [
    "duplicate_apps = []\n",
    "unique_apps = []\n",
    "\n",
    "for app in android:\n",
    "    app_name = app[0]\n",
    "    if app_name in unique_apps:\n",
    "        duplicate_apps.append(app_name)\n",
    "    else:\n",
    "        unique_apps.append(app_name)\n",
    "\n",
    "print(len(duplicate_apps),' duplicate apps')"
   ]
  },
  {
   "cell_type": "code",
   "execution_count": 8,
   "metadata": {
    "collapsed": false
   },
   "outputs": [
    {
     "name": "stdout",
     "output_type": "stream",
     "text": [
      "['Quick PDF Scanner + OCR FREE', 'Box', 'Google My Business', 'ZOOM Cloud Meetings', 'join.me - Simple Meetings', 'Box', 'Zenefits', 'Google Ads', 'Google My Business', 'Slack', 'FreshBooks Classic', 'Insightly CRM', 'QuickBooks Accounting: Invoicing & Expenses', 'HipChat - Chat Built for Teams', 'Xero Accounting Software', 'MailChimp - Email, Marketing Automation', 'Crew - Free Messaging and Scheduling', 'Asana: organize team projects', 'Google Analytics', 'AdWords Express']\n"
     ]
    }
   ],
   "source": [
    "#examine some duplicate apps\n",
    "print(duplicate_apps[:20])"
   ]
  },
  {
   "cell_type": "code",
   "execution_count": 9,
   "metadata": {
    "collapsed": false
   },
   "outputs": [
    {
     "name": "stdout",
     "output_type": "stream",
     "text": [
      "['Slack', 'BUSINESS', '4.4', '51507', 'Varies with device', '5,000,000+', 'Free', '0', 'Everyone', 'Business', 'August 2, 2018', 'Varies with device', 'Varies with device']\n",
      "['Slack', 'BUSINESS', '4.4', '51507', 'Varies with device', '5,000,000+', 'Free', '0', 'Everyone', 'Business', 'August 2, 2018', 'Varies with device', 'Varies with device']\n",
      "['Slack', 'BUSINESS', '4.4', '51510', 'Varies with device', '5,000,000+', 'Free', '0', 'Everyone', 'Business', 'August 2, 2018', 'Varies with device', 'Varies with device']\n",
      "\n",
      "['App', 'Category', 'Rating', 'Reviews', 'Size', 'Installs', 'Type', 'Price', 'Content Rating', 'Genres', 'Last Updated', 'Current Ver', 'Android Ver']\n"
     ]
    }
   ],
   "source": [
    "#examine duplicate app in data\n",
    "for app in android:\n",
    "    if app[0] == 'Slack':\n",
    "        print (app)\n",
    "print('')      \n",
    "print(android[0])"
   ]
  },
  {
   "cell_type": "markdown",
   "metadata": {},
   "source": [
    "We can see changes in the 'Reviews' column. We will keep the data for the row with the highest number of reviews and eliminate the rest to get rid of duplicates"
   ]
  },
  {
   "cell_type": "markdown",
   "metadata": {
    "collapsed": true
   },
   "source": [
    "## Removing duplicates"
   ]
  },
  {
   "cell_type": "code",
   "execution_count": 10,
   "metadata": {
    "collapsed": false
   },
   "outputs": [
    {
     "name": "stdout",
     "output_type": "stream",
     "text": [
      "Expected length after removing duplicates 9659\n"
     ]
    }
   ],
   "source": [
    "print('Expected length after removing duplicates',len(android)-len(duplicate_apps)-1) #-1 to remove header"
   ]
  },
  {
   "cell_type": "markdown",
   "metadata": {},
   "source": [
    "#### Creating a dictionary that contains all apps (unique values) with its associated number of reviews (the highest one)"
   ]
  },
  {
   "cell_type": "code",
   "execution_count": 11,
   "metadata": {
    "collapsed": false
   },
   "outputs": [
    {
     "name": "stdout",
     "output_type": "stream",
     "text": [
      "Lenght android: 9659\n",
      "Length aple: 7195\n"
     ]
    }
   ],
   "source": [
    "#dictionary containing unique apps with number of max reviews\n",
    "android_dict = {}\n",
    "for row in android[1:]:\n",
    "    rating = float(row[3])\n",
    "    name = row[0]\n",
    "    if name in android_dict:\n",
    "        if rating > android_dict[name]:\n",
    "            android_dict[name] = float(row[3])\n",
    "    else:\n",
    "        android_dict[row[0]] = float(row[3])\n",
    "        \n",
    "\n",
    "apple_dict = {}\n",
    "for row in apple[1:]:\n",
    "    rating = float(row[5])\n",
    "    name = row[1]\n",
    "    if name in apple_dict:\n",
    "        if rating > apple_dict[name]:\n",
    "            apple_dict[name] = float(row[5])\n",
    "    else:\n",
    "        apple_dict[row[1]] = float(row[5])\n",
    "        \n",
    "print('Lenght android:',len(android_dict))\n",
    "print('Length aple:',len(apple_dict))"
   ]
  },
  {
   "cell_type": "markdown",
   "metadata": {},
   "source": [
    "#### We create two lists: android_clean will store data without the duplicates. We add items whose number of reviews match with those in the dictionary and whose name is not in the list of already_added items"
   ]
  },
  {
   "cell_type": "code",
   "execution_count": 12,
   "metadata": {
    "collapsed": false
   },
   "outputs": [
    {
     "name": "stdout",
     "output_type": "stream",
     "text": [
      "Android: 9659\n",
      "Apple: 7195\n"
     ]
    }
   ],
   "source": [
    "android_clean = []\n",
    "already_added = []\n",
    "for row in android[1:]:\n",
    "    name = row[0]\n",
    "    rating = float(row[3])\n",
    "    if (rating == android_dict[name]) and (name not in already_added):\n",
    "        android_clean.append(row)\n",
    "        already_added.append(name)\n",
    "\n",
    "\n",
    "apple_clean = []\n",
    "already_added_ap = []\n",
    "for row in apple[1:]:\n",
    "    name = row[1]\n",
    "    rating = float(row[5])\n",
    "    if (rating == apple_dict[name]) and (name not in already_added_ap):\n",
    "        apple_clean.append(row)\n",
    "        already_added_ap.append(name)\n",
    "        \n",
    "print('Android:',len(android_clean))\n",
    "print('Apple:',len(apple_clean))"
   ]
  },
  {
   "cell_type": "markdown",
   "metadata": {},
   "source": [
    "#### Defining a function to identify app names that have three or more characters identified as non-English, through the ASCII range"
   ]
  },
  {
   "cell_type": "code",
   "execution_count": 13,
   "metadata": {
    "collapsed": false
   },
   "outputs": [],
   "source": [
    "def en_string(s):\n",
    "    sum = 0\n",
    "    for character in s:\n",
    "        if ord(character) > 127:\n",
    "            sum += 1\n",
    "    if sum > 3:\n",
    "        return False\n",
    "    else:\n",
    "        return True"
   ]
  },
  {
   "cell_type": "markdown",
   "metadata": {},
   "source": [
    "#### Removing non-English apps"
   ]
  },
  {
   "cell_type": "code",
   "execution_count": 14,
   "metadata": {
    "collapsed": false
   },
   "outputs": [
    {
     "name": "stdout",
     "output_type": "stream",
     "text": [
      "Android rows: 9614\n",
      "Apple rows: 6183\n"
     ]
    }
   ],
   "source": [
    "#creating a list of English apps. If function above returns True, we add the row\n",
    "android_en = []\n",
    "for row in android_clean:\n",
    "    name = row[0]\n",
    "    if en_string(name):\n",
    "        android_en.append(row)\n",
    "        \n",
    "apple_en = []\n",
    "for row in apple[1:]:\n",
    "    name = row[1]\n",
    "    if en_string(name):\n",
    "        apple_en.append(row)\n",
    "\n",
    "print('Android rows:',len(android_en))\n",
    "print('Apple rows:',len(apple_en))"
   ]
  },
  {
   "cell_type": "markdown",
   "metadata": {},
   "source": [
    "### Get apps that are for free"
   ]
  },
  {
   "cell_type": "code",
   "execution_count": 15,
   "metadata": {
    "collapsed": false
   },
   "outputs": [
    {
     "name": "stdout",
     "output_type": "stream",
     "text": [
      "Android: ['App', 'Category', 'Rating', 'Reviews', 'Size', 'Installs', 'Type', 'Price', 'Content Rating', 'Genres', 'Last Updated', 'Current Ver', 'Android Ver']\n",
      "Apple: ['id', 'track_name', 'size_bytes', 'currency', 'price', 'rating_count_tot', 'rating_count_ver', 'user_rating', 'user_rating_ver', 'ver', 'cont_rating', 'prime_genre', 'sup_devices.num', 'ipadSc_urls.num', 'lang.num', 'vpp_lic']\n"
     ]
    }
   ],
   "source": [
    "print('Android:',android[0])\n",
    "print('Apple:',apple[0])"
   ]
  },
  {
   "cell_type": "code",
   "execution_count": 16,
   "metadata": {
    "collapsed": false
   },
   "outputs": [
    {
     "name": "stdout",
     "output_type": "stream",
     "text": [
      "Index for price in Android: 7\n",
      "Index for price in Apple: 4\n"
     ]
    }
   ],
   "source": [
    "print('Index for price in Android:',android[0].index('Price'))\n",
    "print('Index for price in Apple:',apple[0].index('price'))\n",
    "    "
   ]
  },
  {
   "cell_type": "code",
   "execution_count": 17,
   "metadata": {
    "collapsed": false
   },
   "outputs": [
    {
     "name": "stdout",
     "output_type": "stream",
     "text": [
      "Lenght of Android: 8864\n",
      "Lenght of Apple: 3222\n"
     ]
    }
   ],
   "source": [
    "android_en_free = []\n",
    "for row in android_en:\n",
    "    if row[7] == '0':\n",
    "        android_en_free.append(row)\n",
    "        \n",
    "apple_en_free = []\n",
    "for row in apple_en:\n",
    "    if row[4] == '0.0':\n",
    "        apple_en_free.append(row)\n",
    "        \n",
    "print('Lenght of Android:',len(android_en_free))\n",
    "print('Lenght of Apple:',len(apple_en_free))"
   ]
  },
  {
   "cell_type": "markdown",
   "metadata": {},
   "source": [
    "# Apps likely to attract more users"
   ]
  },
  {
   "cell_type": "markdown",
   "metadata": {},
   "source": [
    "#### As our revenue is impacted by the number of people using our apps, we need to develop apps likely to attract more users. Our strategy is: 1) build a minimal version of the app and add it to Google Play 2) If the app has a good respond from users, develop it further 3) If the app is profitable after 6 months, add it to the App Store\n",
    "\n",
    "We need to find app profiles that are successful on both markets. We are going to analyze the most common genres for each market by building frequency tables"
   ]
  },
  {
   "cell_type": "code",
   "execution_count": 18,
   "metadata": {
    "collapsed": false
   },
   "outputs": [
    {
     "name": "stdout",
     "output_type": "stream",
     "text": [
      "[['App', 'Category', 'Rating', 'Reviews', 'Size', 'Installs', 'Type', 'Price', 'Content Rating', 'Genres', 'Last Updated', 'Current Ver', 'Android Ver'], ['Photo Editor & Candy Camera & Grid & ScrapBook', 'ART_AND_DESIGN', '4.1', '159', '19M', '10,000+', 'Free', '0', 'Everyone', 'Art & Design', 'January 7, 2018', '1.0.0', '4.0.3 and up']]\n",
      "\n",
      "[['id', 'track_name', 'size_bytes', 'currency', 'price', 'rating_count_tot', 'rating_count_ver', 'user_rating', 'user_rating_ver', 'ver', 'cont_rating', 'prime_genre', 'sup_devices.num', 'ipadSc_urls.num', 'lang.num', 'vpp_lic'], ['284882215', 'Facebook', '389879808', 'USD', '0.0', '2974676', '212', '3.5', '3.5', '95.0', '4+', 'Social Networking', '37', '1', '29', '1']]\n"
     ]
    }
   ],
   "source": [
    "print(android[0:2])\n",
    "print('')\n",
    "print(apple[0:2])"
   ]
  },
  {
   "cell_type": "markdown",
   "metadata": {},
   "source": [
    "#### The columns to look at are 'Category' and 'Genres' for the android set, and prime_genre for the apple set."
   ]
  },
  {
   "cell_type": "markdown",
   "metadata": {},
   "source": [
    "### We write a function to create a frequency table that takes as input a dataset and an index (corresponding to the column on which the table is generated)"
   ]
  },
  {
   "cell_type": "code",
   "execution_count": 19,
   "metadata": {
    "collapsed": false
   },
   "outputs": [],
   "source": [
    "def freq_table(dataset, column):\n",
    "    freq_dataset = {}\n",
    "    length = len(dataset)\n",
    "    for row in dataset:\n",
    "        element = row[column]\n",
    "        if row[column] in freq_dataset:\n",
    "            freq_dataset[element] += 1\n",
    "        else:\n",
    "            freq_dataset[element] = 1\n",
    "\n",
    "    for key in freq_dataset:\n",
    "        freq_dataset[key] = round((freq_dataset[key]/length)*100,2)\n",
    "    return freq_dataset"
   ]
  },
  {
   "cell_type": "code",
   "execution_count": 20,
   "metadata": {
    "collapsed": false
   },
   "outputs": [
    {
     "data": {
      "text/plain": [
       "{'ART_AND_DESIGN': 0.64,\n",
       " 'AUTO_AND_VEHICLES': 0.93,\n",
       " 'BEAUTY': 0.6,\n",
       " 'BOOKS_AND_REFERENCE': 2.14,\n",
       " 'BUSINESS': 4.59,\n",
       " 'COMICS': 0.62,\n",
       " 'COMMUNICATION': 3.24,\n",
       " 'DATING': 1.86,\n",
       " 'EDUCATION': 1.16,\n",
       " 'ENTERTAINMENT': 0.96,\n",
       " 'EVENTS': 0.71,\n",
       " 'FAMILY': 18.91,\n",
       " 'FINANCE': 3.7,\n",
       " 'FOOD_AND_DRINK': 1.24,\n",
       " 'GAME': 9.72,\n",
       " 'HEALTH_AND_FITNESS': 3.08,\n",
       " 'HOUSE_AND_HOME': 0.82,\n",
       " 'LIBRARIES_AND_DEMO': 0.94,\n",
       " 'LIFESTYLE': 3.9,\n",
       " 'MAPS_AND_NAVIGATION': 1.4,\n",
       " 'MEDICAL': 3.53,\n",
       " 'NEWS_AND_MAGAZINES': 2.8,\n",
       " 'PARENTING': 0.65,\n",
       " 'PERSONALIZATION': 3.32,\n",
       " 'PHOTOGRAPHY': 2.94,\n",
       " 'PRODUCTIVITY': 3.89,\n",
       " 'SHOPPING': 2.25,\n",
       " 'SOCIAL': 2.66,\n",
       " 'SPORTS': 3.4,\n",
       " 'TOOLS': 8.46,\n",
       " 'TRAVEL_AND_LOCAL': 2.34,\n",
       " 'VIDEO_PLAYERS': 1.79,\n",
       " 'WEATHER': 0.8}"
      ]
     },
     "execution_count": 20,
     "metadata": {},
     "output_type": "execute_result"
    }
   ],
   "source": [
    "freq_table(android_en_free,1)"
   ]
  },
  {
   "cell_type": "markdown",
   "metadata": {},
   "source": [
    "#### With the next function we will be able to display the frequency table by descending order"
   ]
  },
  {
   "cell_type": "code",
   "execution_count": 21,
   "metadata": {
    "collapsed": true
   },
   "outputs": [],
   "source": [
    "def display_table(dataset, index):\n",
    "    table = freq_table(dataset, index)\n",
    "    table_display = []\n",
    "    for key in table:\n",
    "        key_val_as_tuple = (table[key], key)\n",
    "        table_display.append(key_val_as_tuple)\n",
    "\n",
    "    table_sorted = sorted(table_display, reverse = True)\n",
    "    for entry in table_sorted:\n",
    "        print(entry[1], ':', entry[0])"
   ]
  },
  {
   "cell_type": "code",
   "execution_count": 22,
   "metadata": {
    "collapsed": false
   },
   "outputs": [
    {
     "name": "stdout",
     "output_type": "stream",
     "text": [
      "FAMILY : 18.91\n",
      "GAME : 9.72\n",
      "TOOLS : 8.46\n",
      "BUSINESS : 4.59\n",
      "LIFESTYLE : 3.9\n",
      "PRODUCTIVITY : 3.89\n",
      "FINANCE : 3.7\n",
      "MEDICAL : 3.53\n",
      "SPORTS : 3.4\n",
      "PERSONALIZATION : 3.32\n",
      "COMMUNICATION : 3.24\n",
      "HEALTH_AND_FITNESS : 3.08\n",
      "PHOTOGRAPHY : 2.94\n",
      "NEWS_AND_MAGAZINES : 2.8\n",
      "SOCIAL : 2.66\n",
      "TRAVEL_AND_LOCAL : 2.34\n",
      "SHOPPING : 2.25\n",
      "BOOKS_AND_REFERENCE : 2.14\n",
      "DATING : 1.86\n",
      "VIDEO_PLAYERS : 1.79\n",
      "MAPS_AND_NAVIGATION : 1.4\n",
      "FOOD_AND_DRINK : 1.24\n",
      "EDUCATION : 1.16\n",
      "ENTERTAINMENT : 0.96\n",
      "LIBRARIES_AND_DEMO : 0.94\n",
      "AUTO_AND_VEHICLES : 0.93\n",
      "HOUSE_AND_HOME : 0.82\n",
      "WEATHER : 0.8\n",
      "EVENTS : 0.71\n",
      "PARENTING : 0.65\n",
      "ART_AND_DESIGN : 0.64\n",
      "COMICS : 0.62\n",
      "BEAUTY : 0.6\n"
     ]
    }
   ],
   "source": [
    "display_table(android_en_free,1)"
   ]
  },
  {
   "cell_type": "markdown",
   "metadata": {},
   "source": [
    "The most popular category in Google Play for free apps in English is the family category. The content of this category is mainly games for kids.\n",
    "\n",
    "A good number of apps are designed for practical purposes (tools, business, lifestyle, etc.).\n",
    "\n",
    "The general impression is that on Google Play there is a good representation of practical apps."
   ]
  },
  {
   "cell_type": "code",
   "execution_count": 23,
   "metadata": {
    "collapsed": false
   },
   "outputs": [
    {
     "name": "stdout",
     "output_type": "stream",
     "text": [
      "Games : 58.16\n",
      "Entertainment : 7.88\n",
      "Photo & Video : 4.97\n",
      "Education : 3.66\n",
      "Social Networking : 3.29\n",
      "Shopping : 2.61\n",
      "Utilities : 2.51\n",
      "Sports : 2.14\n",
      "Music : 2.05\n",
      "Health & Fitness : 2.02\n",
      "Productivity : 1.74\n",
      "Lifestyle : 1.58\n",
      "News : 1.33\n",
      "Travel : 1.24\n",
      "Finance : 1.12\n",
      "Weather : 0.87\n",
      "Food & Drink : 0.81\n",
      "Reference : 0.56\n",
      "Business : 0.53\n",
      "Book : 0.43\n",
      "Navigation : 0.19\n",
      "Medical : 0.19\n",
      "Catalogs : 0.12\n"
     ]
    }
   ],
   "source": [
    "display_table(apple_en_free,11)"
   ]
  },
  {
   "cell_type": "markdown",
   "metadata": {},
   "source": [
    "More than a half (58.16%) of the English free apps in Apple Store are games. Entertainment apps, photo and video apps are next, followed by social networking, amounting for 3.29% of the apps present in our data set.\n",
    "\n",
    "The general impression is that on App Store, the part containing free English apps is dominated by apps that are designed for fun (games, entertainment, photo and video, social networking, sports, music, etc.), while apps with practical purposes (education, shopping, utilities, productivity, lifestyle, etc.) are more rare."
   ]
  },
  {
   "cell_type": "markdown",
   "metadata": {},
   "source": [
    "## Most Popular Apps by Genre on the App Store¶\n",
    "\n",
    "In order to get an idea about the kind of apps that have most users, we will calculate it by calculating the average number of user ratings per app genre on the App Store. We will take the total number of user ratings (column rating_count_tot)."
   ]
  },
  {
   "cell_type": "code",
   "execution_count": 24,
   "metadata": {
    "collapsed": false
   },
   "outputs": [
    {
     "name": "stdout",
     "output_type": "stream",
     "text": [
      "Medical :  612.0\n",
      "Photo & Video :  28441.54\n",
      "Music :  57326.53\n",
      "Entertainment :  14029.83\n",
      "Business :  7491.12\n",
      "Sports :  23008.9\n",
      "Education :  7003.98\n",
      "Utilities :  18684.46\n",
      "Productivity :  21028.41\n",
      "Health & Fitness :  23298.02\n",
      "Social Networking :  71548.35\n",
      "Navigation :  86090.33\n",
      "Food & Drink :  33333.92\n",
      "Book :  39758.5\n",
      "Lifestyle :  16485.76\n",
      "Finance :  31467.94\n",
      "Reference :  74942.11\n",
      "Catalogs :  4004.0\n",
      "Travel :  28243.8\n",
      "News :  21248.02\n",
      "Games :  22788.67\n",
      "Shopping :  26919.69\n",
      "Weather :  52279.89\n"
     ]
    }
   ],
   "source": [
    "apple_genres = freq_table(apple_en_free,11)\n",
    "\n",
    "for genre in apple_genres:\n",
    "    total = 0 #to calculate number of ratings\n",
    "    len_genre = 0 #this is the number of apps in a specific range\n",
    "    for row in apple_en_free:\n",
    "        genre_app = row[11]\n",
    "        if genre_app == genre:\n",
    "            n_ratings = float(row[5])\n",
    "            total += n_ratings\n",
    "            len_genre += 1\n",
    "    avg_user_ratings = total/len_genre\n",
    "    print(genre, ': ',round(avg_user_ratings,2))"
   ]
  },
  {
   "cell_type": "markdown",
   "metadata": {},
   "source": [
    "On average, navigation apps have the highest number of user reviews."
   ]
  },
  {
   "cell_type": "code",
   "execution_count": 25,
   "metadata": {
    "collapsed": false
   },
   "outputs": [
    {
     "name": "stdout",
     "output_type": "stream",
     "text": [
      "Waze - GPS Navigation, Maps & Real-time Traffic : 345046\n",
      "Google Maps - Navigation & Transit : 154911\n",
      "Geocaching® : 12811\n",
      "CoPilot GPS – Car Navigation & Offline Maps : 3582\n",
      "ImmobilienScout24: Real Estate Search in Germany : 187\n",
      "Railway Route Search : 5\n"
     ]
    }
   ],
   "source": [
    "for row in apple_en_free:\n",
    "    if row[11] == 'Navigation':\n",
    "        print(row[1], ':', row[5]) # print name and number of ratings"
   ]
  },
  {
   "cell_type": "markdown",
   "metadata": {},
   "source": [
    "The numbers seem to be highly influenced by the app 'Waze - GPS Navigation'. For a more detailed analysis, we can remove later on these popular apps from the list to get a better representation. Let's examine other popular categories:"
   ]
  },
  {
   "cell_type": "code",
   "execution_count": 26,
   "metadata": {
    "collapsed": false
   },
   "outputs": [
    {
     "name": "stdout",
     "output_type": "stream",
     "text": [
      "Apps in the Reference category\n",
      "Bible : 985920\n",
      "Dictionary.com Dictionary & Thesaurus : 200047\n",
      "Dictionary.com Dictionary & Thesaurus for iPad : 54175\n",
      "Google Translate : 26786\n",
      "Muslim Pro: Ramadan 2017 Prayer Times, Azan, Quran : 18418\n",
      "New Furniture Mods - Pocket Wiki & Game Tools for Minecraft PC Edition : 17588\n",
      "Merriam-Webster Dictionary : 16849\n",
      "Night Sky : 12122\n",
      "City Maps for Minecraft PE - The Best Maps for Minecraft Pocket Edition (MCPE) : 8535\n",
      "LUCKY BLOCK MOD ™ for Minecraft PC Edition - The Best Pocket Wiki & Mods Installer Tools : 4693\n",
      "GUNS MODS for Minecraft PC Edition - Mods Tools : 1497\n",
      "Guides for Pokémon GO - Pokemon GO News and Cheats : 826\n",
      "WWDC : 762\n",
      "Horror Maps for Minecraft PE - Download The Scariest Maps for Minecraft Pocket Edition (MCPE) Free : 718\n",
      "VPN Express : 14\n",
      "Real Bike Traffic Rider Virtual Reality Glasses : 8\n",
      "教えて!goo : 0\n",
      "Jishokun-Japanese English Dictionary & Translator : 0\n",
      "\n",
      "Apps in the Social Networking category\n",
      "Facebook : 2974676\n",
      "Pinterest : 1061624\n",
      "Skype for iPhone : 373519\n",
      "Messenger : 351466\n",
      "Tumblr : 334293\n",
      "WhatsApp Messenger : 287589\n",
      "Kik : 260965\n",
      "ooVoo – Free Video Call, Text and Voice : 177501\n",
      "TextNow - Unlimited Text + Calls : 164963\n",
      "Viber Messenger – Text & Call : 164249\n",
      "Followers - Social Analytics For Instagram : 112778\n",
      "MeetMe - Chat and Meet New People : 97072\n",
      "We Heart It - Fashion, wallpapers, quotes, tattoos : 90414\n",
      "InsTrack for Instagram - Analytics Plus More : 85535\n",
      "Tango - Free Video Call, Voice and Chat : 75412\n",
      "LinkedIn : 71856\n",
      "Match™ - #1 Dating App. : 60659\n",
      "Skype for iPad : 60163\n",
      "POF - Best Dating App for Conversations : 52642\n",
      "Timehop : 49510\n",
      "Find My Family, Friends & iPhone - Life360 Locator : 43877\n",
      "Whisper - Share, Express, Meet : 39819\n",
      "Hangouts : 36404\n",
      "LINE PLAY - Your Avatar World : 34677\n",
      "WeChat : 34584\n",
      "Badoo - Meet New People, Chat, Socialize. : 34428\n",
      "Followers + for Instagram - Follower Analytics : 28633\n",
      "GroupMe : 28260\n",
      "Marco Polo Video Walkie Talkie : 27662\n",
      "Miitomo : 23965\n",
      "SimSimi : 23530\n",
      "Grindr - Gay and same sex guys chat, meet and date : 23201\n",
      "Wishbone - Compare Anything : 20649\n",
      "imo video calls and chat : 18841\n",
      "After School - Funny Anonymous School News : 18482\n",
      "Quick Reposter - Repost, Regram and Reshare Photos : 17694\n",
      "Weibo HD : 16772\n",
      "Repost for Instagram : 15185\n",
      "Live.me – Live Video Chat & Make Friends Nearby : 14724\n",
      "Nextdoor : 14402\n",
      "Followers Analytics for Instagram - InstaReport : 13914\n",
      "YouNow: Live Stream Video Chat : 12079\n",
      "FollowMeter for Instagram - Followers Tracking : 11976\n",
      "LINE : 11437\n",
      "eHarmony™ Dating App - Meet Singles : 11124\n",
      "Discord - Chat for Gamers : 9152\n",
      "QQ : 9109\n",
      "Telegram Messenger : 7573\n",
      "Weibo : 7265\n",
      "Periscope - Live Video Streaming Around the World : 6062\n",
      "Chat for Whatsapp - iPad Version : 5060\n",
      "QQ HD : 5058\n",
      "Followers Analysis Tool For Instagram App Free : 4253\n",
      "live.ly - live video streaming : 4145\n",
      "Houseparty - Group Video Chat : 3991\n",
      "SOMA Messenger : 3232\n",
      "Monkey : 3060\n",
      "Down To Lunch : 2535\n",
      "Flinch - Video Chat Staring Contest : 2134\n",
      "Highrise - Your Avatar Community : 2011\n",
      "LOVOO - Dating Chat : 1985\n",
      "PlayStation®Messages : 1918\n",
      "BOO! - Video chat camera with filters & stickers : 1805\n",
      "Qzone : 1649\n",
      "Chatous - Chat with new people : 1609\n",
      "Kiwi - Q&A : 1538\n",
      "GhostCodes - a discovery app for Snapchat : 1313\n",
      "Jodel : 1193\n",
      "FireChat : 1037\n",
      "Google Duo - simple video calling : 1033\n",
      "Fiesta by Tango - Chat & Meet New People : 885\n",
      "Google Allo — smart messaging : 862\n",
      "Peach — share vividly : 727\n",
      "Hey! VINA - Where Women Meet New Friends : 719\n",
      "Battlefield™ Companion : 689\n",
      "All Devices for WhatsApp - Messenger for iPad : 682\n",
      "Chat for Pokemon Go - GoChat : 500\n",
      "IAmNaughty – Dating App to Meet New People Online : 463\n",
      "Qzone HD : 458\n",
      "Zenly - Locate your friends in realtime : 427\n",
      "League of Legends Friends : 420\n",
      "豆瓣 : 407\n",
      "Candid - Speak Your Mind Freely : 398\n",
      "知乎 : 397\n",
      "Selfeo : 366\n",
      "Fake-A-Location Free ™ : 354\n",
      "Popcorn Buzz - Free Group Calls : 281\n",
      "Fam — Group video calling for iMessage : 279\n",
      "QQ International : 274\n",
      "Ameba : 269\n",
      "SoundCloud Pulse: for creators : 240\n",
      "Tantan : 235\n",
      "Cougar Dating & Life Style App for Mature Women : 213\n",
      "Rawr Messenger - Dab your chat : 180\n",
      "WhenToPost: Best Time to Post Photos for Instagram : 158\n",
      "Inke—Broadcast an amazing life : 147\n",
      "Mustknow - anonymous video Q&A : 53\n",
      "CTFxCmoji : 39\n",
      "Lobi : 36\n",
      "Chain: Collaborate On MyVideo Story/Group Video : 35\n",
      "botman - Real time video chat : 7\n",
      "BestieBox : 0\n",
      "MATCH ON LINE chat : 0\n",
      "niconico ch : 0\n",
      "LINE BLOG : 0\n",
      "bit-tube - Live Stream Video Chat : 0\n"
     ]
    }
   ],
   "source": [
    "print('Apps in the Reference category')\n",
    "for row in apple_en_free:\n",
    "    if row[11] == 'Reference':\n",
    "        print(row[1], ':', row[5]) # print name and number of ratings\n",
    "print('')      \n",
    "print('Apps in the Social Networking category')\n",
    "for row in apple_en_free:\n",
    "    if row[11] == 'Social Networking':\n",
    "        print(row[1], ':', row[5]) # print name and number of ratings"
   ]
  },
  {
   "cell_type": "markdown",
   "metadata": {},
   "source": [
    "Again, we find each genre is highly influenced by very popular apps. These apps might make our genre look more popular than it really is, as we are making the classification according to the number of users.\n",
    "\n",
    "Before we proceed with removing these popular apps, let's have a look at the Google Play Store dataset:"
   ]
  },
  {
   "cell_type": "markdown",
   "metadata": {
    "collapsed": false
   },
   "source": [
    "## Most Popular Apps by Genre on the Google Play Store¶"
   ]
  },
  {
   "cell_type": "code",
   "execution_count": 27,
   "metadata": {
    "collapsed": false
   },
   "outputs": [
    {
     "name": "stdout",
     "output_type": "stream",
     "text": [
      "DATING :  854028.83\n",
      "MEDICAL :  120550.62\n",
      "FOOD_AND_DRINK :  1924897.74\n",
      "GAME :  15588015.6\n",
      "ENTERTAINMENT :  11640705.88\n",
      "FAMILY :  3695641.82\n",
      "FINANCE :  1387692.48\n",
      "TOOLS :  10801391.3\n",
      "SHOPPING :  7036877.31\n",
      "MAPS_AND_NAVIGATION :  4056941.77\n",
      "PHOTOGRAPHY :  17840110.4\n",
      "VIDEO_PLAYERS :  24727872.45\n",
      "SPORTS :  3638640.14\n",
      "WEATHER :  5074486.2\n",
      "TRAVEL_AND_LOCAL :  13984077.71\n",
      "BUSINESS :  1712290.15\n",
      "COMMUNICATION :  38456119.17\n",
      "PRODUCTIVITY :  16787331.34\n",
      "SOCIAL :  23253652.13\n",
      "EVENTS :  253542.22\n",
      "BOOKS_AND_REFERENCE :  8767811.89\n",
      "ART_AND_DESIGN :  1986335.09\n",
      "BEAUTY :  513151.89\n",
      "LIFESTYLE :  1437816.27\n",
      "EDUCATION :  1833495.15\n",
      "PARENTING :  542603.62\n",
      "PERSONALIZATION :  5201482.61\n",
      "AUTO_AND_VEHICLES :  647317.82\n",
      "COMICS :  817657.27\n",
      "NEWS_AND_MAGAZINES :  9549178.47\n",
      "HOUSE_AND_HOME :  1331540.56\n",
      "HEALTH_AND_FITNESS :  4188821.99\n",
      "LIBRARIES_AND_DEMO :  638503.73\n"
     ]
    }
   ],
   "source": [
    "android_genres = freq_table(android_en_free,1)\n",
    "\n",
    "for genre in android_genres:\n",
    "    total = 0 #to calculate number of ratings\n",
    "    len_genre = 0 #this is the number of apps in a specific range\n",
    "    for row in android_en_free:\n",
    "        genre_app = row[1]\n",
    "        if genre_app == genre:\n",
    "            n_ratings = row[5] #n_installs\n",
    "            n_ratings = n_ratings.replace('+','')\n",
    "            n_ratings = n_ratings.replace(',','')\n",
    "            total += float(n_ratings)\n",
    "            len_genre += 1\n",
    "    avg_user_ratings = total/len_genre\n",
    "    print(genre, ': ',round(avg_user_ratings,2))"
   ]
  },
  {
   "cell_type": "markdown",
   "metadata": {},
   "source": [
    "On average, 'Communications' apps present the highest number of installations. Again, this would indicate that Communications is the most popular category, however this number seems to be skewed by the presence of a few very popular apps:"
   ]
  },
  {
   "cell_type": "code",
   "execution_count": 28,
   "metadata": {
    "collapsed": false
   },
   "outputs": [
    {
     "name": "stdout",
     "output_type": "stream",
     "text": [
      "WhatsApp Messenger :  1,000,000,000+\n",
      "imo beta free calls and text :  100,000,000+\n",
      "Android Messages :  100,000,000+\n",
      "Google Duo - High Quality Video Calls :  500,000,000+\n",
      "Messenger – Text and Video Chat for Free :  1,000,000,000+\n",
      "imo free video calls and chat :  500,000,000+\n",
      "Skype - free IM & video calls :  1,000,000,000+\n",
      "Who :  100,000,000+\n",
      "GO SMS Pro - Messenger, Free Themes, Emoji :  100,000,000+\n",
      "LINE: Free Calls & Messages :  500,000,000+\n",
      "Google Chrome: Fast & Secure :  1,000,000,000+\n",
      "Firefox Browser fast & private :  100,000,000+\n",
      "UC Browser - Fast Download Private & Secure :  500,000,000+\n",
      "Gmail :  1,000,000,000+\n",
      "Hangouts :  1,000,000,000+\n",
      "Messenger Lite: Free Calls & Messages :  100,000,000+\n",
      "Kik :  100,000,000+\n",
      "KakaoTalk: Free Calls & Text :  100,000,000+\n",
      "Opera Mini - fast web browser :  100,000,000+\n",
      "Opera Browser: Fast and Secure :  100,000,000+\n",
      "Telegram :  100,000,000+\n",
      "Truecaller: Caller ID, SMS spam blocking & Dialer :  100,000,000+\n",
      "UC Browser Mini -Tiny Fast Private & Secure :  100,000,000+\n",
      "Viber Messenger :  500,000,000+\n",
      "WeChat :  100,000,000+\n",
      "Yahoo Mail – Stay Organized :  100,000,000+\n",
      "BBM - Free Calls & Messages :  100,000,000+\n"
     ]
    }
   ],
   "source": [
    "for row in android_en_free:\n",
    "    name = row[0]\n",
    "    genre = row[1]\n",
    "    if genre == 'COMMUNICATION' and (row[5] == '1,000,000,000+'\n",
    "                                      or row[5] == '500,000,000+'\n",
    "                                      or row[5] == '100,000,000+'):\n",
    "        print (name,': ',row[5])"
   ]
  },
  {
   "cell_type": "markdown",
   "metadata": {
    "collapsed": true
   },
   "source": [
    "'Health and Fitness' is another category that seems to be popular, but the lower number of installations may indicate the absence of numerous popular apps:"
   ]
  },
  {
   "cell_type": "code",
   "execution_count": 29,
   "metadata": {
    "collapsed": false
   },
   "outputs": [
    {
     "name": "stdout",
     "output_type": "stream",
     "text": [
      "Step Counter - Calorie Counter :  500,000+\n",
      "Lose Belly Fat in 30 Days - Flat Stomach :  5,000,000+\n",
      "Pedometer - Step Counter Free & Calorie Burner :  1,000,000+\n",
      "Six Pack in 30 Days - Abs Workout :  10,000,000+\n",
      "Lose Weight in 30 Days :  10,000,000+\n",
      "Pedometer :  10,000,000+\n",
      "LG Health :  10,000,000+\n",
      "Step Counter - Pedometer Free & Calorie Counter :  10,000,000+\n",
      "Pedometer, Step Counter & Weight Loss Tracker App :  10,000,000+\n",
      "Sportractive GPS Running Cycling Distance Tracker :  1,000,000+\n",
      "30 Day Fitness Challenge - Workout at Home :  10,000,000+\n",
      "Home Workout for Men - Bodybuilding :  1,000,000+\n",
      "Fat Burning Workout - Home Weight lose :  100,000+\n",
      "Buttocks and Abdomen :  500,000+\n",
      "Walking for Weight Loss - Walk Tracker :  100,000+\n",
      "Running & Jogging :  500,000+\n",
      "Sleep Sounds :  1,000,000+\n",
      "Fitbit :  10,000,000+\n",
      "Lose Belly Fat-Home Abs Fitness Workout :  50,000+\n",
      "Cycling - Bike Tracker :  500,000+\n",
      "Abs Training-Burn belly fat :  100,000+\n",
      "Calorie Counter - EasyFit free :  1,000,000+\n",
      "Aunjai i lert u :  500,000+\n",
      "Garmin Connect™ :  10,000,000+\n",
      "BetterMe: Weight Loss Workouts :  5,000,000+\n",
      "Bike Computer - GPS Cycling Tracker :  1,000,000+\n",
      "Six Packs for Man–Body Building with No Equipment :  100,000+\n",
      "Running Distance Tracker + :  1,000,000+\n",
      "The TK-App - everything under control :  100,000+\n",
      "Runkeeper - GPS Track Run Walk :  10,000,000+\n",
      "Walking: Pedometer diet :  1,000,000+\n",
      "Recipes for hair and face tried :  500,000+\n",
      "Abs Workout - 30 Days Fitness App for Six Pack Abs :  100,000+\n",
      "8fit Workouts & Meal Planner :  10,000,000+\n",
      "Keep Trainer - Workout Trainer & Fitness Coach :  1,000,000+\n",
      "Couch to 10K Running Trainer :  500,000+\n",
      "PumpUp — Fitness Community :  1,000,000+\n",
      "Home workouts - fat burning, abs, legs, arms,chest :  1,000,000+\n",
      "Running Weight Loss Walking Jogging Hiking FITAPP :  1,000,000+\n",
      "Strava Training: Track Running, Cycling & Swimming :  10,000,000+\n",
      "Workout Trainer: fitness coach :  10,000,000+\n",
      "Fabulous: Motivate Me! Meditate, Relax, Sleep :  5,000,000+\n",
      "StrongLifts 5x5 Workout Gym Log & Personal Trainer :  1,000,000+\n",
      "Run with Map My Run :  5,000,000+\n",
      "7 Minute Workout :  10,000,000+\n",
      "Workout Tracker & Gym Trainer - Fitness Log Book :  500,000+\n",
      "Freeletics: Personal Trainer & Fitness Workouts :  10,000,000+\n",
      "Fitbit Coach :  1,000,000+\n",
      "JEFIT Workout Tracker, Weight Lifting, Gym Log App :  5,000,000+\n",
      "Map My Ride GPS Cycling Riding :  1,000,000+\n",
      "Daily Workouts - Exercise Fitness Routine Trainer :  10,000,000+\n",
      "Google Fit - Fitness Tracking :  10,000,000+\n",
      "Weight Loss Running by Verv :  1,000,000+\n",
      "Sworkit: Workouts & Fitness Plans :  5,000,000+\n",
      "Map My Fitness Workout Trainer :  1,000,000+\n",
      "Sports Tracker Running Cycling :  5,000,000+\n",
      "Seven - 7 Minute Workout Training Challenge :  1,000,000+\n",
      "Daily Yoga - Yoga Fitness Plans :  5,000,000+\n",
      "Relax Meditation: Sleep with Sleep Sounds :  1,000,000+\n",
      "Free Meditation - Take a Break :  100,000+\n",
      "Meditate OM :  1,000,000+\n",
      "Yoga - Track Yoga :  500,000+\n",
      "My Chakra Meditation :  500,000+\n",
      "Relax with Andrew Johnson Lite :  100,000+\n",
      "Meditation Music - Relax, Yoga :  1,000,000+\n",
      "Down Dog: Great Yoga Anywhere :  500,000+\n",
      "21-Day Meditation Experience :  100,000+\n",
      "My Chakra Meditation 2 :  100,000+\n",
      "Simply Yoga - Fitness Trainer for Workouts & Poses :  1,000,000+\n",
      "Relax Melodies: Sleep Sounds :  5,000,000+\n",
      "Simple Habit Meditation :  500,000+\n",
      "Headspace: Meditation & Mindfulness :  10,000,000+\n",
      "Yoga Studio: Mind & Body :  100,000+\n",
      "Pregnancy & Baby Tracker :  1,000,000+\n",
      "My Cycles Period and Ovulation :  1,000,000+\n",
      "I’m Expecting - Pregnancy App :  1,000,000+\n",
      "The Bump Pregnancy Tracker :  1,000,000+\n",
      "My Days - Ovulation Calendar & Period Tracker ™ :  5,000,000+\n",
      "Best Ovulation Tracker Fertility Calendar App Glow :  1,000,000+\n",
      "Eve Period Tracker - Love, Sex & Relationships App :  1,000,000+\n",
      "Fertility Friend Ovulation App :  1,000,000+\n",
      "Pregnancy Tracker :  500,000+\n",
      "Period Tracker :  10,000,000+\n",
      "Spot On Period, Birth Control, & Cycle Tracker :  500,000+\n",
      "OvuView: Ovulation and Fertility :  1,000,000+\n",
      "Period Tracker - Period Calendar Ovulation Tracker :  100,000,000+\n",
      "Period Tracker Clue: Period and Ovulation Tracker :  10,000,000+\n",
      "Calorie Counter - MyFitnessPal :  50,000,000+\n",
      "WomanLog Calendar :  5,000,000+\n",
      "Geocaching® :  5,000,000+\n",
      "Map My Hike GPS Hiking :  500,000+\n",
      "ViewRanger - Hike, Ride or Walk :  1,000,000+\n",
      "Runtastic Mountain Bike GPS Tracker :  1,000,000+\n",
      "AllTrails: Hiking, Running & Mountain Bike Trails :  1,000,000+\n",
      "Water Drink Reminder :  10,000,000+\n",
      "Zombies, Run! 5k Training (Free) :  50,000+\n",
      "Tracks :  50,000+\n",
      "YAZIO Calorie Counter, Nutrition Diary & Diet Plan :  5,000,000+\n",
      "Technutri - calorie counter, diet and carb tracker :  5,000,000+\n",
      "Couch to 5K by RunDouble :  1,000,000+\n",
      "Fooducate Healthy Weight Loss & Calorie Counter :  1,000,000+\n",
      "Weight Watchers Mobile :  5,000,000+\n",
      "Walk with Map My Walk :  5,000,000+\n",
      "My Diet Coach - Weight Loss Motivation & Tracker :  10,000,000+\n",
      "Endomondo - Running & Walking :  10,000,000+\n",
      "Nike+ Run Club :  10,000,000+\n",
      "Lose It! - Calorie Counter :  10,000,000+\n",
      "Runtastic Running App & Mile Tracker :  10,000,000+\n",
      "Calorie Counter - MyNetDiary :  1,000,000+\n",
      "10 Best Foods for You :  500,000+\n",
      "MyPlate Calorie Tracker :  1,000,000+\n",
      "My Diet Diary Calorie Counter :  1,000,000+\n",
      "Calorie Counter - Macros :  100,000+\n",
      "Weight Loss Tracker - RecStyle :  1,000,000+\n",
      "Lark - 24/7 Health Coach :  100,000+\n",
      "MealLogger-Photo Food Journal :  50,000+\n",
      "Health and Nutrition Guide :  500,000+\n",
      "Calorie Counter & Diet Tracker :  1,000,000+\n",
      "Food Calorie Calculator :  100,000+\n",
      "Monitor Your Weight :  5,000,000+\n",
      "Calorie Counter by FatSecret :  10,000,000+\n",
      "Eat Fit - Diet and Health Free :  100,000+\n",
      "Self Healing :  500,000+\n",
      "Happify :  100,000+\n",
      "Binaural Beats Therapy :  1,000,000+\n",
      "Pacifica - Stress & Anxiety :  500,000+\n",
      "Relaxing Sounds :  100,000+\n",
      "White Sound Pro :  500,000+\n",
      "Insight Timer - Free Meditation App :  1,000,000+\n",
      "Self-help Anxiety Management :  500,000+\n",
      "Brain Waves - Binaural Beats :  500,000+\n",
      "Prana Breath: Calm & Meditate :  1,000,000+\n",
      "7 Cups: Anxiety & Stress Chat :  500,000+\n",
      "Calm - Meditate, Sleep, Relax :  5,000,000+\n",
      "White Noise Lite :  1,000,000+\n",
      "Stop, Breathe & Think: Meditation & Mindfulness :  1,000,000+\n",
      "Oral-B App :  1,000,000+\n",
      "f.lux (preview, root-only) :  500,000+\n",
      "HPlus :  100,000+\n",
      "H Band 2.0 :  500,000+\n",
      "H-Connect :  5,000+\n",
      "H Band :  10,000+\n",
      "J - Style Pro :  10,000+\n",
      "K Health :  50,000+\n",
      "Vi Trainer :  5,000+\n",
      "30 Day Ab Challenge :  500,000+\n",
      "Ultimate Ab & Core Workouts :  1,000,000+\n",
      "Abs Workout - Burn Belly Fat with No Equipment :  10,000,000+\n",
      "6 Pack Promise - Ultimate Abs :  1,000,000+\n",
      "Abs, Core & Back Workout Challenge :  100,000+\n",
      "AB Mobile App :  100,000+\n",
      "Daily Ab Workout - Core & Abs Fitness Exercises :  10,000,000+\n",
      "Abs workout 7 minutes :  1,000,000+\n",
      "30 Day Ab Challenge FREE :  1,000,000+\n",
      "ABS Workout - Belly workout, 30 days AB :  100,000+\n",
      "7 minute abs workout - Daily Ab Workout :  100,000+\n",
      "5 Minute Ab Workouts :  50,000+\n",
      "30 Day AB Challenge - Lumowell :  10,000+\n",
      "Ab Workouts :  1,000,000+\n",
      "Ab Workouts - Ab Generator :  1,000+\n",
      "Abs workout - 21 Day Fitness Challenge :  1,000,000+\n",
      "Ladies' Ab Workout FREE :  1,000,000+\n",
      "30-Day Ab Challenge Tracker :  10,000+\n",
      "AF Hydro :  10,000+\n",
      "AF Nutrition - Integratori :  100+\n",
      "AH Connect (Adventist Health) :  1,000+\n",
      "be'ah :  10+\n",
      "We're Working Out - Al Kavadlo :  50,000+\n",
      "AQ Dentals :  10+\n",
      "Sleep as Android Gear Addon :  100,000+\n",
      "Sleep as Android Garmin Addon :  10,000+\n",
      "Samsung Health :  500,000,000+\n",
      "Runtastic Sleep Better: Sleep Cycle & Smart Alarm :  5,000,000+\n",
      "Twilight: Blue light filter :  5,000,000+\n",
      "MediBeat for AW - Android (1) :  500+\n",
      "Q7 SmartWatch :  10,000+\n",
      "AY Oakmont :  10+\n",
      "Cures A-Z :  100,000+\n",
      "BA Accesible :  1,000+\n",
      "Fitness Dance for Zum.ba Workout Exercise :  50,000+\n",
      "BD Provider App :  5,000+\n",
      "BF Scale Health Fitness Tool :  1,000+\n",
      "Women\"s Health Tips(Breast,Face,Body,weight lose) :  1,000,000+\n",
      "Revita.bg :  10+\n",
      "Blood Glucose Tracker :  100,000+\n",
      "BH by Kinomap :  10,000+\n",
      "BH - Fitness & Nutrition :  1+\n",
      "FitConsole :  50,000+\n",
      "Run on Earth :  50,000+\n",
      "Treadmill Workouts Free (P) :  1,000+\n",
      "The Daily BJ :  500+\n",
      "Hungry Girl Diet Bk. Companion :  1,000+\n",
      "BL ONLINE PERSONAL TRAINING :  5+\n",
      "Poop Tracker - Toilet Log :  10,000+\n",
      "BM Pharmacy :  1,000+\n",
      "BM Physiotherapy Clinic :  100+\n",
      "My BP Lab :  10,000+\n",
      "BP Tracker :  1,000+\n",
      "MI-BP :  50+\n",
      "Deep Breathe BP :  1,000+\n",
      "BP Toolbox :  1,000+\n",
      "Blood pressure :  500,000+\n",
      "Bacterial Vaginosis :  100+\n",
      "Bacterial Vaginosis 🇺🇸 :  500+\n",
      "Bacteria Vaginosis :  1,000,000+\n",
      "Bacterial vaginosis Treatment - Sexual disease :  500+\n",
      "Home Remedies for Bacterial Infections :  50+\n",
      "Benefit Extras Mobile App :  1,000+\n",
      "Kick Axe Bx :  1+\n",
      "CB Martial Arts :  10+\n",
      "CB NFC Pendant :  50+\n",
      "CB Fit :  10+\n",
      "C B Patel Health Club :  100+\n",
      "CF SPOT :  100+\n",
      "CF Talenti :  100+\n",
      "Thrive CF :  100+\n",
      "CF Townsville :  100+\n",
      "CF Etowah :  100+\n",
      "Cystic Fibrosis Symptoms, Doctors & Treatments :  100+\n",
      "CF Themis :  100+\n",
      "CF Riga :  100+\n",
      "Casa CF :  500+\n",
      "CampGladiator :  50,000+\n",
      "CG Fit Scale :  1,000+\n",
      "Pharmacy CI - Pharmacies de garde Côte d'Ivoire :  100,000+\n",
      "Pharmacie de Garde CI et Prix :  100,000+\n",
      "CJ Fitness :  10,000+\n",
      "The CJ Rubric :  100+\n",
      "CK SKILLZ :  50+\n",
      "CK Life :  100+\n",
      "CK Pharmacies :  100+\n",
      "CK Active :  10+\n",
      "CL-Customer Care :  5+\n",
      "CL Strength :  50+\n",
      "The ClubHouse CR :  100+\n",
      "Evolution Marketing CR :  1,000+\n",
      "I AM C.T. :  1,000+\n",
      "Cy's Elma Pharmacy :  10+\n",
      "DG Fitness :  100+\n",
      "DG Xplained :  100+\n",
      "Stop Smoking - EasyQuit free :  500,000+\n",
      "Dr. Muscle :  10,000+\n",
      "DS Companion :  50+\n",
      "Eat Right Diet (by Dt Shreya's Family Diet Clinic) :  10+\n",
      "Dt. Jyothi Srinivas :  100+\n",
      "DT NO.I :  1,000+\n",
      "Bodyworks DW :  10+\n",
      "D.W Bien Être :  10+\n",
      "Cloud DX Connected Health :  100+\n",
      "DY Fitness :  10+\n",
      "PHARMAGUIDE (DZ) :  5,000+\n",
      "DEM DZ :  100+\n",
      "Eb & flow Yoga Studio :  10+\n",
      "EF Coach :  500+\n",
      "EF Academy :  50+\n",
      "Period Tracker, Pregnancy Calculator & Calendar 🌸 :  10,000+\n",
      "EO App. SelfCompassion to you :  100+\n",
      "Nike Training Club - Workouts & Fitness Plans :  10,000,000+\n",
      "Ideal Weight, BMI Calculator :  5,000,000+\n",
      "Fitness & Bodybuilding :  5,000,000+\n",
      "CALIOPE EU: Air Quality :  1,000+\n",
      "Home Workout - No Equipment :  10,000,000+\n",
      "EW MOTION THERAPY :  10+\n",
      "SCI-Ex :  1,000+\n",
      "X your Ex - Break Up Treatment :  5,000+\n",
      "Dream EZ :  10,000+\n",
      "FD Fitness :  50+\n",
      "L!FE Premium Training :  100+\n",
      "Santa Fe Thrive :  50+\n",
      "Burn Your Fat With Me! FG :  1,000,000+\n",
      "FH Calculator :  500+\n",
      "Restaurant Inspections - FL :  10,000+\n",
      "Florida Blue :  100,000+\n"
     ]
    }
   ],
   "source": [
    "for row in android_en_free:\n",
    "    name = row[0]\n",
    "    genre = row[1]\n",
    "    if genre == 'HEALTH_AND_FITNESS':\n",
    "        print (name,': ',row[5])"
   ]
  },
  {
   "cell_type": "code",
   "execution_count": 31,
   "metadata": {
    "collapsed": false
   },
   "outputs": [
    {
     "name": "stdout",
     "output_type": "stream",
     "text": [
      "Period Tracker - Period Calendar Ovulation Tracker :  100,000,000+\n",
      "Samsung Health :  500,000,000+\n"
     ]
    }
   ],
   "source": [
    "for row in android_en_free:\n",
    "    name = row[0]\n",
    "    genre = row[1]\n",
    "    if genre == 'HEALTH_AND_FITNESS' and (row[5] == '1,000,000,000+'\n",
    "                                      or row[5] == '500,000,000+'\n",
    "                                      or row[5] == '100,000,000+'):\n",
    "        print (name,': ',row[5])"
   ]
  },
  {
   "cell_type": "markdown",
   "metadata": {},
   "source": [
    "The health and fitness genre includes a variety of apps. The number of extremely popular apps that skew the average is much lower in comparison with other genres, so this market shows potential. Let's try to get some app ideas based on the kind of apps that are somewhere in the middle in terms of popularity (between 1,000,000 and 100,000,000 downloads):"
   ]
  },
  {
   "cell_type": "code",
   "execution_count": 32,
   "metadata": {
    "collapsed": false
   },
   "outputs": [
    {
     "name": "stdout",
     "output_type": "stream",
     "text": [
      "Lose Belly Fat in 30 Days - Flat Stomach :  5,000,000+\n",
      "Pedometer - Step Counter Free & Calorie Burner :  1,000,000+\n",
      "Six Pack in 30 Days - Abs Workout :  10,000,000+\n",
      "Lose Weight in 30 Days :  10,000,000+\n",
      "Pedometer :  10,000,000+\n",
      "LG Health :  10,000,000+\n",
      "Step Counter - Pedometer Free & Calorie Counter :  10,000,000+\n",
      "Pedometer, Step Counter & Weight Loss Tracker App :  10,000,000+\n",
      "Sportractive GPS Running Cycling Distance Tracker :  1,000,000+\n",
      "30 Day Fitness Challenge - Workout at Home :  10,000,000+\n",
      "Home Workout for Men - Bodybuilding :  1,000,000+\n",
      "Sleep Sounds :  1,000,000+\n",
      "Fitbit :  10,000,000+\n",
      "Calorie Counter - EasyFit free :  1,000,000+\n",
      "Garmin Connect™ :  10,000,000+\n",
      "BetterMe: Weight Loss Workouts :  5,000,000+\n",
      "Bike Computer - GPS Cycling Tracker :  1,000,000+\n",
      "Running Distance Tracker + :  1,000,000+\n",
      "Runkeeper - GPS Track Run Walk :  10,000,000+\n",
      "Walking: Pedometer diet :  1,000,000+\n",
      "8fit Workouts & Meal Planner :  10,000,000+\n",
      "Keep Trainer - Workout Trainer & Fitness Coach :  1,000,000+\n",
      "PumpUp — Fitness Community :  1,000,000+\n",
      "Home workouts - fat burning, abs, legs, arms,chest :  1,000,000+\n",
      "Running Weight Loss Walking Jogging Hiking FITAPP :  1,000,000+\n",
      "Strava Training: Track Running, Cycling & Swimming :  10,000,000+\n",
      "Workout Trainer: fitness coach :  10,000,000+\n",
      "Fabulous: Motivate Me! Meditate, Relax, Sleep :  5,000,000+\n",
      "StrongLifts 5x5 Workout Gym Log & Personal Trainer :  1,000,000+\n",
      "Run with Map My Run :  5,000,000+\n",
      "7 Minute Workout :  10,000,000+\n",
      "Freeletics: Personal Trainer & Fitness Workouts :  10,000,000+\n",
      "Fitbit Coach :  1,000,000+\n",
      "JEFIT Workout Tracker, Weight Lifting, Gym Log App :  5,000,000+\n",
      "Map My Ride GPS Cycling Riding :  1,000,000+\n",
      "Daily Workouts - Exercise Fitness Routine Trainer :  10,000,000+\n",
      "Google Fit - Fitness Tracking :  10,000,000+\n",
      "Weight Loss Running by Verv :  1,000,000+\n",
      "Sworkit: Workouts & Fitness Plans :  5,000,000+\n",
      "Map My Fitness Workout Trainer :  1,000,000+\n",
      "Sports Tracker Running Cycling :  5,000,000+\n",
      "Seven - 7 Minute Workout Training Challenge :  1,000,000+\n",
      "Daily Yoga - Yoga Fitness Plans :  5,000,000+\n",
      "Relax Meditation: Sleep with Sleep Sounds :  1,000,000+\n",
      "Meditate OM :  1,000,000+\n",
      "Meditation Music - Relax, Yoga :  1,000,000+\n",
      "Simply Yoga - Fitness Trainer for Workouts & Poses :  1,000,000+\n",
      "Relax Melodies: Sleep Sounds :  5,000,000+\n",
      "Headspace: Meditation & Mindfulness :  10,000,000+\n",
      "Pregnancy & Baby Tracker :  1,000,000+\n",
      "My Cycles Period and Ovulation :  1,000,000+\n",
      "I’m Expecting - Pregnancy App :  1,000,000+\n",
      "The Bump Pregnancy Tracker :  1,000,000+\n",
      "My Days - Ovulation Calendar & Period Tracker ™ :  5,000,000+\n",
      "Best Ovulation Tracker Fertility Calendar App Glow :  1,000,000+\n",
      "Eve Period Tracker - Love, Sex & Relationships App :  1,000,000+\n",
      "Fertility Friend Ovulation App :  1,000,000+\n",
      "Period Tracker :  10,000,000+\n",
      "OvuView: Ovulation and Fertility :  1,000,000+\n",
      "Period Tracker Clue: Period and Ovulation Tracker :  10,000,000+\n",
      "Calorie Counter - MyFitnessPal :  50,000,000+\n",
      "WomanLog Calendar :  5,000,000+\n",
      "Geocaching® :  5,000,000+\n",
      "ViewRanger - Hike, Ride or Walk :  1,000,000+\n",
      "Runtastic Mountain Bike GPS Tracker :  1,000,000+\n",
      "AllTrails: Hiking, Running & Mountain Bike Trails :  1,000,000+\n",
      "Water Drink Reminder :  10,000,000+\n",
      "YAZIO Calorie Counter, Nutrition Diary & Diet Plan :  5,000,000+\n",
      "Technutri - calorie counter, diet and carb tracker :  5,000,000+\n",
      "Couch to 5K by RunDouble :  1,000,000+\n",
      "Fooducate Healthy Weight Loss & Calorie Counter :  1,000,000+\n",
      "Weight Watchers Mobile :  5,000,000+\n",
      "Walk with Map My Walk :  5,000,000+\n",
      "My Diet Coach - Weight Loss Motivation & Tracker :  10,000,000+\n",
      "Endomondo - Running & Walking :  10,000,000+\n",
      "Nike+ Run Club :  10,000,000+\n",
      "Lose It! - Calorie Counter :  10,000,000+\n",
      "Runtastic Running App & Mile Tracker :  10,000,000+\n",
      "Calorie Counter - MyNetDiary :  1,000,000+\n",
      "MyPlate Calorie Tracker :  1,000,000+\n",
      "My Diet Diary Calorie Counter :  1,000,000+\n",
      "Weight Loss Tracker - RecStyle :  1,000,000+\n",
      "Calorie Counter & Diet Tracker :  1,000,000+\n",
      "Monitor Your Weight :  5,000,000+\n",
      "Calorie Counter by FatSecret :  10,000,000+\n",
      "Binaural Beats Therapy :  1,000,000+\n",
      "Insight Timer - Free Meditation App :  1,000,000+\n",
      "Prana Breath: Calm & Meditate :  1,000,000+\n",
      "Calm - Meditate, Sleep, Relax :  5,000,000+\n",
      "White Noise Lite :  1,000,000+\n",
      "Stop, Breathe & Think: Meditation & Mindfulness :  1,000,000+\n",
      "Oral-B App :  1,000,000+\n",
      "Ultimate Ab & Core Workouts :  1,000,000+\n",
      "Abs Workout - Burn Belly Fat with No Equipment :  10,000,000+\n",
      "6 Pack Promise - Ultimate Abs :  1,000,000+\n",
      "Daily Ab Workout - Core & Abs Fitness Exercises :  10,000,000+\n",
      "Abs workout 7 minutes :  1,000,000+\n",
      "30 Day Ab Challenge FREE :  1,000,000+\n",
      "Ab Workouts :  1,000,000+\n",
      "Abs workout - 21 Day Fitness Challenge :  1,000,000+\n",
      "Ladies' Ab Workout FREE :  1,000,000+\n",
      "Runtastic Sleep Better: Sleep Cycle & Smart Alarm :  5,000,000+\n",
      "Twilight: Blue light filter :  5,000,000+\n",
      "Women\"s Health Tips(Breast,Face,Body,weight lose) :  1,000,000+\n",
      "Bacteria Vaginosis :  1,000,000+\n",
      "Nike Training Club - Workouts & Fitness Plans :  10,000,000+\n",
      "Ideal Weight, BMI Calculator :  5,000,000+\n",
      "Fitness & Bodybuilding :  5,000,000+\n",
      "Home Workout - No Equipment :  10,000,000+\n",
      "Burn Your Fat With Me! FG :  1,000,000+\n"
     ]
    }
   ],
   "source": [
    "for row in android_en_free:\n",
    "    name = row[0]\n",
    "    genre = row[1]\n",
    "    if genre == 'HEALTH_AND_FITNESS' and (row[5] == '1,000,000+'\n",
    "                                      or row[5] == '5,000,000+'\n",
    "                                      or row[5] == '10,000,000+'\n",
    "                                      or row[5] == '50,000,000+'):\n",
    "        print (name,': ',row[5])"
   ]
  },
  {
   "cell_type": "markdown",
   "metadata": {},
   "source": [
    "This segment seems to be dominated by software for counting calories burned, steps or tracking exercise, so it's probably not a good idea to build similar apps since there'll be some significant competition. As the market is full of apps, we will need to add some special features besides the ones already offered. This might include a combination of different features integrated into one, daily goals notifications, amount of exercise left to fulfill the goal, reminders, a forum where people can motivate each other, etc."
   ]
  },
  {
   "cell_type": "markdown",
   "metadata": {},
   "source": [
    "# Conclusions\n",
    "\n",
    "In this project, we analyzed data about the App Store and Google Play mobile apps with the goal of recommending an app profile that can be profitable for both markets.\n",
    "\n",
    "We concluded that creating a fitness app that integrates all of the seen features into one and adding other desirable features could be profitable for both the Google Play and the App Store markets."
   ]
  },
  {
   "cell_type": "code",
   "execution_count": null,
   "metadata": {
    "collapsed": true
   },
   "outputs": [],
   "source": []
  }
 ],
 "metadata": {
  "kernelspec": {
   "display_name": "Python 3",
   "language": "python",
   "name": "python3"
  },
  "language_info": {
   "codemirror_mode": {
    "name": "ipython",
    "version": 3
   },
   "file_extension": ".py",
   "mimetype": "text/x-python",
   "name": "python",
   "nbconvert_exporter": "python",
   "pygments_lexer": "ipython3",
   "version": "3.4.3"
  }
 },
 "nbformat": 4,
 "nbformat_minor": 2
}
